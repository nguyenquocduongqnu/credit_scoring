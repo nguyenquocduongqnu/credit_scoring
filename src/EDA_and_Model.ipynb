{
 "cells": [
  {
   "cell_type": "markdown",
   "metadata": {},
   "source": [
    "# Home Credit Default Risk\n",
    "$^1$Nguyễn Quốc Dương, $^2$Đặng Thế Vĩnh Hiển\n",
    "\n",
    "$^1$Học viên cao học, Khoa học dữ liệu ứng dụng, Đại học Quy Nhơn\n",
    "\n",
    "$^2$Khoa Toán và Thống kê, Đại học Quy Nhơn"
   ]
  },
  {
   "cell_type": "markdown",
   "metadata": {},
   "source": [
    "## Dự đoán khả năng trả nợ của mỗi người nộp đơn như thế nào?"
   ]
  },
  {
   "cell_type": "markdown",
   "metadata": {},
   "source": [
    "## Import necessary libraries."
   ]
  },
  {
   "cell_type": "code",
   "execution_count": 1,
   "metadata": {},
   "outputs": [],
   "source": [
    "import numpy as np\n",
    "import pandas as pd\n",
    "import matplotlib.pyplot as plt\n",
    "import seaborn as sns\n",
    "import warnings\n",
    "warnings.filterwarnings(\"ignore\")\n",
    "%matplotlib inline"
   ]
  },
  {
   "cell_type": "markdown",
   "metadata": {},
   "source": [
    "## Read the data files"
   ]
  },
  {
   "cell_type": "code",
   "execution_count": 157,
   "metadata": {},
   "outputs": [],
   "source": [
    "train = pd.read_csv(\"../dataset/application_train.csv\")\n",
    "test = pd.read_csv(\"../dataset/application_test.csv\")"
   ]
  },
  {
   "cell_type": "code",
   "execution_count": 146,
   "metadata": {},
   "outputs": [
    {
     "data": {
      "text/html": [
       "<div>\n",
       "<style scoped>\n",
       "    .dataframe tbody tr th:only-of-type {\n",
       "        vertical-align: middle;\n",
       "    }\n",
       "\n",
       "    .dataframe tbody tr th {\n",
       "        vertical-align: top;\n",
       "    }\n",
       "\n",
       "    .dataframe thead th {\n",
       "        text-align: right;\n",
       "    }\n",
       "</style>\n",
       "<table border=\"1\" class=\"dataframe\">\n",
       "  <thead>\n",
       "    <tr style=\"text-align: right;\">\n",
       "      <th></th>\n",
       "      <th>SK_ID_CURR</th>\n",
       "      <th>NAME_CONTRACT_TYPE</th>\n",
       "      <th>FLAG_OWN_CAR</th>\n",
       "      <th>FLAG_OWN_REALTY</th>\n",
       "      <th>CNT_CHILDREN</th>\n",
       "      <th>AMT_INCOME_TOTAL</th>\n",
       "      <th>AMT_CREDIT</th>\n",
       "      <th>AMT_ANNUITY</th>\n",
       "      <th>AMT_GOODS_PRICE</th>\n",
       "      <th>REGION_POPULATION_RELATIVE</th>\n",
       "      <th>...</th>\n",
       "      <th>EXT_SOURCE_3 EXT_SOURCE_2^2 DAYS_BIRTH</th>\n",
       "      <th>EXT_SOURCE_3 EXT_SOURCE_2 EXT_SOURCE_1^2</th>\n",
       "      <th>EXT_SOURCE_3 EXT_SOURCE_2 EXT_SOURCE_1 DAYS_BIRTH</th>\n",
       "      <th>EXT_SOURCE_3 EXT_SOURCE_2 DAYS_BIRTH^2</th>\n",
       "      <th>EXT_SOURCE_2^3 DAYS_BIRTH</th>\n",
       "      <th>EXT_SOURCE_2^2 EXT_SOURCE_1 DAYS_BIRTH</th>\n",
       "      <th>DIR</th>\n",
       "      <th>AIR</th>\n",
       "      <th>ACR</th>\n",
       "      <th>DAR</th>\n",
       "    </tr>\n",
       "  </thead>\n",
       "  <tbody>\n",
       "    <tr>\n",
       "      <th>0</th>\n",
       "      <td>100002</td>\n",
       "      <td>0</td>\n",
       "      <td>0</td>\n",
       "      <td>1</td>\n",
       "      <td>0</td>\n",
       "      <td>202500.0</td>\n",
       "      <td>406597.5</td>\n",
       "      <td>24700.5</td>\n",
       "      <td>351000.0</td>\n",
       "      <td>0.018801</td>\n",
       "      <td>...</td>\n",
       "      <td>-91.172960</td>\n",
       "      <td>0.000253</td>\n",
       "      <td>-28.791659</td>\n",
       "      <td>3.280441e+06</td>\n",
       "      <td>-172.008376</td>\n",
       "      <td>-54.318807</td>\n",
       "      <td>2.007889</td>\n",
       "      <td>0.121978</td>\n",
       "      <td>0.060749</td>\n",
       "      <td>0.067329</td>\n",
       "    </tr>\n",
       "    <tr>\n",
       "      <th>1</th>\n",
       "      <td>100003</td>\n",
       "      <td>0</td>\n",
       "      <td>0</td>\n",
       "      <td>0</td>\n",
       "      <td>0</td>\n",
       "      <td>270000.0</td>\n",
       "      <td>1293502.5</td>\n",
       "      <td>35698.5</td>\n",
       "      <td>1129500.0</td>\n",
       "      <td>0.003541</td>\n",
       "      <td>...</td>\n",
       "      <td>-3474.605044</td>\n",
       "      <td>0.032271</td>\n",
       "      <td>-1738.108981</td>\n",
       "      <td>9.361535e+07</td>\n",
       "      <td>-4039.144848</td>\n",
       "      <td>-2020.509913</td>\n",
       "      <td>4.790750</td>\n",
       "      <td>0.132217</td>\n",
       "      <td>0.027598</td>\n",
       "      <td>0.070862</td>\n",
       "    </tr>\n",
       "    <tr>\n",
       "      <th>2</th>\n",
       "      <td>100004</td>\n",
       "      <td>1</td>\n",
       "      <td>1</td>\n",
       "      <td>1</td>\n",
       "      <td>0</td>\n",
       "      <td>67500.0</td>\n",
       "      <td>135000.0</td>\n",
       "      <td>6750.0</td>\n",
       "      <td>135000.0</td>\n",
       "      <td>0.010032</td>\n",
       "      <td>...</td>\n",
       "      <td>-4294.187521</td>\n",
       "      <td>0.103841</td>\n",
       "      <td>-3908.621640</td>\n",
       "      <td>1.471224e+08</td>\n",
       "      <td>-3272.066505</td>\n",
       "      <td>-2978.274675</td>\n",
       "      <td>2.000000</td>\n",
       "      <td>0.100000</td>\n",
       "      <td>0.050000</td>\n",
       "      <td>0.011814</td>\n",
       "    </tr>\n",
       "    <tr>\n",
       "      <th>3</th>\n",
       "      <td>100006</td>\n",
       "      <td>0</td>\n",
       "      <td>0</td>\n",
       "      <td>1</td>\n",
       "      <td>0</td>\n",
       "      <td>135000.0</td>\n",
       "      <td>312682.5</td>\n",
       "      <td>29686.5</td>\n",
       "      <td>297000.0</td>\n",
       "      <td>0.008019</td>\n",
       "      <td>...</td>\n",
       "      <td>-4303.904125</td>\n",
       "      <td>0.089142</td>\n",
       "      <td>-3348.134986</td>\n",
       "      <td>1.257541e+08</td>\n",
       "      <td>-5229.895165</td>\n",
       "      <td>-4068.490949</td>\n",
       "      <td>2.316167</td>\n",
       "      <td>0.219900</td>\n",
       "      <td>0.094941</td>\n",
       "      <td>0.159905</td>\n",
       "    </tr>\n",
       "    <tr>\n",
       "      <th>4</th>\n",
       "      <td>100007</td>\n",
       "      <td>0</td>\n",
       "      <td>0</td>\n",
       "      <td>1</td>\n",
       "      <td>0</td>\n",
       "      <td>121500.0</td>\n",
       "      <td>513000.0</td>\n",
       "      <td>21865.5</td>\n",
       "      <td>513000.0</td>\n",
       "      <td>0.028663</td>\n",
       "      <td>...</td>\n",
       "      <td>-1111.296208</td>\n",
       "      <td>0.044231</td>\n",
       "      <td>-1742.320648</td>\n",
       "      <td>6.863256e+07</td>\n",
       "      <td>-670.042495</td>\n",
       "      <td>-1050.510985</td>\n",
       "      <td>4.222222</td>\n",
       "      <td>0.179963</td>\n",
       "      <td>0.042623</td>\n",
       "      <td>0.152418</td>\n",
       "    </tr>\n",
       "  </tbody>\n",
       "</table>\n",
       "<p>5 rows × 258 columns</p>\n",
       "</div>"
      ],
      "text/plain": [
       "   SK_ID_CURR  NAME_CONTRACT_TYPE  FLAG_OWN_CAR  FLAG_OWN_REALTY  \\\n",
       "0      100002                   0             0                1   \n",
       "1      100003                   0             0                0   \n",
       "2      100004                   1             1                1   \n",
       "3      100006                   0             0                1   \n",
       "4      100007                   0             0                1   \n",
       "\n",
       "   CNT_CHILDREN  AMT_INCOME_TOTAL  AMT_CREDIT  AMT_ANNUITY  AMT_GOODS_PRICE  \\\n",
       "0             0          202500.0    406597.5      24700.5         351000.0   \n",
       "1             0          270000.0   1293502.5      35698.5        1129500.0   \n",
       "2             0           67500.0    135000.0       6750.0         135000.0   \n",
       "3             0          135000.0    312682.5      29686.5         297000.0   \n",
       "4             0          121500.0    513000.0      21865.5         513000.0   \n",
       "\n",
       "   REGION_POPULATION_RELATIVE  ...  EXT_SOURCE_3 EXT_SOURCE_2^2 DAYS_BIRTH  \\\n",
       "0                    0.018801  ...                              -91.172960   \n",
       "1                    0.003541  ...                            -3474.605044   \n",
       "2                    0.010032  ...                            -4294.187521   \n",
       "3                    0.008019  ...                            -4303.904125   \n",
       "4                    0.028663  ...                            -1111.296208   \n",
       "\n",
       "   EXT_SOURCE_3 EXT_SOURCE_2 EXT_SOURCE_1^2  \\\n",
       "0                                  0.000253   \n",
       "1                                  0.032271   \n",
       "2                                  0.103841   \n",
       "3                                  0.089142   \n",
       "4                                  0.044231   \n",
       "\n",
       "   EXT_SOURCE_3 EXT_SOURCE_2 EXT_SOURCE_1 DAYS_BIRTH  \\\n",
       "0                                         -28.791659   \n",
       "1                                       -1738.108981   \n",
       "2                                       -3908.621640   \n",
       "3                                       -3348.134986   \n",
       "4                                       -1742.320648   \n",
       "\n",
       "   EXT_SOURCE_3 EXT_SOURCE_2 DAYS_BIRTH^2  EXT_SOURCE_2^3 DAYS_BIRTH  \\\n",
       "0                            3.280441e+06                -172.008376   \n",
       "1                            9.361535e+07               -4039.144848   \n",
       "2                            1.471224e+08               -3272.066505   \n",
       "3                            1.257541e+08               -5229.895165   \n",
       "4                            6.863256e+07                -670.042495   \n",
       "\n",
       "   EXT_SOURCE_2^2 EXT_SOURCE_1 DAYS_BIRTH       DIR       AIR       ACR  \\\n",
       "0                              -54.318807  2.007889  0.121978  0.060749   \n",
       "1                            -2020.509913  4.790750  0.132217  0.027598   \n",
       "2                            -2978.274675  2.000000  0.100000  0.050000   \n",
       "3                            -4068.490949  2.316167  0.219900  0.094941   \n",
       "4                            -1050.510985  4.222222  0.179963  0.042623   \n",
       "\n",
       "        DAR  \n",
       "0  0.067329  \n",
       "1  0.070862  \n",
       "2  0.011814  \n",
       "3  0.159905  \n",
       "4  0.152418  \n",
       "\n",
       "[5 rows x 258 columns]"
      ]
     },
     "execution_count": 146,
     "metadata": {},
     "output_type": "execute_result"
    }
   ],
   "source": [
    "train.head()"
   ]
  },
  {
   "cell_type": "code",
   "execution_count": 6,
   "metadata": {},
   "outputs": [
    {
     "data": {
      "text/html": [
       "<div>\n",
       "<style scoped>\n",
       "    .dataframe tbody tr th:only-of-type {\n",
       "        vertical-align: middle;\n",
       "    }\n",
       "\n",
       "    .dataframe tbody tr th {\n",
       "        vertical-align: top;\n",
       "    }\n",
       "\n",
       "    .dataframe thead th {\n",
       "        text-align: right;\n",
       "    }\n",
       "</style>\n",
       "<table border=\"1\" class=\"dataframe\">\n",
       "  <thead>\n",
       "    <tr style=\"text-align: right;\">\n",
       "      <th></th>\n",
       "      <th>SK_ID_CURR</th>\n",
       "      <th>TARGET</th>\n",
       "      <th>CNT_CHILDREN</th>\n",
       "      <th>AMT_INCOME_TOTAL</th>\n",
       "      <th>AMT_CREDIT</th>\n",
       "      <th>AMT_ANNUITY</th>\n",
       "      <th>AMT_GOODS_PRICE</th>\n",
       "      <th>REGION_POPULATION_RELATIVE</th>\n",
       "      <th>DAYS_BIRTH</th>\n",
       "      <th>DAYS_EMPLOYED</th>\n",
       "      <th>...</th>\n",
       "      <th>FLAG_DOCUMENT_18</th>\n",
       "      <th>FLAG_DOCUMENT_19</th>\n",
       "      <th>FLAG_DOCUMENT_20</th>\n",
       "      <th>FLAG_DOCUMENT_21</th>\n",
       "      <th>AMT_REQ_CREDIT_BUREAU_HOUR</th>\n",
       "      <th>AMT_REQ_CREDIT_BUREAU_DAY</th>\n",
       "      <th>AMT_REQ_CREDIT_BUREAU_WEEK</th>\n",
       "      <th>AMT_REQ_CREDIT_BUREAU_MON</th>\n",
       "      <th>AMT_REQ_CREDIT_BUREAU_QRT</th>\n",
       "      <th>AMT_REQ_CREDIT_BUREAU_YEAR</th>\n",
       "    </tr>\n",
       "  </thead>\n",
       "  <tbody>\n",
       "    <tr>\n",
       "      <th>count</th>\n",
       "      <td>307511.000000</td>\n",
       "      <td>307511.000000</td>\n",
       "      <td>307511.000000</td>\n",
       "      <td>3.075110e+05</td>\n",
       "      <td>3.075110e+05</td>\n",
       "      <td>307499.000000</td>\n",
       "      <td>3.072330e+05</td>\n",
       "      <td>307511.000000</td>\n",
       "      <td>307511.000000</td>\n",
       "      <td>307511.000000</td>\n",
       "      <td>...</td>\n",
       "      <td>307511.000000</td>\n",
       "      <td>307511.000000</td>\n",
       "      <td>307511.000000</td>\n",
       "      <td>307511.000000</td>\n",
       "      <td>265992.000000</td>\n",
       "      <td>265992.000000</td>\n",
       "      <td>265992.000000</td>\n",
       "      <td>265992.000000</td>\n",
       "      <td>265992.000000</td>\n",
       "      <td>265992.000000</td>\n",
       "    </tr>\n",
       "    <tr>\n",
       "      <th>mean</th>\n",
       "      <td>278180.518577</td>\n",
       "      <td>0.080729</td>\n",
       "      <td>0.417052</td>\n",
       "      <td>1.687979e+05</td>\n",
       "      <td>5.990260e+05</td>\n",
       "      <td>27108.573909</td>\n",
       "      <td>5.383962e+05</td>\n",
       "      <td>0.020868</td>\n",
       "      <td>-16036.995067</td>\n",
       "      <td>63815.045904</td>\n",
       "      <td>...</td>\n",
       "      <td>0.008130</td>\n",
       "      <td>0.000595</td>\n",
       "      <td>0.000507</td>\n",
       "      <td>0.000335</td>\n",
       "      <td>0.006402</td>\n",
       "      <td>0.007000</td>\n",
       "      <td>0.034362</td>\n",
       "      <td>0.267395</td>\n",
       "      <td>0.265474</td>\n",
       "      <td>1.899974</td>\n",
       "    </tr>\n",
       "    <tr>\n",
       "      <th>std</th>\n",
       "      <td>102790.175348</td>\n",
       "      <td>0.272419</td>\n",
       "      <td>0.722121</td>\n",
       "      <td>2.371231e+05</td>\n",
       "      <td>4.024908e+05</td>\n",
       "      <td>14493.737315</td>\n",
       "      <td>3.694465e+05</td>\n",
       "      <td>0.013831</td>\n",
       "      <td>4363.988632</td>\n",
       "      <td>141275.766519</td>\n",
       "      <td>...</td>\n",
       "      <td>0.089798</td>\n",
       "      <td>0.024387</td>\n",
       "      <td>0.022518</td>\n",
       "      <td>0.018299</td>\n",
       "      <td>0.083849</td>\n",
       "      <td>0.110757</td>\n",
       "      <td>0.204685</td>\n",
       "      <td>0.916002</td>\n",
       "      <td>0.794056</td>\n",
       "      <td>1.869295</td>\n",
       "    </tr>\n",
       "    <tr>\n",
       "      <th>min</th>\n",
       "      <td>100002.000000</td>\n",
       "      <td>0.000000</td>\n",
       "      <td>0.000000</td>\n",
       "      <td>2.565000e+04</td>\n",
       "      <td>4.500000e+04</td>\n",
       "      <td>1615.500000</td>\n",
       "      <td>4.050000e+04</td>\n",
       "      <td>0.000290</td>\n",
       "      <td>-25229.000000</td>\n",
       "      <td>-17912.000000</td>\n",
       "      <td>...</td>\n",
       "      <td>0.000000</td>\n",
       "      <td>0.000000</td>\n",
       "      <td>0.000000</td>\n",
       "      <td>0.000000</td>\n",
       "      <td>0.000000</td>\n",
       "      <td>0.000000</td>\n",
       "      <td>0.000000</td>\n",
       "      <td>0.000000</td>\n",
       "      <td>0.000000</td>\n",
       "      <td>0.000000</td>\n",
       "    </tr>\n",
       "    <tr>\n",
       "      <th>25%</th>\n",
       "      <td>189145.500000</td>\n",
       "      <td>0.000000</td>\n",
       "      <td>0.000000</td>\n",
       "      <td>1.125000e+05</td>\n",
       "      <td>2.700000e+05</td>\n",
       "      <td>16524.000000</td>\n",
       "      <td>2.385000e+05</td>\n",
       "      <td>0.010006</td>\n",
       "      <td>-19682.000000</td>\n",
       "      <td>-2760.000000</td>\n",
       "      <td>...</td>\n",
       "      <td>0.000000</td>\n",
       "      <td>0.000000</td>\n",
       "      <td>0.000000</td>\n",
       "      <td>0.000000</td>\n",
       "      <td>0.000000</td>\n",
       "      <td>0.000000</td>\n",
       "      <td>0.000000</td>\n",
       "      <td>0.000000</td>\n",
       "      <td>0.000000</td>\n",
       "      <td>0.000000</td>\n",
       "    </tr>\n",
       "    <tr>\n",
       "      <th>50%</th>\n",
       "      <td>278202.000000</td>\n",
       "      <td>0.000000</td>\n",
       "      <td>0.000000</td>\n",
       "      <td>1.471500e+05</td>\n",
       "      <td>5.135310e+05</td>\n",
       "      <td>24903.000000</td>\n",
       "      <td>4.500000e+05</td>\n",
       "      <td>0.018850</td>\n",
       "      <td>-15750.000000</td>\n",
       "      <td>-1213.000000</td>\n",
       "      <td>...</td>\n",
       "      <td>0.000000</td>\n",
       "      <td>0.000000</td>\n",
       "      <td>0.000000</td>\n",
       "      <td>0.000000</td>\n",
       "      <td>0.000000</td>\n",
       "      <td>0.000000</td>\n",
       "      <td>0.000000</td>\n",
       "      <td>0.000000</td>\n",
       "      <td>0.000000</td>\n",
       "      <td>1.000000</td>\n",
       "    </tr>\n",
       "    <tr>\n",
       "      <th>75%</th>\n",
       "      <td>367142.500000</td>\n",
       "      <td>0.000000</td>\n",
       "      <td>1.000000</td>\n",
       "      <td>2.025000e+05</td>\n",
       "      <td>8.086500e+05</td>\n",
       "      <td>34596.000000</td>\n",
       "      <td>6.795000e+05</td>\n",
       "      <td>0.028663</td>\n",
       "      <td>-12413.000000</td>\n",
       "      <td>-289.000000</td>\n",
       "      <td>...</td>\n",
       "      <td>0.000000</td>\n",
       "      <td>0.000000</td>\n",
       "      <td>0.000000</td>\n",
       "      <td>0.000000</td>\n",
       "      <td>0.000000</td>\n",
       "      <td>0.000000</td>\n",
       "      <td>0.000000</td>\n",
       "      <td>0.000000</td>\n",
       "      <td>0.000000</td>\n",
       "      <td>3.000000</td>\n",
       "    </tr>\n",
       "    <tr>\n",
       "      <th>max</th>\n",
       "      <td>456255.000000</td>\n",
       "      <td>1.000000</td>\n",
       "      <td>19.000000</td>\n",
       "      <td>1.170000e+08</td>\n",
       "      <td>4.050000e+06</td>\n",
       "      <td>258025.500000</td>\n",
       "      <td>4.050000e+06</td>\n",
       "      <td>0.072508</td>\n",
       "      <td>-7489.000000</td>\n",
       "      <td>365243.000000</td>\n",
       "      <td>...</td>\n",
       "      <td>1.000000</td>\n",
       "      <td>1.000000</td>\n",
       "      <td>1.000000</td>\n",
       "      <td>1.000000</td>\n",
       "      <td>4.000000</td>\n",
       "      <td>9.000000</td>\n",
       "      <td>8.000000</td>\n",
       "      <td>27.000000</td>\n",
       "      <td>261.000000</td>\n",
       "      <td>25.000000</td>\n",
       "    </tr>\n",
       "  </tbody>\n",
       "</table>\n",
       "<p>8 rows × 106 columns</p>\n",
       "</div>"
      ],
      "text/plain": [
       "          SK_ID_CURR         TARGET   CNT_CHILDREN  AMT_INCOME_TOTAL  \\\n",
       "count  307511.000000  307511.000000  307511.000000      3.075110e+05   \n",
       "mean   278180.518577       0.080729       0.417052      1.687979e+05   \n",
       "std    102790.175348       0.272419       0.722121      2.371231e+05   \n",
       "min    100002.000000       0.000000       0.000000      2.565000e+04   \n",
       "25%    189145.500000       0.000000       0.000000      1.125000e+05   \n",
       "50%    278202.000000       0.000000       0.000000      1.471500e+05   \n",
       "75%    367142.500000       0.000000       1.000000      2.025000e+05   \n",
       "max    456255.000000       1.000000      19.000000      1.170000e+08   \n",
       "\n",
       "         AMT_CREDIT    AMT_ANNUITY  AMT_GOODS_PRICE  \\\n",
       "count  3.075110e+05  307499.000000     3.072330e+05   \n",
       "mean   5.990260e+05   27108.573909     5.383962e+05   \n",
       "std    4.024908e+05   14493.737315     3.694465e+05   \n",
       "min    4.500000e+04    1615.500000     4.050000e+04   \n",
       "25%    2.700000e+05   16524.000000     2.385000e+05   \n",
       "50%    5.135310e+05   24903.000000     4.500000e+05   \n",
       "75%    8.086500e+05   34596.000000     6.795000e+05   \n",
       "max    4.050000e+06  258025.500000     4.050000e+06   \n",
       "\n",
       "       REGION_POPULATION_RELATIVE     DAYS_BIRTH  DAYS_EMPLOYED  ...  \\\n",
       "count               307511.000000  307511.000000  307511.000000  ...   \n",
       "mean                     0.020868  -16036.995067   63815.045904  ...   \n",
       "std                      0.013831    4363.988632  141275.766519  ...   \n",
       "min                      0.000290  -25229.000000  -17912.000000  ...   \n",
       "25%                      0.010006  -19682.000000   -2760.000000  ...   \n",
       "50%                      0.018850  -15750.000000   -1213.000000  ...   \n",
       "75%                      0.028663  -12413.000000    -289.000000  ...   \n",
       "max                      0.072508   -7489.000000  365243.000000  ...   \n",
       "\n",
       "       FLAG_DOCUMENT_18  FLAG_DOCUMENT_19  FLAG_DOCUMENT_20  FLAG_DOCUMENT_21  \\\n",
       "count     307511.000000     307511.000000     307511.000000     307511.000000   \n",
       "mean           0.008130          0.000595          0.000507          0.000335   \n",
       "std            0.089798          0.024387          0.022518          0.018299   \n",
       "min            0.000000          0.000000          0.000000          0.000000   \n",
       "25%            0.000000          0.000000          0.000000          0.000000   \n",
       "50%            0.000000          0.000000          0.000000          0.000000   \n",
       "75%            0.000000          0.000000          0.000000          0.000000   \n",
       "max            1.000000          1.000000          1.000000          1.000000   \n",
       "\n",
       "       AMT_REQ_CREDIT_BUREAU_HOUR  AMT_REQ_CREDIT_BUREAU_DAY  \\\n",
       "count               265992.000000              265992.000000   \n",
       "mean                     0.006402                   0.007000   \n",
       "std                      0.083849                   0.110757   \n",
       "min                      0.000000                   0.000000   \n",
       "25%                      0.000000                   0.000000   \n",
       "50%                      0.000000                   0.000000   \n",
       "75%                      0.000000                   0.000000   \n",
       "max                      4.000000                   9.000000   \n",
       "\n",
       "       AMT_REQ_CREDIT_BUREAU_WEEK  AMT_REQ_CREDIT_BUREAU_MON  \\\n",
       "count               265992.000000              265992.000000   \n",
       "mean                     0.034362                   0.267395   \n",
       "std                      0.204685                   0.916002   \n",
       "min                      0.000000                   0.000000   \n",
       "25%                      0.000000                   0.000000   \n",
       "50%                      0.000000                   0.000000   \n",
       "75%                      0.000000                   0.000000   \n",
       "max                      8.000000                  27.000000   \n",
       "\n",
       "       AMT_REQ_CREDIT_BUREAU_QRT  AMT_REQ_CREDIT_BUREAU_YEAR  \n",
       "count              265992.000000               265992.000000  \n",
       "mean                    0.265474                    1.899974  \n",
       "std                     0.794056                    1.869295  \n",
       "min                     0.000000                    0.000000  \n",
       "25%                     0.000000                    0.000000  \n",
       "50%                     0.000000                    1.000000  \n",
       "75%                     0.000000                    3.000000  \n",
       "max                   261.000000                   25.000000  \n",
       "\n",
       "[8 rows x 106 columns]"
      ]
     },
     "execution_count": 6,
     "metadata": {},
     "output_type": "execute_result"
    }
   ],
   "source": [
    "train.describe()"
   ]
  },
  {
   "cell_type": "code",
   "execution_count": 7,
   "metadata": {
    "scrolled": true
   },
   "outputs": [
    {
     "data": {
      "text/plain": [
       "<AxesSubplot:xlabel='TARGET', ylabel='count'>"
      ]
     },
     "execution_count": 7,
     "metadata": {},
     "output_type": "execute_result"
    },
    {
     "data": {
      "image/png": "[encoded data removed]",
      "text/plain": [
       "<Figure size 432x288 with 1 Axes>"
      ]
     },
     "metadata": {
      "needs_background": "light"
     },
     "output_type": "display_data"
    }
   ],
   "source": [
    "# Target labels\n",
    "sns.countplot(train.TARGET)"
   ]
  },
  {
   "cell_type": "code",
   "execution_count": 8,
   "metadata": {},
   "outputs": [
    {
     "data": {
      "text/plain": [
       "0    282686\n",
       "1     24825\n",
       "Name: TARGET, dtype: int64"
      ]
     },
     "execution_count": 8,
     "metadata": {},
     "output_type": "execute_result"
    }
   ],
   "source": [
    "train['TARGET'].value_counts()"
   ]
  },
  {
   "cell_type": "markdown",
   "metadata": {},
   "source": [
    "Hiện tượng imbalanced.\n",
    "target 0: trả khoản vay đúng hạn (91.92%)\n",
    "target 1: gặp khó khăn khi trả khoản vay (8.08%)"
   ]
  },
  {
   "cell_type": "code",
   "execution_count": 9,
   "metadata": {
    "scrolled": true
   },
   "outputs": [
    {
     "name": "stdout",
     "output_type": "stream",
     "text": [
      "The train dataset dimensions are as follows: (307511, 122)\n",
      "The test dataset dimensions are as follows: (48744, 121)\n"
     ]
    }
   ],
   "source": [
    "print(\"The train dataset dimensions are as follows: {}\".format(train.shape))\n",
    "print(\"The test dataset dimensions are as follows: {}\".format(test.shape))"
   ]
  },
  {
   "cell_type": "code",
   "execution_count": 147,
   "metadata": {},
   "outputs": [
    {
     "name": "stdout",
     "output_type": "stream",
     "text": [
      "Train dataset: \n",
      "uint8      117\n",
      "float64     97\n",
      "int64       39\n",
      "int32        4\n",
      "bool         1\n",
      "dtype: int64\n",
      "\n",
      "Test dataset: \n",
      "uint8      117\n",
      "float64     97\n",
      "int64       38\n",
      "int32        4\n",
      "bool         1\n",
      "dtype: int64\n"
     ]
    }
   ],
   "source": [
    "print(\"Train dataset: \\n{}\".format(train.dtypes.value_counts()))\n",
    "print()\n",
    "print(\"Test dataset: \\n{}\".format(test.dtypes.value_counts())) "
   ]
  },
  {
   "cell_type": "code",
   "execution_count": 11,
   "metadata": {},
   "outputs": [],
   "source": [
    "# Check missing values\n",
    "def missing_columns(dataframe):\n",
    "    \"\"\"\n",
    "    Returns a dataframe that contains missing column names and \n",
    "    percent of missing values in relation to the whole dataframe.\n",
    "    \n",
    "    dataframe: dataframe that gives the column names and their % of missing values\n",
    "    \"\"\"\n",
    "    \n",
    "    # find the missing values\n",
    "    missing_values = dataframe.isnull().sum().sort_values(ascending=False)\n",
    "    \n",
    "    # percentage of missing values in relation to the overall size\n",
    "    missing_values_pct = 100 * missing_values/len(dataframe)\n",
    "    \n",
    "    # create a new dataframe which is a concatinated version\n",
    "    concat_values = pd.concat([missing_values, missing_values/len(dataframe),missing_values_pct.round(1)],axis=1)\n",
    "\n",
    "    # give new col names\n",
    "    concat_values.columns = ['Missing Count','Missing Count Ratio','Missing Count %']\n",
    "    \n",
    "    # return the required values\n",
    "    return concat_values[concat_values.iloc[:,1]!=0]\n",
    "    "
   ]
  },
  {
   "cell_type": "code",
   "execution_count": 12,
   "metadata": {
    "scrolled": true
   },
   "outputs": [
    {
     "data": {
      "text/html": [
       "<div>\n",
       "<style scoped>\n",
       "    .dataframe tbody tr th:only-of-type {\n",
       "        vertical-align: middle;\n",
       "    }\n",
       "\n",
       "    .dataframe tbody tr th {\n",
       "        vertical-align: top;\n",
       "    }\n",
       "\n",
       "    .dataframe thead th {\n",
       "        text-align: right;\n",
       "    }\n",
       "</style>\n",
       "<table border=\"1\" class=\"dataframe\">\n",
       "  <thead>\n",
       "    <tr style=\"text-align: right;\">\n",
       "      <th></th>\n",
       "      <th>Missing Count</th>\n",
       "      <th>Missing Count Ratio</th>\n",
       "      <th>Missing Count %</th>\n",
       "    </tr>\n",
       "  </thead>\n",
       "  <tbody>\n",
       "    <tr>\n",
       "      <th>COMMONAREA_MEDI</th>\n",
       "      <td>214865</td>\n",
       "      <td>0.698723</td>\n",
       "      <td>69.9</td>\n",
       "    </tr>\n",
       "    <tr>\n",
       "      <th>COMMONAREA_AVG</th>\n",
       "      <td>214865</td>\n",
       "      <td>0.698723</td>\n",
       "      <td>69.9</td>\n",
       "    </tr>\n",
       "    <tr>\n",
       "      <th>COMMONAREA_MODE</th>\n",
       "      <td>214865</td>\n",
       "      <td>0.698723</td>\n",
       "      <td>69.9</td>\n",
       "    </tr>\n",
       "    <tr>\n",
       "      <th>NONLIVINGAPARTMENTS_MODE</th>\n",
       "      <td>213514</td>\n",
       "      <td>0.694330</td>\n",
       "      <td>69.4</td>\n",
       "    </tr>\n",
       "    <tr>\n",
       "      <th>NONLIVINGAPARTMENTS_AVG</th>\n",
       "      <td>213514</td>\n",
       "      <td>0.694330</td>\n",
       "      <td>69.4</td>\n",
       "    </tr>\n",
       "    <tr>\n",
       "      <th>...</th>\n",
       "      <td>...</td>\n",
       "      <td>...</td>\n",
       "      <td>...</td>\n",
       "    </tr>\n",
       "    <tr>\n",
       "      <th>EXT_SOURCE_2</th>\n",
       "      <td>660</td>\n",
       "      <td>0.002146</td>\n",
       "      <td>0.2</td>\n",
       "    </tr>\n",
       "    <tr>\n",
       "      <th>AMT_GOODS_PRICE</th>\n",
       "      <td>278</td>\n",
       "      <td>0.000904</td>\n",
       "      <td>0.1</td>\n",
       "    </tr>\n",
       "    <tr>\n",
       "      <th>AMT_ANNUITY</th>\n",
       "      <td>12</td>\n",
       "      <td>0.000039</td>\n",
       "      <td>0.0</td>\n",
       "    </tr>\n",
       "    <tr>\n",
       "      <th>CNT_FAM_MEMBERS</th>\n",
       "      <td>2</td>\n",
       "      <td>0.000007</td>\n",
       "      <td>0.0</td>\n",
       "    </tr>\n",
       "    <tr>\n",
       "      <th>DAYS_LAST_PHONE_CHANGE</th>\n",
       "      <td>1</td>\n",
       "      <td>0.000003</td>\n",
       "      <td>0.0</td>\n",
       "    </tr>\n",
       "  </tbody>\n",
       "</table>\n",
       "<p>67 rows × 3 columns</p>\n",
       "</div>"
      ],
      "text/plain": [
       "                          Missing Count  Missing Count Ratio  Missing Count %\n",
       "COMMONAREA_MEDI                  214865             0.698723             69.9\n",
       "COMMONAREA_AVG                   214865             0.698723             69.9\n",
       "COMMONAREA_MODE                  214865             0.698723             69.9\n",
       "NONLIVINGAPARTMENTS_MODE         213514             0.694330             69.4\n",
       "NONLIVINGAPARTMENTS_AVG          213514             0.694330             69.4\n",
       "...                                 ...                  ...              ...\n",
       "EXT_SOURCE_2                        660             0.002146              0.2\n",
       "AMT_GOODS_PRICE                     278             0.000904              0.1\n",
       "AMT_ANNUITY                          12             0.000039              0.0\n",
       "CNT_FAM_MEMBERS                       2             0.000007              0.0\n",
       "DAYS_LAST_PHONE_CHANGE                1             0.000003              0.0\n",
       "\n",
       "[67 rows x 3 columns]"
      ]
     },
     "execution_count": 12,
     "metadata": {},
     "output_type": "execute_result"
    }
   ],
   "source": [
    "missing_columns(train)"
   ]
  },
  {
   "cell_type": "code",
   "execution_count": 13,
   "metadata": {
    "scrolled": true
   },
   "outputs": [
    {
     "data": {
      "text/html": [
       "<div>\n",
       "<style scoped>\n",
       "    .dataframe tbody tr th:only-of-type {\n",
       "        vertical-align: middle;\n",
       "    }\n",
       "\n",
       "    .dataframe tbody tr th {\n",
       "        vertical-align: top;\n",
       "    }\n",
       "\n",
       "    .dataframe thead th {\n",
       "        text-align: right;\n",
       "    }\n",
       "</style>\n",
       "<table border=\"1\" class=\"dataframe\">\n",
       "  <thead>\n",
       "    <tr style=\"text-align: right;\">\n",
       "      <th></th>\n",
       "      <th>Missing Count</th>\n",
       "      <th>Missing Count Ratio</th>\n",
       "      <th>Missing Count %</th>\n",
       "    </tr>\n",
       "  </thead>\n",
       "  <tbody>\n",
       "    <tr>\n",
       "      <th>COMMONAREA_AVG</th>\n",
       "      <td>33495</td>\n",
       "      <td>0.687161</td>\n",
       "      <td>68.7</td>\n",
       "    </tr>\n",
       "    <tr>\n",
       "      <th>COMMONAREA_MODE</th>\n",
       "      <td>33495</td>\n",
       "      <td>0.687161</td>\n",
       "      <td>68.7</td>\n",
       "    </tr>\n",
       "    <tr>\n",
       "      <th>COMMONAREA_MEDI</th>\n",
       "      <td>33495</td>\n",
       "      <td>0.687161</td>\n",
       "      <td>68.7</td>\n",
       "    </tr>\n",
       "    <tr>\n",
       "      <th>NONLIVINGAPARTMENTS_AVG</th>\n",
       "      <td>33347</td>\n",
       "      <td>0.684125</td>\n",
       "      <td>68.4</td>\n",
       "    </tr>\n",
       "    <tr>\n",
       "      <th>NONLIVINGAPARTMENTS_MODE</th>\n",
       "      <td>33347</td>\n",
       "      <td>0.684125</td>\n",
       "      <td>68.4</td>\n",
       "    </tr>\n",
       "    <tr>\n",
       "      <th>...</th>\n",
       "      <td>...</td>\n",
       "      <td>...</td>\n",
       "      <td>...</td>\n",
       "    </tr>\n",
       "    <tr>\n",
       "      <th>OBS_30_CNT_SOCIAL_CIRCLE</th>\n",
       "      <td>29</td>\n",
       "      <td>0.000595</td>\n",
       "      <td>0.1</td>\n",
       "    </tr>\n",
       "    <tr>\n",
       "      <th>OBS_60_CNT_SOCIAL_CIRCLE</th>\n",
       "      <td>29</td>\n",
       "      <td>0.000595</td>\n",
       "      <td>0.1</td>\n",
       "    </tr>\n",
       "    <tr>\n",
       "      <th>DEF_60_CNT_SOCIAL_CIRCLE</th>\n",
       "      <td>29</td>\n",
       "      <td>0.000595</td>\n",
       "      <td>0.1</td>\n",
       "    </tr>\n",
       "    <tr>\n",
       "      <th>AMT_ANNUITY</th>\n",
       "      <td>24</td>\n",
       "      <td>0.000492</td>\n",
       "      <td>0.0</td>\n",
       "    </tr>\n",
       "    <tr>\n",
       "      <th>EXT_SOURCE_2</th>\n",
       "      <td>8</td>\n",
       "      <td>0.000164</td>\n",
       "      <td>0.0</td>\n",
       "    </tr>\n",
       "  </tbody>\n",
       "</table>\n",
       "<p>64 rows × 3 columns</p>\n",
       "</div>"
      ],
      "text/plain": [
       "                          Missing Count  Missing Count Ratio  Missing Count %\n",
       "COMMONAREA_AVG                    33495             0.687161             68.7\n",
       "COMMONAREA_MODE                   33495             0.687161             68.7\n",
       "COMMONAREA_MEDI                   33495             0.687161             68.7\n",
       "NONLIVINGAPARTMENTS_AVG           33347             0.684125             68.4\n",
       "NONLIVINGAPARTMENTS_MODE          33347             0.684125             68.4\n",
       "...                                 ...                  ...              ...\n",
       "OBS_30_CNT_SOCIAL_CIRCLE             29             0.000595              0.1\n",
       "OBS_60_CNT_SOCIAL_CIRCLE             29             0.000595              0.1\n",
       "DEF_60_CNT_SOCIAL_CIRCLE             29             0.000595              0.1\n",
       "AMT_ANNUITY                          24             0.000492              0.0\n",
       "EXT_SOURCE_2                          8             0.000164              0.0\n",
       "\n",
       "[64 rows x 3 columns]"
      ]
     },
     "execution_count": 13,
     "metadata": {},
     "output_type": "execute_result"
    }
   ],
   "source": [
    "missing_columns(test)"
   ]
  },
  {
   "cell_type": "code",
   "execution_count": 15,
   "metadata": {},
   "outputs": [
    {
     "data": {
      "text/plain": [
       "NAME_CONTRACT_TYPE             2\n",
       "CODE_GENDER                    3\n",
       "FLAG_OWN_CAR                   2\n",
       "FLAG_OWN_REALTY                2\n",
       "NAME_TYPE_SUITE                7\n",
       "NAME_INCOME_TYPE               8\n",
       "NAME_EDUCATION_TYPE            5\n",
       "NAME_FAMILY_STATUS             6\n",
       "NAME_HOUSING_TYPE              6\n",
       "OCCUPATION_TYPE               18\n",
       "WEEKDAY_APPR_PROCESS_START     7\n",
       "ORGANIZATION_TYPE             58\n",
       "FONDKAPREMONT_MODE             4\n",
       "HOUSETYPE_MODE                 3\n",
       "WALLSMATERIAL_MODE             7\n",
       "EMERGENCYSTATE_MODE            2\n",
       "dtype: int64"
      ]
     },
     "execution_count": 15,
     "metadata": {},
     "output_type": "execute_result"
    }
   ],
   "source": [
    "# Number of unique classes in each object column\n",
    "train.select_dtypes('object').apply(pd.Series.nunique)"
   ]
  },
  {
   "cell_type": "code",
   "execution_count": 16,
   "metadata": {},
   "outputs": [
    {
     "data": {
      "text/plain": [
       "NAME_CONTRACT_TYPE             2\n",
       "CODE_GENDER                    2\n",
       "FLAG_OWN_CAR                   2\n",
       "FLAG_OWN_REALTY                2\n",
       "NAME_TYPE_SUITE                7\n",
       "NAME_INCOME_TYPE               7\n",
       "NAME_EDUCATION_TYPE            5\n",
       "NAME_FAMILY_STATUS             5\n",
       "NAME_HOUSING_TYPE              6\n",
       "OCCUPATION_TYPE               18\n",
       "WEEKDAY_APPR_PROCESS_START     7\n",
       "ORGANIZATION_TYPE             58\n",
       "FONDKAPREMONT_MODE             4\n",
       "HOUSETYPE_MODE                 3\n",
       "WALLSMATERIAL_MODE             7\n",
       "EMERGENCYSTATE_MODE            2\n",
       "dtype: int64"
      ]
     },
     "execution_count": 16,
     "metadata": {},
     "output_type": "execute_result"
    }
   ],
   "source": [
    "test.select_dtypes('object').apply(pd.Series.nunique)"
   ]
  },
  {
   "cell_type": "markdown",
   "metadata": {},
   "source": [
    "## Handling Categorical variables - Label Encoding and One Hot Encoding."
   ]
  },
  {
   "cell_type": "code",
   "execution_count": 17,
   "metadata": {},
   "outputs": [
    {
     "name": "stdout",
     "output_type": "stream",
     "text": [
      "Label encoded 4 columns.\n"
     ]
    }
   ],
   "source": [
    "# Create a label encode object having less than or equal to 2 unique values\n",
    "from sklearn.preprocessing import LabelEncoder\n",
    "\n",
    "le = LabelEncoder()\n",
    "transform_counter = 0\n",
    "\n",
    "# iterate through all the categorical columns\n",
    "for col in train.select_dtypes('object').columns:\n",
    "    \n",
    "    # select only those columns where number of unique values in the category is less than or equal to 2 \n",
    "    if pd.Series.nunique(train[col]) <= 2:\n",
    "        train[col] = le.fit_transform(train[col].astype(str))\n",
    "        test[col] = le.fit_transform(test[col].astype(str))\n",
    "        \n",
    "        transform_counter+=1\n",
    "        \n",
    "print(\"Label encoded {} columns.\".format(transform_counter))    "
   ]
  },
  {
   "cell_type": "code",
   "execution_count": 18,
   "metadata": {},
   "outputs": [],
   "source": [
    "# one-hot encode of categorical variables\n",
    "train = pd.get_dummies(train,drop_first=True)\n",
    "test = pd.get_dummies(test,drop_first=True)"
   ]
  },
  {
   "cell_type": "code",
   "execution_count": 19,
   "metadata": {},
   "outputs": [
    {
     "name": "stdout",
     "output_type": "stream",
     "text": [
      "Training Features shape:  (307511, 230)\n",
      "Testing Features shape:  (48744, 226)\n"
     ]
    }
   ],
   "source": [
    "print('Training Features shape: ', train.shape)\n",
    "print('Testing Features shape: ', test.shape)"
   ]
  },
  {
   "cell_type": "code",
   "execution_count": 20,
   "metadata": {},
   "outputs": [],
   "source": [
    "# collect the target labels to support the aligning \n",
    "\n",
    "target = train['TARGET']"
   ]
  },
  {
   "cell_type": "code",
   "execution_count": 21,
   "metadata": {},
   "outputs": [],
   "source": [
    "# Ensure train and test have the same number of columns by aligning.\n",
    "train, test = train.align(test,axis=1,join='inner')"
   ]
  },
  {
   "cell_type": "code",
   "execution_count": 22,
   "metadata": {},
   "outputs": [],
   "source": [
    "train['TARGET'] = target"
   ]
  },
  {
   "cell_type": "code",
   "execution_count": 23,
   "metadata": {},
   "outputs": [
    {
     "name": "stdout",
     "output_type": "stream",
     "text": [
      "Training Features shape:  (307511, 227)\n",
      "Testing Features shape:  (48744, 226)\n"
     ]
    }
   ],
   "source": [
    "print('Training Features shape: ', train.shape)\n",
    "print('Testing Features shape: ', test.shape)"
   ]
  },
  {
   "cell_type": "code",
   "execution_count": 24,
   "metadata": {},
   "outputs": [
    {
     "data": {
      "text/plain": [
       "count    307511.000000\n",
       "mean         43.936973\n",
       "std          11.956133\n",
       "min          20.517808\n",
       "25%          34.008219\n",
       "50%          43.150685\n",
       "75%          53.923288\n",
       "max          69.120548\n",
       "Name: DAYS_BIRTH, dtype: float64"
      ]
     },
     "execution_count": 24,
     "metadata": {},
     "output_type": "execute_result"
    }
   ],
   "source": [
    "(train['DAYS_BIRTH']/-365).describe()"
   ]
  },
  {
   "cell_type": "code",
   "execution_count": 25,
   "metadata": {},
   "outputs": [
    {
     "data": {
      "text/plain": [
       "Text(0.5, 0, 'Age of the client (Years)')"
      ]
     },
     "execution_count": 25,
     "metadata": {},
     "output_type": "execute_result"
    },
    {
     "data": {
      "image/png": "[encoded data removed]",
      "text/plain": [
       "<Figure size 864x504 with 1 Axes>"
      ]
     },
     "metadata": {
      "needs_background": "light"
     },
     "output_type": "display_data"
    }
   ],
   "source": [
    "fig, ax = plt.subplots(figsize =(12,7))\n",
    "sns.distplot(train['DAYS_BIRTH']/-365,bins=5,kde=False)\n",
    "plt.xlabel(\"Age of the client (Years)\")"
   ]
  },
  {
   "cell_type": "code",
   "execution_count": 26,
   "metadata": {},
   "outputs": [
    {
     "data": {
      "text/plain": [
       "count    307511.000000\n",
       "mean        174.835742\n",
       "std         387.056895\n",
       "min         -49.073973\n",
       "25%          -7.561644\n",
       "50%          -3.323288\n",
       "75%          -0.791781\n",
       "max        1000.665753\n",
       "Name: DAYS_EMPLOYED, dtype: float64"
      ]
     },
     "execution_count": 26,
     "metadata": {},
     "output_type": "execute_result"
    }
   ],
   "source": [
    "(train['DAYS_EMPLOYED']/365).describe()"
   ]
  },
  {
   "cell_type": "code",
   "execution_count": 27,
   "metadata": {},
   "outputs": [
    {
     "data": {
      "text/plain": [
       "Text(0.5, 0, 'Time before the loan application the persons started current employment(in years)')"
      ]
     },
     "execution_count": 27,
     "metadata": {},
     "output_type": "execute_result"
    },
    {
     "data": {
      "image/png": "[encoded data removed]",
      "text/plain": [
       "<Figure size 864x504 with 1 Axes>"
      ]
     },
     "metadata": {
      "needs_background": "light"
     },
     "output_type": "display_data"
    }
   ],
   "source": [
    "fig, ax = plt.subplots(figsize=(12,7))\n",
    "sns.distplot(train['DAYS_EMPLOYED']/365,kde=False)\n",
    "plt.xlabel(\"Time before the loan application the persons started current employment(in years)\")"
   ]
  },
  {
   "cell_type": "code",
   "execution_count": 28,
   "metadata": {},
   "outputs": [
    {
     "data": {
      "text/plain": [
       "55374"
      ]
     },
     "execution_count": 28,
     "metadata": {},
     "output_type": "execute_result"
    }
   ],
   "source": [
    "# find the number of records where DAYS_EMPLOYED is between [900,1100] years. \n",
    "thousand_anomalies = train[(train['DAYS_EMPLOYED']/365>=900) & (train['DAYS_EMPLOYED']/365<=1100)]\n",
    "len(thousand_anomalies)"
   ]
  },
  {
   "cell_type": "code",
   "execution_count": 29,
   "metadata": {},
   "outputs": [
    {
     "data": {
      "text/plain": [
       "<AxesSubplot:xlabel='TARGET', ylabel='count'>"
      ]
     },
     "execution_count": 29,
     "metadata": {},
     "output_type": "execute_result"
    },
    {
     "data": {
      "image/png": "[encoded data removed]",
      "text/plain": [
       "<Figure size 864x504 with 1 Axes>"
      ]
     },
     "metadata": {
      "needs_background": "light"
     },
     "output_type": "display_data"
    }
   ],
   "source": [
    "fig, ax = plt.subplots(figsize=(12,7))\n",
    "sns.countplot(x='TARGET',data=thousand_anomalies)"
   ]
  },
  {
   "cell_type": "code",
   "execution_count": 30,
   "metadata": {},
   "outputs": [],
   "source": [
    "# get the index of anomalies and non anomalies\n",
    "anomalies_index = pd.Index(thousand_anomalies.index)\n",
    "non_anomalies_index = train.index.difference(anomalies_index)"
   ]
  },
  {
   "cell_type": "code",
   "execution_count": 31,
   "metadata": {},
   "outputs": [],
   "source": [
    "# get the anomalies records\n",
    "non_anomalies = train.iloc[non_anomalies_index]"
   ]
  },
  {
   "cell_type": "code",
   "execution_count": 32,
   "metadata": {},
   "outputs": [],
   "source": [
    "# get the anomaly targets\n",
    "anomalies_target = thousand_anomalies['TARGET'].value_counts()\n",
    "non_anomalies_target = non_anomalies['TARGET'].value_counts()"
   ]
  },
  {
   "cell_type": "code",
   "execution_count": 33,
   "metadata": {},
   "outputs": [
    {
     "name": "stdout",
     "output_type": "stream",
     "text": [
      "Anomalies have a default rate of 5.399646043269405%\n",
      "Non Anomalies have a default rate of 8.659974537652149%\n"
     ]
    }
   ],
   "source": [
    "# find the default rate for anomalies and non anomalies\n",
    "\n",
    "print(\"Anomalies have a default rate of {}%\".format(100*anomalies_target[1]/(anomalies_target[1]+anomalies_target[0])))\n",
    "print(\"Non Anomalies have a default rate of {}%\".format(100*non_anomalies_target[1]/(non_anomalies_target[1]+non_anomalies_target[0])))"
   ]
  },
  {
   "cell_type": "code",
   "execution_count": 34,
   "metadata": {},
   "outputs": [],
   "source": [
    "# Create an anomalous flag column\n",
    "train['DAYS_EMPLOYED_ANOM'] = train[\"DAYS_EMPLOYED\"] == 365243\n",
    "\n",
    "# Replace the anomalous values with nan\n",
    "train['DAYS_EMPLOYED'] = train['DAYS_EMPLOYED'].replace({365243: np.nan})"
   ]
  },
  {
   "cell_type": "code",
   "execution_count": 35,
   "metadata": {},
   "outputs": [
    {
     "data": {
      "text/plain": [
       "Text(0.5, 0, 'Years worked before application')"
      ]
     },
     "execution_count": 35,
     "metadata": {},
     "output_type": "execute_result"
    },
    {
     "data": {
      "image/png": "[encoded data removed]",
      "text/plain": [
       "<Figure size 864x576 with 1 Axes>"
      ]
     },
     "metadata": {
      "needs_background": "light"
     },
     "output_type": "display_data"
    }
   ],
   "source": [
    "# Looking at the years employed for anomalies\n",
    "\n",
    "plt.figure(figsize=(12,8))\n",
    "(train['DAYS_EMPLOYED']/-365).plot.hist(title = 'Years Employment Histogram')\n",
    "plt.xlabel(\"Years worked before application\")"
   ]
  },
  {
   "cell_type": "code",
   "execution_count": 36,
   "metadata": {},
   "outputs": [],
   "source": [
    "# Create an anomalous flag column\n",
    "test['DAYS_EMPLOYED_ANOM'] = test[\"DAYS_EMPLOYED\"] == 365243\n",
    "\n",
    "# Replace the anomalous values with nan\n",
    "test['DAYS_EMPLOYED'] = test['DAYS_EMPLOYED'].replace({365243: np.nan})"
   ]
  },
  {
   "cell_type": "code",
   "execution_count": 37,
   "metadata": {},
   "outputs": [],
   "source": [
    "# Finding out the most correlated features for the TARGET variable. \n",
    "corr_train = train.corr()['TARGET']"
   ]
  },
  {
   "cell_type": "code",
   "execution_count": 38,
   "metadata": {
    "scrolled": true
   },
   "outputs": [
    {
     "name": "stdout",
     "output_type": "stream",
     "text": [
      "REG_CITY_NOT_WORK_CITY         0.050994\n",
      "DAYS_ID_PUBLISH                0.051457\n",
      "CODE_GENDER_M                  0.054713\n",
      "DAYS_LAST_PHONE_CHANGE         0.055218\n",
      "NAME_INCOME_TYPE_Working       0.057481\n",
      "REGION_RATING_CLIENT           0.058899\n",
      "REGION_RATING_CLIENT_W_CITY    0.060893\n",
      "DAYS_EMPLOYED                  0.074958\n",
      "DAYS_BIRTH                     0.078239\n",
      "TARGET                         1.000000\n",
      "Name: TARGET, dtype: float64\n"
     ]
    },
    {
     "data": {
      "text/plain": [
       "EXT_SOURCE_3                           -0.178919\n",
       "EXT_SOURCE_2                           -0.160472\n",
       "EXT_SOURCE_1                           -0.155317\n",
       "NAME_EDUCATION_TYPE_Higher education   -0.056593\n",
       "NAME_INCOME_TYPE_Pensioner             -0.046209\n",
       "DAYS_EMPLOYED_ANOM                     -0.045987\n",
       "ORGANIZATION_TYPE_XNA                  -0.045987\n",
       "FLOORSMAX_AVG                          -0.044003\n",
       "FLOORSMAX_MEDI                         -0.043768\n",
       "FLOORSMAX_MODE                         -0.043226\n",
       "Name: TARGET, dtype: float64"
      ]
     },
     "execution_count": 38,
     "metadata": {},
     "output_type": "execute_result"
    }
   ],
   "source": [
    "# Looking at the top 10 most positively and negatively correlated features we get:\n",
    "print(corr_train.sort_values().tail(10))\n",
    "corr_train.sort_values().head(10)"
   ]
  },
  {
   "cell_type": "markdown",
   "metadata": {},
   "source": [
    "## Initially filling up the missing values for the most correlated variables."
   ]
  },
  {
   "cell_type": "code",
   "execution_count": 39,
   "metadata": {},
   "outputs": [],
   "source": [
    "from sklearn.impute import SimpleImputer"
   ]
  },
  {
   "cell_type": "code",
   "execution_count": 40,
   "metadata": {},
   "outputs": [],
   "source": [
    "poly_fitting_vars = ['EXT_SOURCE_3', 'EXT_SOURCE_2', 'EXT_SOURCE_1','DAYS_BIRTH']"
   ]
  },
  {
   "cell_type": "code",
   "execution_count": 41,
   "metadata": {},
   "outputs": [],
   "source": [
    "imputer = SimpleImputer(missing_values= np.nan, strategy='median')"
   ]
  },
  {
   "cell_type": "code",
   "execution_count": 42,
   "metadata": {},
   "outputs": [],
   "source": [
    "train[poly_fitting_vars] = imputer.fit_transform(train[poly_fitting_vars])"
   ]
  },
  {
   "cell_type": "code",
   "execution_count": 43,
   "metadata": {},
   "outputs": [
    {
     "data": {
      "text/plain": [
       "(307511, 4)"
      ]
     },
     "execution_count": 43,
     "metadata": {},
     "output_type": "execute_result"
    }
   ],
   "source": [
    "train[poly_fitting_vars].shape"
   ]
  },
  {
   "cell_type": "code",
   "execution_count": 44,
   "metadata": {},
   "outputs": [],
   "source": [
    "test[poly_fitting_vars] = imputer.transform(test[poly_fitting_vars])"
   ]
  },
  {
   "cell_type": "code",
   "execution_count": 45,
   "metadata": {},
   "outputs": [
    {
     "data": {
      "text/plain": [
       "(48744, 4)"
      ]
     },
     "execution_count": 45,
     "metadata": {},
     "output_type": "execute_result"
    }
   ],
   "source": [
    "test[poly_fitting_vars].shape"
   ]
  },
  {
   "cell_type": "code",
   "execution_count": 46,
   "metadata": {},
   "outputs": [],
   "source": [
    "from sklearn.preprocessing import PolynomialFeatures"
   ]
  },
  {
   "cell_type": "code",
   "execution_count": 47,
   "metadata": {},
   "outputs": [],
   "source": [
    "poly_feat = PolynomialFeatures(degree=4)"
   ]
  },
  {
   "cell_type": "code",
   "execution_count": 48,
   "metadata": {},
   "outputs": [],
   "source": [
    "poly_interaction_train = poly_feat.fit_transform(train[poly_fitting_vars])"
   ]
  },
  {
   "cell_type": "code",
   "execution_count": 49,
   "metadata": {},
   "outputs": [
    {
     "data": {
      "text/plain": [
       "(307511, 70)"
      ]
     },
     "execution_count": 49,
     "metadata": {},
     "output_type": "execute_result"
    }
   ],
   "source": [
    "poly_interaction_train.shape"
   ]
  },
  {
   "cell_type": "code",
   "execution_count": 50,
   "metadata": {},
   "outputs": [],
   "source": [
    "poly_interaction_test = poly_feat.fit_transform(test[poly_fitting_vars])"
   ]
  },
  {
   "cell_type": "code",
   "execution_count": 51,
   "metadata": {},
   "outputs": [
    {
     "data": {
      "text/plain": [
       "(48744, 70)"
      ]
     },
     "execution_count": 51,
     "metadata": {},
     "output_type": "execute_result"
    }
   ],
   "source": [
    "poly_interaction_test.shape"
   ]
  },
  {
   "cell_type": "code",
   "execution_count": 52,
   "metadata": {},
   "outputs": [],
   "source": [
    "poly_interaction_train = pd.DataFrame(poly_interaction_train,columns=poly_feat.get_feature_names(poly_fitting_vars))"
   ]
  },
  {
   "cell_type": "code",
   "execution_count": 53,
   "metadata": {},
   "outputs": [
    {
     "data": {
      "text/plain": [
       "(307511, 70)"
      ]
     },
     "execution_count": 53,
     "metadata": {},
     "output_type": "execute_result"
    }
   ],
   "source": [
    "poly_interaction_train.shape"
   ]
  },
  {
   "cell_type": "code",
   "execution_count": 54,
   "metadata": {},
   "outputs": [],
   "source": [
    "poly_interaction_test =  pd.DataFrame(poly_interaction_test,columns=poly_feat.get_feature_names(poly_fitting_vars))"
   ]
  },
  {
   "cell_type": "code",
   "execution_count": 55,
   "metadata": {},
   "outputs": [
    {
     "data": {
      "text/plain": [
       "(48744, 70)"
      ]
     },
     "execution_count": 55,
     "metadata": {},
     "output_type": "execute_result"
    }
   ],
   "source": [
    "poly_interaction_test.shape"
   ]
  },
  {
   "cell_type": "markdown",
   "metadata": {
    "collapsed": true
   },
   "source": [
    "## Add the 'TARGET' column which is later used for looking up correlations with the interaction variables."
   ]
  },
  {
   "cell_type": "code",
   "execution_count": 56,
   "metadata": {},
   "outputs": [],
   "source": [
    "poly_interaction_train['TARGET'] = train['TARGET']"
   ]
  },
  {
   "cell_type": "code",
   "execution_count": 57,
   "metadata": {},
   "outputs": [],
   "source": [
    "interaction = poly_interaction_train.corr()['TARGET'].sort_values()"
   ]
  },
  {
   "cell_type": "markdown",
   "metadata": {},
   "source": [
    "## Which are the most correlated interaction variables?"
   ]
  },
  {
   "cell_type": "code",
   "execution_count": 58,
   "metadata": {
    "scrolled": true
   },
   "outputs": [
    {
     "name": "stdout",
     "output_type": "stream",
     "text": [
      "EXT_SOURCE_2^3 DAYS_BIRTH                            0.140230\n",
      "EXT_SOURCE_3^2 DAYS_BIRTH                            0.141777\n",
      "EXT_SOURCE_3^2 EXT_SOURCE_1 DAYS_BIRTH               0.144206\n",
      "EXT_SOURCE_2^2 DAYS_BIRTH                            0.149313\n",
      "EXT_SOURCE_2^2 EXT_SOURCE_1 DAYS_BIRTH               0.149813\n",
      "EXT_SOURCE_3 DAYS_BIRTH                              0.150109\n",
      "EXT_SOURCE_3 EXT_SOURCE_1 DAYS_BIRTH                 0.151816\n",
      "EXT_SOURCE_2 EXT_SOURCE_1 DAYS_BIRTH                 0.155891\n",
      "EXT_SOURCE_2 DAYS_BIRTH                              0.156873\n",
      "EXT_SOURCE_3^2 EXT_SOURCE_2 DAYS_BIRTH               0.164466\n",
      "EXT_SOURCE_3 EXT_SOURCE_2^2 DAYS_BIRTH               0.168159\n",
      "EXT_SOURCE_3 EXT_SOURCE_2 EXT_SOURCE_1 DAYS_BIRTH    0.174173\n",
      "EXT_SOURCE_3 EXT_SOURCE_2 DAYS_BIRTH                 0.181283\n",
      "TARGET                                               1.000000\n",
      "1                                                         NaN\n",
      "Name: TARGET, dtype: float64\n"
     ]
    },
    {
     "data": {
      "text/plain": [
       "EXT_SOURCE_3 EXT_SOURCE_2                  -0.193939\n",
       "EXT_SOURCE_3 EXT_SOURCE_2 EXT_SOURCE_1     -0.189605\n",
       "EXT_SOURCE_3 EXT_SOURCE_2^2                -0.176428\n",
       "EXT_SOURCE_3 EXT_SOURCE_2^2 EXT_SOURCE_1   -0.174534\n",
       "EXT_SOURCE_3^2 EXT_SOURCE_2                -0.172282\n",
       "EXT_SOURCE_3^2 EXT_SOURCE_2 EXT_SOURCE_1   -0.170938\n",
       "EXT_SOURCE_2 EXT_SOURCE_1                  -0.166625\n",
       "EXT_SOURCE_3 EXT_SOURCE_1                  -0.164065\n",
       "EXT_SOURCE_3^2 EXT_SOURCE_2^2              -0.162923\n",
       "EXT_SOURCE_3 EXT_SOURCE_2^3                -0.161994\n",
       "EXT_SOURCE_3 EXT_SOURCE_2 EXT_SOURCE_1^2   -0.160677\n",
       "EXT_SOURCE_2                               -0.160295\n",
       "EXT_SOURCE_2^2 EXT_SOURCE_1                -0.156867\n",
       "EXT_SOURCE_3                               -0.155892\n",
       "EXT_SOURCE_3 EXT_SOURCE_2 DAYS_BIRTH^2     -0.154886\n",
       "Name: TARGET, dtype: float64"
      ]
     },
     "execution_count": 58,
     "metadata": {},
     "output_type": "execute_result"
    }
   ],
   "source": [
    "# looking at the top 15 most positive and negative correlated interaction variables.\n",
    "print(interaction.tail(15))\n",
    "(interaction.head(15))"
   ]
  },
  {
   "cell_type": "markdown",
   "metadata": {},
   "source": [
    "## Get the names of the columns which have the highest correlation - '1' and 'TARGET' can be dropped."
   ]
  },
  {
   "cell_type": "code",
   "execution_count": 59,
   "metadata": {
    "scrolled": false
   },
   "outputs": [
    {
     "data": {
      "text/plain": [
       "{'EXT_SOURCE_2',\n",
       " 'EXT_SOURCE_2 DAYS_BIRTH',\n",
       " 'EXT_SOURCE_2 EXT_SOURCE_1',\n",
       " 'EXT_SOURCE_2 EXT_SOURCE_1 DAYS_BIRTH',\n",
       " 'EXT_SOURCE_2^2 DAYS_BIRTH',\n",
       " 'EXT_SOURCE_2^2 EXT_SOURCE_1',\n",
       " 'EXT_SOURCE_2^2 EXT_SOURCE_1 DAYS_BIRTH',\n",
       " 'EXT_SOURCE_2^3 DAYS_BIRTH',\n",
       " 'EXT_SOURCE_3',\n",
       " 'EXT_SOURCE_3 DAYS_BIRTH',\n",
       " 'EXT_SOURCE_3 EXT_SOURCE_1',\n",
       " 'EXT_SOURCE_3 EXT_SOURCE_1 DAYS_BIRTH',\n",
       " 'EXT_SOURCE_3 EXT_SOURCE_2',\n",
       " 'EXT_SOURCE_3 EXT_SOURCE_2 DAYS_BIRTH',\n",
       " 'EXT_SOURCE_3 EXT_SOURCE_2 DAYS_BIRTH^2',\n",
       " 'EXT_SOURCE_3 EXT_SOURCE_2 EXT_SOURCE_1',\n",
       " 'EXT_SOURCE_3 EXT_SOURCE_2 EXT_SOURCE_1 DAYS_BIRTH',\n",
       " 'EXT_SOURCE_3 EXT_SOURCE_2 EXT_SOURCE_1^2',\n",
       " 'EXT_SOURCE_3 EXT_SOURCE_2^2',\n",
       " 'EXT_SOURCE_3 EXT_SOURCE_2^2 DAYS_BIRTH',\n",
       " 'EXT_SOURCE_3 EXT_SOURCE_2^2 EXT_SOURCE_1',\n",
       " 'EXT_SOURCE_3 EXT_SOURCE_2^3',\n",
       " 'EXT_SOURCE_3^2 DAYS_BIRTH',\n",
       " 'EXT_SOURCE_3^2 EXT_SOURCE_1 DAYS_BIRTH',\n",
       " 'EXT_SOURCE_3^2 EXT_SOURCE_2',\n",
       " 'EXT_SOURCE_3^2 EXT_SOURCE_2 DAYS_BIRTH',\n",
       " 'EXT_SOURCE_3^2 EXT_SOURCE_2 EXT_SOURCE_1',\n",
       " 'EXT_SOURCE_3^2 EXT_SOURCE_2^2'}"
      ]
     },
     "execution_count": 59,
     "metadata": {},
     "output_type": "execute_result"
    }
   ],
   "source": [
    "set(interaction.head(15).index).union(interaction.tail(15).index).difference(set({'1','TARGET'}))"
   ]
  },
  {
   "cell_type": "markdown",
   "metadata": {},
   "source": [
    "## Choose the selected columns which have highest correlation to 'TARGET'. Columns '1' and 'TARGET' are not necessary!"
   ]
  },
  {
   "cell_type": "code",
   "execution_count": 60,
   "metadata": {},
   "outputs": [],
   "source": [
    "selected_inter_variables = list(set(interaction.head(15).index).union(interaction.tail(15).index).difference(set({'1','TARGET'})))"
   ]
  },
  {
   "cell_type": "code",
   "execution_count": 61,
   "metadata": {},
   "outputs": [
    {
     "data": {
      "text/html": [
       "<div>\n",
       "<style scoped>\n",
       "    .dataframe tbody tr th:only-of-type {\n",
       "        vertical-align: middle;\n",
       "    }\n",
       "\n",
       "    .dataframe tbody tr th {\n",
       "        vertical-align: top;\n",
       "    }\n",
       "\n",
       "    .dataframe thead th {\n",
       "        text-align: right;\n",
       "    }\n",
       "</style>\n",
       "<table border=\"1\" class=\"dataframe\">\n",
       "  <thead>\n",
       "    <tr style=\"text-align: right;\">\n",
       "      <th></th>\n",
       "      <th>EXT_SOURCE_2^3 DAYS_BIRTH</th>\n",
       "      <th>EXT_SOURCE_3 EXT_SOURCE_2 EXT_SOURCE_1 DAYS_BIRTH</th>\n",
       "      <th>EXT_SOURCE_3 EXT_SOURCE_2 EXT_SOURCE_1</th>\n",
       "      <th>EXT_SOURCE_3^2 EXT_SOURCE_2 EXT_SOURCE_1</th>\n",
       "      <th>EXT_SOURCE_3^2 EXT_SOURCE_2 DAYS_BIRTH</th>\n",
       "      <th>EXT_SOURCE_3 EXT_SOURCE_2</th>\n",
       "      <th>EXT_SOURCE_2 DAYS_BIRTH</th>\n",
       "      <th>EXT_SOURCE_3^2 EXT_SOURCE_1 DAYS_BIRTH</th>\n",
       "      <th>EXT_SOURCE_3 EXT_SOURCE_2 DAYS_BIRTH^2</th>\n",
       "      <th>EXT_SOURCE_3 EXT_SOURCE_2 EXT_SOURCE_1^2</th>\n",
       "      <th>...</th>\n",
       "      <th>EXT_SOURCE_2</th>\n",
       "      <th>EXT_SOURCE_3 EXT_SOURCE_1</th>\n",
       "      <th>EXT_SOURCE_2 EXT_SOURCE_1 DAYS_BIRTH</th>\n",
       "      <th>EXT_SOURCE_2^2 EXT_SOURCE_1 DAYS_BIRTH</th>\n",
       "      <th>EXT_SOURCE_3 EXT_SOURCE_2^2 DAYS_BIRTH</th>\n",
       "      <th>EXT_SOURCE_3 EXT_SOURCE_2 DAYS_BIRTH</th>\n",
       "      <th>EXT_SOURCE_3 EXT_SOURCE_2^2</th>\n",
       "      <th>EXT_SOURCE_3 EXT_SOURCE_1 DAYS_BIRTH</th>\n",
       "      <th>EXT_SOURCE_3^2 EXT_SOURCE_2^2</th>\n",
       "      <th>EXT_SOURCE_3^2 EXT_SOURCE_2</th>\n",
       "    </tr>\n",
       "  </thead>\n",
       "  <tbody>\n",
       "    <tr>\n",
       "      <th>0</th>\n",
       "      <td>-172.008376</td>\n",
       "      <td>-28.791659</td>\n",
       "      <td>0.003043</td>\n",
       "      <td>0.000424</td>\n",
       "      <td>-48.326185</td>\n",
       "      <td>0.036649</td>\n",
       "      <td>-2487.756636</td>\n",
       "      <td>-15.261005</td>\n",
       "      <td>3.280441e+06</td>\n",
       "      <td>0.000253</td>\n",
       "      <td>...</td>\n",
       "      <td>0.262949</td>\n",
       "      <td>0.011573</td>\n",
       "      <td>-206.575767</td>\n",
       "      <td>-54.318807</td>\n",
       "      <td>-91.172960</td>\n",
       "      <td>-346.733022</td>\n",
       "      <td>0.009637</td>\n",
       "      <td>-109.495390</td>\n",
       "      <td>0.001343</td>\n",
       "      <td>0.005108</td>\n",
       "    </tr>\n",
       "    <tr>\n",
       "      <th>1</th>\n",
       "      <td>-4039.144848</td>\n",
       "      <td>-1738.108981</td>\n",
       "      <td>0.103675</td>\n",
       "      <td>0.055495</td>\n",
       "      <td>-2988.969365</td>\n",
       "      <td>0.333073</td>\n",
       "      <td>-10431.950422</td>\n",
       "      <td>-1495.178425</td>\n",
       "      <td>9.361535e+07</td>\n",
       "      <td>0.032271</td>\n",
       "      <td>...</td>\n",
       "      <td>0.622246</td>\n",
       "      <td>0.166614</td>\n",
       "      <td>-3247.125160</td>\n",
       "      <td>-2020.509913</td>\n",
       "      <td>-3474.605044</td>\n",
       "      <td>-5583.975307</td>\n",
       "      <td>0.207254</td>\n",
       "      <td>-2793.283699</td>\n",
       "      <td>0.110938</td>\n",
       "      <td>0.178286</td>\n",
       "    </tr>\n",
       "    <tr>\n",
       "      <th>2</th>\n",
       "      <td>-3272.066505</td>\n",
       "      <td>-3908.621640</td>\n",
       "      <td>0.205220</td>\n",
       "      <td>0.149722</td>\n",
       "      <td>-5635.596478</td>\n",
       "      <td>0.405575</td>\n",
       "      <td>-10587.901540</td>\n",
       "      <td>-5129.588365</td>\n",
       "      <td>1.471224e+08</td>\n",
       "      <td>0.103841</td>\n",
       "      <td>...</td>\n",
       "      <td>0.555912</td>\n",
       "      <td>0.369159</td>\n",
       "      <td>-5357.456268</td>\n",
       "      <td>-2978.274675</td>\n",
       "      <td>-4294.187521</td>\n",
       "      <td>-7724.580288</td>\n",
       "      <td>0.225464</td>\n",
       "      <td>-7031.006802</td>\n",
       "      <td>0.164491</td>\n",
       "      <td>0.295894</td>\n",
       "    </tr>\n",
       "    <tr>\n",
       "      <th>3</th>\n",
       "      <td>-5229.895165</td>\n",
       "      <td>-3348.134986</td>\n",
       "      <td>0.176171</td>\n",
       "      <td>0.094300</td>\n",
       "      <td>-3541.866544</td>\n",
       "      <td>0.348166</td>\n",
       "      <td>-12361.644326</td>\n",
       "      <td>-2755.323295</td>\n",
       "      <td>1.257541e+08</td>\n",
       "      <td>0.089142</td>\n",
       "      <td>...</td>\n",
       "      <td>0.650442</td>\n",
       "      <td>0.270849</td>\n",
       "      <td>-6254.966447</td>\n",
       "      <td>-4068.490949</td>\n",
       "      <td>-4303.904125</td>\n",
       "      <td>-6616.894625</td>\n",
       "      <td>0.226462</td>\n",
       "      <td>-5147.479068</td>\n",
       "      <td>0.121220</td>\n",
       "      <td>0.186365</td>\n",
       "    </tr>\n",
       "    <tr>\n",
       "      <th>4</th>\n",
       "      <td>-670.042495</td>\n",
       "      <td>-1742.320648</td>\n",
       "      <td>0.087413</td>\n",
       "      <td>0.046790</td>\n",
       "      <td>-1843.135727</td>\n",
       "      <td>0.172754</td>\n",
       "      <td>-6432.819536</td>\n",
       "      <td>-2889.718701</td>\n",
       "      <td>6.863256e+07</td>\n",
       "      <td>0.044231</td>\n",
       "      <td>...</td>\n",
       "      <td>0.322738</td>\n",
       "      <td>0.270849</td>\n",
       "      <td>-3254.993372</td>\n",
       "      <td>-1050.510985</td>\n",
       "      <td>-1111.296208</td>\n",
       "      <td>-3443.335521</td>\n",
       "      <td>0.055754</td>\n",
       "      <td>-5398.555790</td>\n",
       "      <td>0.029844</td>\n",
       "      <td>0.092471</td>\n",
       "    </tr>\n",
       "  </tbody>\n",
       "</table>\n",
       "<p>5 rows × 28 columns</p>\n",
       "</div>"
      ],
      "text/plain": [
       "   EXT_SOURCE_2^3 DAYS_BIRTH  \\\n",
       "0                -172.008376   \n",
       "1               -4039.144848   \n",
       "2               -3272.066505   \n",
       "3               -5229.895165   \n",
       "4                -670.042495   \n",
       "\n",
       "   EXT_SOURCE_3 EXT_SOURCE_2 EXT_SOURCE_1 DAYS_BIRTH  \\\n",
       "0                                         -28.791659   \n",
       "1                                       -1738.108981   \n",
       "2                                       -3908.621640   \n",
       "3                                       -3348.134986   \n",
       "4                                       -1742.320648   \n",
       "\n",
       "   EXT_SOURCE_3 EXT_SOURCE_2 EXT_SOURCE_1  \\\n",
       "0                                0.003043   \n",
       "1                                0.103675   \n",
       "2                                0.205220   \n",
       "3                                0.176171   \n",
       "4                                0.087413   \n",
       "\n",
       "   EXT_SOURCE_3^2 EXT_SOURCE_2 EXT_SOURCE_1  \\\n",
       "0                                  0.000424   \n",
       "1                                  0.055495   \n",
       "2                                  0.149722   \n",
       "3                                  0.094300   \n",
       "4                                  0.046790   \n",
       "\n",
       "   EXT_SOURCE_3^2 EXT_SOURCE_2 DAYS_BIRTH  EXT_SOURCE_3 EXT_SOURCE_2  \\\n",
       "0                              -48.326185                   0.036649   \n",
       "1                            -2988.969365                   0.333073   \n",
       "2                            -5635.596478                   0.405575   \n",
       "3                            -3541.866544                   0.348166   \n",
       "4                            -1843.135727                   0.172754   \n",
       "\n",
       "   EXT_SOURCE_2 DAYS_BIRTH  EXT_SOURCE_3^2 EXT_SOURCE_1 DAYS_BIRTH  \\\n",
       "0             -2487.756636                              -15.261005   \n",
       "1            -10431.950422                            -1495.178425   \n",
       "2            -10587.901540                            -5129.588365   \n",
       "3            -12361.644326                            -2755.323295   \n",
       "4             -6432.819536                            -2889.718701   \n",
       "\n",
       "   EXT_SOURCE_3 EXT_SOURCE_2 DAYS_BIRTH^2  \\\n",
       "0                            3.280441e+06   \n",
       "1                            9.361535e+07   \n",
       "2                            1.471224e+08   \n",
       "3                            1.257541e+08   \n",
       "4                            6.863256e+07   \n",
       "\n",
       "   EXT_SOURCE_3 EXT_SOURCE_2 EXT_SOURCE_1^2  ...  EXT_SOURCE_2  \\\n",
       "0                                  0.000253  ...      0.262949   \n",
       "1                                  0.032271  ...      0.622246   \n",
       "2                                  0.103841  ...      0.555912   \n",
       "3                                  0.089142  ...      0.650442   \n",
       "4                                  0.044231  ...      0.322738   \n",
       "\n",
       "   EXT_SOURCE_3 EXT_SOURCE_1  EXT_SOURCE_2 EXT_SOURCE_1 DAYS_BIRTH  \\\n",
       "0                   0.011573                           -206.575767   \n",
       "1                   0.166614                          -3247.125160   \n",
       "2                   0.369159                          -5357.456268   \n",
       "3                   0.270849                          -6254.966447   \n",
       "4                   0.270849                          -3254.993372   \n",
       "\n",
       "   EXT_SOURCE_2^2 EXT_SOURCE_1 DAYS_BIRTH  \\\n",
       "0                              -54.318807   \n",
       "1                            -2020.509913   \n",
       "2                            -2978.274675   \n",
       "3                            -4068.490949   \n",
       "4                            -1050.510985   \n",
       "\n",
       "   EXT_SOURCE_3 EXT_SOURCE_2^2 DAYS_BIRTH  \\\n",
       "0                              -91.172960   \n",
       "1                            -3474.605044   \n",
       "2                            -4294.187521   \n",
       "3                            -4303.904125   \n",
       "4                            -1111.296208   \n",
       "\n",
       "   EXT_SOURCE_3 EXT_SOURCE_2 DAYS_BIRTH  EXT_SOURCE_3 EXT_SOURCE_2^2  \\\n",
       "0                           -346.733022                     0.009637   \n",
       "1                          -5583.975307                     0.207254   \n",
       "2                          -7724.580288                     0.225464   \n",
       "3                          -6616.894625                     0.226462   \n",
       "4                          -3443.335521                     0.055754   \n",
       "\n",
       "   EXT_SOURCE_3 EXT_SOURCE_1 DAYS_BIRTH  EXT_SOURCE_3^2 EXT_SOURCE_2^2  \\\n",
       "0                           -109.495390                       0.001343   \n",
       "1                          -2793.283699                       0.110938   \n",
       "2                          -7031.006802                       0.164491   \n",
       "3                          -5147.479068                       0.121220   \n",
       "4                          -5398.555790                       0.029844   \n",
       "\n",
       "   EXT_SOURCE_3^2 EXT_SOURCE_2  \n",
       "0                     0.005108  \n",
       "1                     0.178286  \n",
       "2                     0.295894  \n",
       "3                     0.186365  \n",
       "4                     0.092471  \n",
       "\n",
       "[5 rows x 28 columns]"
      ]
     },
     "execution_count": 61,
     "metadata": {},
     "output_type": "execute_result"
    }
   ],
   "source": [
    "# look at the selected features\n",
    "poly_interaction_train[selected_inter_variables].head()"
   ]
  },
  {
   "cell_type": "code",
   "execution_count": 62,
   "metadata": {},
   "outputs": [
    {
     "data": {
      "text/html": [
       "<div>\n",
       "<style scoped>\n",
       "    .dataframe tbody tr th:only-of-type {\n",
       "        vertical-align: middle;\n",
       "    }\n",
       "\n",
       "    .dataframe tbody tr th {\n",
       "        vertical-align: top;\n",
       "    }\n",
       "\n",
       "    .dataframe thead th {\n",
       "        text-align: right;\n",
       "    }\n",
       "</style>\n",
       "<table border=\"1\" class=\"dataframe\">\n",
       "  <thead>\n",
       "    <tr style=\"text-align: right;\">\n",
       "      <th></th>\n",
       "      <th>EXT_SOURCE_2^3 DAYS_BIRTH</th>\n",
       "      <th>EXT_SOURCE_3 EXT_SOURCE_2 EXT_SOURCE_1 DAYS_BIRTH</th>\n",
       "      <th>EXT_SOURCE_3 EXT_SOURCE_2 EXT_SOURCE_1</th>\n",
       "      <th>EXT_SOURCE_3^2 EXT_SOURCE_2 EXT_SOURCE_1</th>\n",
       "      <th>EXT_SOURCE_3^2 EXT_SOURCE_2 DAYS_BIRTH</th>\n",
       "      <th>EXT_SOURCE_3 EXT_SOURCE_2</th>\n",
       "      <th>EXT_SOURCE_2 DAYS_BIRTH</th>\n",
       "      <th>EXT_SOURCE_3^2 EXT_SOURCE_1 DAYS_BIRTH</th>\n",
       "      <th>EXT_SOURCE_3 EXT_SOURCE_2 DAYS_BIRTH^2</th>\n",
       "      <th>EXT_SOURCE_3 EXT_SOURCE_2 EXT_SOURCE_1^2</th>\n",
       "      <th>...</th>\n",
       "      <th>EXT_SOURCE_2</th>\n",
       "      <th>EXT_SOURCE_3 EXT_SOURCE_1</th>\n",
       "      <th>EXT_SOURCE_2 EXT_SOURCE_1 DAYS_BIRTH</th>\n",
       "      <th>EXT_SOURCE_2^2 EXT_SOURCE_1 DAYS_BIRTH</th>\n",
       "      <th>EXT_SOURCE_3 EXT_SOURCE_2^2 DAYS_BIRTH</th>\n",
       "      <th>EXT_SOURCE_3 EXT_SOURCE_2 DAYS_BIRTH</th>\n",
       "      <th>EXT_SOURCE_3 EXT_SOURCE_2^2</th>\n",
       "      <th>EXT_SOURCE_3 EXT_SOURCE_1 DAYS_BIRTH</th>\n",
       "      <th>EXT_SOURCE_3^2 EXT_SOURCE_2^2</th>\n",
       "      <th>EXT_SOURCE_3^2 EXT_SOURCE_2</th>\n",
       "    </tr>\n",
       "  </thead>\n",
       "  <tbody>\n",
       "    <tr>\n",
       "      <th>0</th>\n",
       "      <td>-9474.116872</td>\n",
       "      <td>-1824.110478</td>\n",
       "      <td>0.094803</td>\n",
       "      <td>0.015123</td>\n",
       "      <td>-386.627243</td>\n",
       "      <td>0.125965</td>\n",
       "      <td>-15193.739370</td>\n",
       "      <td>-368.491942</td>\n",
       "      <td>4.663438e+07</td>\n",
       "      <td>0.071350</td>\n",
       "      <td>...</td>\n",
       "      <td>0.789654</td>\n",
       "      <td>0.120057</td>\n",
       "      <td>-11435.028416</td>\n",
       "      <td>-9029.719944</td>\n",
       "      <td>-1913.883926</td>\n",
       "      <td>-2423.698322</td>\n",
       "      <td>0.099469</td>\n",
       "      <td>-2310.011305</td>\n",
       "      <td>0.015867</td>\n",
       "      <td>0.020094</td>\n",
       "    </tr>\n",
       "    <tr>\n",
       "      <th>1</th>\n",
       "      <td>-448.151217</td>\n",
       "      <td>-1288.767295</td>\n",
       "      <td>0.071345</td>\n",
       "      <td>0.030889</td>\n",
       "      <td>-987.604448</td>\n",
       "      <td>0.126276</td>\n",
       "      <td>-5268.465530</td>\n",
       "      <td>-1913.170762</td>\n",
       "      <td>4.120477e+07</td>\n",
       "      <td>0.040309</td>\n",
       "      <td>...</td>\n",
       "      <td>0.291656</td>\n",
       "      <td>0.244619</td>\n",
       "      <td>-2976.631403</td>\n",
       "      <td>-868.151015</td>\n",
       "      <td>-665.278990</td>\n",
       "      <td>-2281.043619</td>\n",
       "      <td>0.036829</td>\n",
       "      <td>-4418.799416</td>\n",
       "      <td>0.015946</td>\n",
       "      <td>0.054673</td>\n",
       "    </tr>\n",
       "    <tr>\n",
       "      <th>2</th>\n",
       "      <td>-6866.756812</td>\n",
       "      <td>-4335.147954</td>\n",
       "      <td>0.216346</td>\n",
       "      <td>0.132186</td>\n",
       "      <td>-5234.681105</td>\n",
       "      <td>0.427564</td>\n",
       "      <td>-14022.328504</td>\n",
       "      <td>-3785.063810</td>\n",
       "      <td>1.716760e+08</td>\n",
       "      <td>0.109471</td>\n",
       "      <td>...</td>\n",
       "      <td>0.699787</td>\n",
       "      <td>0.309160</td>\n",
       "      <td>-7095.269204</td>\n",
       "      <td>-4965.175946</td>\n",
       "      <td>-5995.438444</td>\n",
       "      <td>-8567.521115</td>\n",
       "      <td>0.299203</td>\n",
       "      <td>-6194.955045</td>\n",
       "      <td>0.182811</td>\n",
       "      <td>0.261238</td>\n",
       "    </tr>\n",
       "    <tr>\n",
       "      <th>3</th>\n",
       "      <td>-1850.411012</td>\n",
       "      <td>-2294.536289</td>\n",
       "      <td>0.164177</td>\n",
       "      <td>0.100592</td>\n",
       "      <td>-2674.113111</td>\n",
       "      <td>0.312281</td>\n",
       "      <td>-7123.246872</td>\n",
       "      <td>-2758.358532</td>\n",
       "      <td>6.099746e+07</td>\n",
       "      <td>0.086313</td>\n",
       "      <td>...</td>\n",
       "      <td>0.509677</td>\n",
       "      <td>0.322119</td>\n",
       "      <td>-3744.932912</td>\n",
       "      <td>-1908.706472</td>\n",
       "      <td>-2224.456866</td>\n",
       "      <td>-4364.443591</td>\n",
       "      <td>0.159163</td>\n",
       "      <td>-4501.941285</td>\n",
       "      <td>0.097520</td>\n",
       "      <td>0.191336</td>\n",
       "    </tr>\n",
       "    <tr>\n",
       "      <th>4</th>\n",
       "      <td>-1005.888062</td>\n",
       "      <td>-600.633070</td>\n",
       "      <td>0.046061</td>\n",
       "      <td>0.024655</td>\n",
       "      <td>-1590.465410</td>\n",
       "      <td>0.227860</td>\n",
       "      <td>-5550.962315</td>\n",
       "      <td>-755.260075</td>\n",
       "      <td>3.874573e+07</td>\n",
       "      <td>0.009311</td>\n",
       "      <td>...</td>\n",
       "      <td>0.425687</td>\n",
       "      <td>0.108203</td>\n",
       "      <td>-1122.099233</td>\n",
       "      <td>-477.663386</td>\n",
       "      <td>-1264.843931</td>\n",
       "      <td>-2971.298294</td>\n",
       "      <td>0.096997</td>\n",
       "      <td>-1410.972511</td>\n",
       "      <td>0.051920</td>\n",
       "      <td>0.121968</td>\n",
       "    </tr>\n",
       "  </tbody>\n",
       "</table>\n",
       "<p>5 rows × 28 columns</p>\n",
       "</div>"
      ],
      "text/plain": [
       "   EXT_SOURCE_2^3 DAYS_BIRTH  \\\n",
       "0               -9474.116872   \n",
       "1                -448.151217   \n",
       "2               -6866.756812   \n",
       "3               -1850.411012   \n",
       "4               -1005.888062   \n",
       "\n",
       "   EXT_SOURCE_3 EXT_SOURCE_2 EXT_SOURCE_1 DAYS_BIRTH  \\\n",
       "0                                       -1824.110478   \n",
       "1                                       -1288.767295   \n",
       "2                                       -4335.147954   \n",
       "3                                       -2294.536289   \n",
       "4                                        -600.633070   \n",
       "\n",
       "   EXT_SOURCE_3 EXT_SOURCE_2 EXT_SOURCE_1  \\\n",
       "0                                0.094803   \n",
       "1                                0.071345   \n",
       "2                                0.216346   \n",
       "3                                0.164177   \n",
       "4                                0.046061   \n",
       "\n",
       "   EXT_SOURCE_3^2 EXT_SOURCE_2 EXT_SOURCE_1  \\\n",
       "0                                  0.015123   \n",
       "1                                  0.030889   \n",
       "2                                  0.132186   \n",
       "3                                  0.100592   \n",
       "4                                  0.024655   \n",
       "\n",
       "   EXT_SOURCE_3^2 EXT_SOURCE_2 DAYS_BIRTH  EXT_SOURCE_3 EXT_SOURCE_2  \\\n",
       "0                             -386.627243                   0.125965   \n",
       "1                             -987.604448                   0.126276   \n",
       "2                            -5234.681105                   0.427564   \n",
       "3                            -2674.113111                   0.312281   \n",
       "4                            -1590.465410                   0.227860   \n",
       "\n",
       "   EXT_SOURCE_2 DAYS_BIRTH  EXT_SOURCE_3^2 EXT_SOURCE_1 DAYS_BIRTH  \\\n",
       "0            -15193.739370                             -368.491942   \n",
       "1             -5268.465530                            -1913.170762   \n",
       "2            -14022.328504                            -3785.063810   \n",
       "3             -7123.246872                            -2758.358532   \n",
       "4             -5550.962315                             -755.260075   \n",
       "\n",
       "   EXT_SOURCE_3 EXT_SOURCE_2 DAYS_BIRTH^2  \\\n",
       "0                            4.663438e+07   \n",
       "1                            4.120477e+07   \n",
       "2                            1.716760e+08   \n",
       "3                            6.099746e+07   \n",
       "4                            3.874573e+07   \n",
       "\n",
       "   EXT_SOURCE_3 EXT_SOURCE_2 EXT_SOURCE_1^2  ...  EXT_SOURCE_2  \\\n",
       "0                                  0.071350  ...      0.789654   \n",
       "1                                  0.040309  ...      0.291656   \n",
       "2                                  0.109471  ...      0.699787   \n",
       "3                                  0.086313  ...      0.509677   \n",
       "4                                  0.009311  ...      0.425687   \n",
       "\n",
       "   EXT_SOURCE_3 EXT_SOURCE_1  EXT_SOURCE_2 EXT_SOURCE_1 DAYS_BIRTH  \\\n",
       "0                   0.120057                         -11435.028416   \n",
       "1                   0.244619                          -2976.631403   \n",
       "2                   0.309160                          -7095.269204   \n",
       "3                   0.322119                          -3744.932912   \n",
       "4                   0.108203                          -1122.099233   \n",
       "\n",
       "   EXT_SOURCE_2^2 EXT_SOURCE_1 DAYS_BIRTH  \\\n",
       "0                            -9029.719944   \n",
       "1                             -868.151015   \n",
       "2                            -4965.175946   \n",
       "3                            -1908.706472   \n",
       "4                             -477.663386   \n",
       "\n",
       "   EXT_SOURCE_3 EXT_SOURCE_2^2 DAYS_BIRTH  \\\n",
       "0                            -1913.883926   \n",
       "1                             -665.278990   \n",
       "2                            -5995.438444   \n",
       "3                            -2224.456866   \n",
       "4                            -1264.843931   \n",
       "\n",
       "   EXT_SOURCE_3 EXT_SOURCE_2 DAYS_BIRTH  EXT_SOURCE_3 EXT_SOURCE_2^2  \\\n",
       "0                          -2423.698322                     0.099469   \n",
       "1                          -2281.043619                     0.036829   \n",
       "2                          -8567.521115                     0.299203   \n",
       "3                          -4364.443591                     0.159163   \n",
       "4                          -2971.298294                     0.096997   \n",
       "\n",
       "   EXT_SOURCE_3 EXT_SOURCE_1 DAYS_BIRTH  EXT_SOURCE_3^2 EXT_SOURCE_2^2  \\\n",
       "0                          -2310.011305                       0.015867   \n",
       "1                          -4418.799416                       0.015946   \n",
       "2                          -6194.955045                       0.182811   \n",
       "3                          -4501.941285                       0.097520   \n",
       "4                          -1410.972511                       0.051920   \n",
       "\n",
       "   EXT_SOURCE_3^2 EXT_SOURCE_2  \n",
       "0                     0.020094  \n",
       "1                     0.054673  \n",
       "2                     0.261238  \n",
       "3                     0.191336  \n",
       "4                     0.121968  \n",
       "\n",
       "[5 rows x 28 columns]"
      ]
     },
     "execution_count": 62,
     "metadata": {},
     "output_type": "execute_result"
    }
   ],
   "source": [
    "poly_interaction_test[selected_inter_variables].head()"
   ]
  },
  {
   "cell_type": "markdown",
   "metadata": {},
   "source": [
    "## Get a list of unselected columns that are to be dropped."
   ]
  },
  {
   "cell_type": "code",
   "execution_count": 63,
   "metadata": {},
   "outputs": [],
   "source": [
    "unselected_cols = [element for element in poly_interaction_train.columns if element not in selected_inter_variables]"
   ]
  },
  {
   "cell_type": "markdown",
   "metadata": {
    "collapsed": true
   },
   "source": [
    "##  Drop the unselected columns of the interaction dataframes - train and test versions both."
   ]
  },
  {
   "cell_type": "code",
   "execution_count": 64,
   "metadata": {},
   "outputs": [],
   "source": [
    "poly_interaction_train = poly_interaction_train.drop(unselected_cols,axis=1)"
   ]
  },
  {
   "cell_type": "code",
   "execution_count": 65,
   "metadata": {},
   "outputs": [],
   "source": [
    "poly_interaction_test = poly_interaction_test.drop(list(set(unselected_cols).difference({'TARGET'})),axis=1)"
   ]
  },
  {
   "cell_type": "markdown",
   "metadata": {},
   "source": [
    "#### Dropping columns 'EXT_SOURCE_2' and 'EXT_SOURCE_3' since they're already present in the source dataset."
   ]
  },
  {
   "cell_type": "code",
   "execution_count": 66,
   "metadata": {},
   "outputs": [],
   "source": [
    "train = train.join(poly_interaction_train.drop(['EXT_SOURCE_2', 'EXT_SOURCE_3'],axis=1))"
   ]
  },
  {
   "cell_type": "code",
   "execution_count": 67,
   "metadata": {},
   "outputs": [],
   "source": [
    "test = test.join(poly_interaction_test.drop(['EXT_SOURCE_2', 'EXT_SOURCE_3'],axis=1))"
   ]
  },
  {
   "cell_type": "code",
   "execution_count": 68,
   "metadata": {},
   "outputs": [
    {
     "name": "stdout",
     "output_type": "stream",
     "text": [
      "The train dataset dimensions are as follows: (307511, 254)\n",
      "The test dataset dimensions are as follows: (48744, 253)\n"
     ]
    }
   ],
   "source": [
    "print(\"The train dataset dimensions are as follows: {}\".format(train.shape))\n",
    "print(\"The test dataset dimensions are as follows: {}\".format(test.shape))"
   ]
  },
  {
   "cell_type": "markdown",
   "metadata": {},
   "source": [
    "# Feature Engineering"
   ]
  },
  {
   "cell_type": "code",
   "execution_count": 69,
   "metadata": {},
   "outputs": [],
   "source": [
    "train['DIR'] = train['AMT_CREDIT']/train['AMT_INCOME_TOTAL']\n",
    "train['AIR'] = train['AMT_ANNUITY']/train['AMT_INCOME_TOTAL']\n",
    "train['ACR'] = train['AMT_ANNUITY']/train['AMT_CREDIT']\n",
    "train['DAR'] = train['DAYS_EMPLOYED']/train['DAYS_BIRTH']"
   ]
  },
  {
   "cell_type": "code",
   "execution_count": 70,
   "metadata": {},
   "outputs": [],
   "source": [
    "test['DIR'] = test['AMT_CREDIT']/test['AMT_INCOME_TOTAL']\n",
    "test['AIR'] = test['AMT_ANNUITY']/test['AMT_INCOME_TOTAL']\n",
    "test['ACR'] = test['AMT_ANNUITY']/test['AMT_CREDIT']\n",
    "test['DAR'] = test['DAYS_EMPLOYED']/test['DAYS_BIRTH']"
   ]
  },
  {
   "cell_type": "code",
   "execution_count": 71,
   "metadata": {},
   "outputs": [],
   "source": [
    "corr_vals = train.corr()['TARGET']"
   ]
  },
  {
   "cell_type": "code",
   "execution_count": 72,
   "metadata": {},
   "outputs": [
    {
     "data": {
      "text/plain": [
       "DIR   -0.007727\n",
       "AIR    0.014265\n",
       "ACR    0.012704\n",
       "DAR   -0.067955\n",
       "Name: TARGET, dtype: float64"
      ]
     },
     "execution_count": 72,
     "metadata": {},
     "output_type": "execute_result"
    }
   ],
   "source": [
    "corr_vals.tail(4)"
   ]
  },
  {
   "cell_type": "markdown",
   "metadata": {},
   "source": [
    "## Feature Imputing"
   ]
  },
  {
   "cell_type": "code",
   "execution_count": 73,
   "metadata": {},
   "outputs": [],
   "source": [
    "from sklearn.preprocessing import MinMaxScaler\n",
    "from sklearn.impute import SimpleImputer"
   ]
  },
  {
   "cell_type": "code",
   "execution_count": 74,
   "metadata": {},
   "outputs": [],
   "source": [
    "features = list(set(train.columns).difference({'TARGET'}))"
   ]
  },
  {
   "cell_type": "code",
   "execution_count": 75,
   "metadata": {},
   "outputs": [],
   "source": [
    "imputer = SimpleImputer(strategy=\"median\")"
   ]
  },
  {
   "cell_type": "markdown",
   "metadata": {},
   "source": [
    "## Feature Scaling"
   ]
  },
  {
   "cell_type": "code",
   "execution_count": 76,
   "metadata": {},
   "outputs": [],
   "source": [
    "scaler = MinMaxScaler(feature_range = (0, 1))"
   ]
  },
  {
   "cell_type": "code",
   "execution_count": 77,
   "metadata": {},
   "outputs": [
    {
     "data": {
      "text/plain": [
       "SimpleImputer(strategy='median')"
      ]
     },
     "execution_count": 77,
     "metadata": {},
     "output_type": "execute_result"
    }
   ],
   "source": [
    "imputer.fit(train.drop(['TARGET'],axis=1))"
   ]
  },
  {
   "cell_type": "code",
   "execution_count": 78,
   "metadata": {},
   "outputs": [],
   "source": [
    "train_transformed = imputer.transform(train.drop(['TARGET'],axis=1))"
   ]
  },
  {
   "cell_type": "code",
   "execution_count": 79,
   "metadata": {},
   "outputs": [],
   "source": [
    "test_transformed = imputer.transform(test)"
   ]
  },
  {
   "cell_type": "code",
   "execution_count": 80,
   "metadata": {},
   "outputs": [],
   "source": [
    "train_transformed = scaler.fit_transform(train_transformed)"
   ]
  },
  {
   "cell_type": "code",
   "execution_count": 81,
   "metadata": {},
   "outputs": [],
   "source": [
    "test_transformed = scaler.transform(test_transformed)"
   ]
  },
  {
   "cell_type": "code",
   "execution_count": 82,
   "metadata": {},
   "outputs": [
    {
     "name": "stdout",
     "output_type": "stream",
     "text": [
      "The train dataset dimensions are as follows: (307511, 257)\n",
      "The test dataset dimensions are as follows: (48744, 257)\n"
     ]
    }
   ],
   "source": [
    "print(\"The train dataset dimensions are as follows: {}\".format(train_transformed.shape))\n",
    "print(\"The test dataset dimensions are as follows: {}\".format(test_transformed.shape))"
   ]
  },
  {
   "cell_type": "markdown",
   "metadata": {},
   "source": [
    "# Split the dataset into training set and validation set"
   ]
  },
  {
   "cell_type": "code",
   "execution_count": 83,
   "metadata": {},
   "outputs": [],
   "source": [
    "from sklearn.model_selection import train_test_split\n",
    "\n",
    "X_training_set, X_validation_set, y_training_set, y_validation_set = train_test_split(train_transformed, \n",
    "                                                                                      target, test_size=0.33, random_state=42)"
   ]
  },
  {
   "cell_type": "markdown",
   "metadata": {},
   "source": [
    "## Use the Model"
   ]
  },
  {
   "cell_type": "markdown",
   "metadata": {},
   "source": [
    "### 1. Logistic Regression"
   ]
  },
  {
   "cell_type": "code",
   "execution_count": 84,
   "metadata": {},
   "outputs": [],
   "source": [
    "# Starting with Logistic Regression.\n",
    "\n",
    "from sklearn.linear_model import LogisticRegression\n",
    "\n",
    "logistic_regressor = LogisticRegression(C = 2)"
   ]
  },
  {
   "cell_type": "code",
   "execution_count": 85,
   "metadata": {
    "scrolled": true
   },
   "outputs": [
    {
     "data": {
      "text/plain": [
       "LogisticRegression(C=2)"
      ]
     },
     "execution_count": 85,
     "metadata": {},
     "output_type": "execute_result"
    }
   ],
   "source": [
    "logistic_regressor.fit(X_training_set,y_training_set)"
   ]
  },
  {
   "cell_type": "code",
   "execution_count": 86,
   "metadata": {},
   "outputs": [],
   "source": [
    "log_regression_pred = logistic_regressor.predict(X_validation_set)"
   ]
  },
  {
   "cell_type": "code",
   "execution_count": 87,
   "metadata": {},
   "outputs": [
    {
     "data": {
      "text/plain": [
       "0    101337\n",
       "1       142\n",
       "Name: target, dtype: int64"
      ]
     },
     "execution_count": 87,
     "metadata": {},
     "output_type": "execute_result"
    }
   ],
   "source": [
    "pd.DataFrame({'target':log_regression_pred})['target'].value_counts()"
   ]
  },
  {
   "cell_type": "code",
   "execution_count": 88,
   "metadata": {},
   "outputs": [
    {
     "name": "stdout",
     "output_type": "stream",
     "text": [
      "The accuracy in general is :  0.919953882083978\n",
      "\n",
      "\n",
      "The classification report is as follows:\n",
      "               precision    recall  f1-score   support\n",
      "\n",
      "           0       0.92      1.00      0.96     93362\n",
      "           1       0.48      0.01      0.02      8117\n",
      "\n",
      "    accuracy                           0.92    101479\n",
      "   macro avg       0.70      0.50      0.49    101479\n",
      "weighted avg       0.89      0.92      0.88    101479\n",
      "\n",
      "ROC AUC score is:  0.5037924328335378\n"
     ]
    }
   ],
   "source": [
    "from sklearn.metrics import accuracy_score,classification_report, roc_auc_score\n",
    "print(\"The accuracy in general is : \", accuracy_score(y_validation_set,log_regression_pred))\n",
    "print(\"\\n\")\n",
    "print(\"The classification report is as follows:\\n\", classification_report(y_validation_set,log_regression_pred))\n",
    "print(\"ROC AUC score is: \",roc_auc_score(y_validation_set,log_regression_pred))"
   ]
  },
  {
   "cell_type": "markdown",
   "metadata": {},
   "source": [
    "### 2. Random Forest - Bagging ensemble of Decision trees"
   ]
  },
  {
   "cell_type": "code",
   "execution_count": 94,
   "metadata": {},
   "outputs": [],
   "source": [
    "from sklearn.ensemble import RandomForestClassifier\n",
    "\n",
    "random_forest = RandomForestClassifier(n_estimators = 500, random_state = 50, verbose = 1, n_jobs = -1)"
   ]
  },
  {
   "cell_type": "code",
   "execution_count": 95,
   "metadata": {
    "scrolled": true
   },
   "outputs": [
    {
     "name": "stderr",
     "output_type": "stream",
     "text": [
      "[Parallel(n_jobs=-1)]: Using backend ThreadingBackend with 8 concurrent workers.\n",
      "[Parallel(n_jobs=-1)]: Done  34 tasks      | elapsed:   22.3s\n",
      "[Parallel(n_jobs=-1)]: Done 184 tasks      | elapsed:  1.8min\n",
      "[Parallel(n_jobs=-1)]: Done 434 tasks      | elapsed:  4.8min\n",
      "[Parallel(n_jobs=-1)]: Done 500 out of 500 | elapsed:  5.6min finished\n"
     ]
    },
    {
     "data": {
      "text/plain": [
       "RandomForestClassifier(n_estimators=500, n_jobs=-1, random_state=50, verbose=1)"
      ]
     },
     "execution_count": 95,
     "metadata": {},
     "output_type": "execute_result"
    }
   ],
   "source": [
    "random_forest.fit(X_training_set,y_training_set)"
   ]
  },
  {
   "cell_type": "code",
   "execution_count": 96,
   "metadata": {},
   "outputs": [
    {
     "name": "stderr",
     "output_type": "stream",
     "text": [
      "[Parallel(n_jobs=8)]: Using backend ThreadingBackend with 8 concurrent workers.\n",
      "[Parallel(n_jobs=8)]: Done  34 tasks      | elapsed:    0.8s\n",
      "[Parallel(n_jobs=8)]: Done 184 tasks      | elapsed:    4.4s\n",
      "[Parallel(n_jobs=8)]: Done 434 tasks      | elapsed:   10.2s\n",
      "[Parallel(n_jobs=8)]: Done 500 out of 500 | elapsed:   11.7s finished\n"
     ]
    }
   ],
   "source": [
    "random_forest_pred = random_forest.predict(X_validation_set)"
   ]
  },
  {
   "cell_type": "code",
   "execution_count": 97,
   "metadata": {},
   "outputs": [
    {
     "name": "stdout",
     "output_type": "stream",
     "text": [
      "The accuracy in general is :  0.9199637363395382\n",
      "\n",
      "\n",
      "The classification report is as follows:\n",
      "               precision    recall  f1-score   support\n",
      "\n",
      "           0       0.92      1.00      0.96     93362\n",
      "           1       0.49      0.01      0.02      8117\n",
      "\n",
      "    accuracy                           0.92    101479\n",
      "   macro avg       0.70      0.50      0.49    101479\n",
      "weighted avg       0.89      0.92      0.88    101479\n",
      "\n",
      "ROC AUC score is:  0.5045289553267335\n"
     ]
    }
   ],
   "source": [
    "from sklearn.metrics import accuracy_score,classification_report,roc_auc_score\n",
    "print(\"The accuracy in general is : \", accuracy_score(y_validation_set,random_forest_pred))\n",
    "print(\"\\n\")\n",
    "print(\"The classification report is as follows:\\n\", classification_report(y_validation_set,random_forest_pred))\n",
    "print(\"ROC AUC score is: \",roc_auc_score(y_validation_set,random_forest_pred))"
   ]
  },
  {
   "cell_type": "markdown",
   "metadata": {},
   "source": [
    "### Feature importance of random forest classifier"
   ]
  },
  {
   "cell_type": "code",
   "execution_count": 101,
   "metadata": {},
   "outputs": [],
   "source": [
    "feature_importance_df = pd.DataFrame({'Feature':features,'Importance':random_forest.feature_importances_})"
   ]
  },
  {
   "cell_type": "code",
   "execution_count": 102,
   "metadata": {},
   "outputs": [],
   "source": [
    "def plot_importance(df):\n",
    "    \"\"\"\n",
    "    Builds the dataset to plot the feature importance.\n",
    "    \n",
    "    \"\"\"\n",
    "    # Sort features according to importance\n",
    "    df = df.sort_values(['Importance'],ascending=False).reset_index()\n",
    "    \n",
    "    # drop the old index to avoid confusion\n",
    "    df = df.drop(['index'],axis=1)\n",
    "    \n",
    "    # Make a horizontal bar chart of feature importances\n",
    "    plt.figure(figsize = (10, 9))\n",
    "    ax = plt.subplot()\n",
    "    \n",
    "    # Need to reverse the index to plot most important on top\n",
    "    ax.barh(list(reversed(list(df.index[:30]))), \n",
    "            df['Importance'].head(30), \n",
    "            align = 'center', edgecolor = 'k')\n",
    "    \n",
    "    # Set the yticks and labels\n",
    "    ax.set_yticks(list(reversed(list(df.index[:30]))))\n",
    "    ax.set_yticklabels(df['Feature'].head(30))\n",
    "    \n",
    "    plt.xlabel(\"Normalized feature importance\")\n",
    "    plt.ylabel(\"Features\")\n",
    "    \n",
    "    plt.show()\n",
    "    return df"
   ]
  },
  {
   "cell_type": "markdown",
   "metadata": {
    "collapsed": true
   },
   "source": [
    "##  The top 10 of the feature importance plot."
   ]
  },
  {
   "cell_type": "code",
   "execution_count": 103,
   "metadata": {
    "scrolled": true
   },
   "outputs": [
    {
     "data": {
      "image/png": "[encoded data removed]",
      "text/plain": [
       "<Figure size 720x648 with 1 Axes>"
      ]
     },
     "metadata": {
      "needs_background": "light"
     },
     "output_type": "display_data"
    }
   ],
   "source": [
    "sorted_importance = plot_importance(feature_importance_df)"
   ]
  },
  {
   "cell_type": "code",
   "execution_count": 104,
   "metadata": {},
   "outputs": [
    {
     "data": {
      "text/html": [
       "<div>\n",
       "<style scoped>\n",
       "    .dataframe tbody tr th:only-of-type {\n",
       "        vertical-align: middle;\n",
       "    }\n",
       "\n",
       "    .dataframe tbody tr th {\n",
       "        vertical-align: top;\n",
       "    }\n",
       "\n",
       "    .dataframe thead th {\n",
       "        text-align: right;\n",
       "    }\n",
       "</style>\n",
       "<table border=\"1\" class=\"dataframe\">\n",
       "  <thead>\n",
       "    <tr style=\"text-align: right;\">\n",
       "      <th></th>\n",
       "      <th>Feature</th>\n",
       "      <th>Importance</th>\n",
       "    </tr>\n",
       "  </thead>\n",
       "  <tbody>\n",
       "    <tr>\n",
       "      <th>0</th>\n",
       "      <td>FLAG_DOCUMENT_14</td>\n",
       "      <td>0.018486</td>\n",
       "    </tr>\n",
       "    <tr>\n",
       "      <th>1</th>\n",
       "      <td>WEEKDAY_APPR_PROCESS_START_MONDAY</td>\n",
       "      <td>0.018285</td>\n",
       "    </tr>\n",
       "    <tr>\n",
       "      <th>2</th>\n",
       "      <td>LIVE_CITY_NOT_WORK_CITY</td>\n",
       "      <td>0.017693</td>\n",
       "    </tr>\n",
       "    <tr>\n",
       "      <th>3</th>\n",
       "      <td>ELEVATORS_MEDI</td>\n",
       "      <td>0.017422</td>\n",
       "    </tr>\n",
       "    <tr>\n",
       "      <th>4</th>\n",
       "      <td>ORGANIZATION_TYPE_Transport: type 4</td>\n",
       "      <td>0.017168</td>\n",
       "    </tr>\n",
       "    <tr>\n",
       "      <th>5</th>\n",
       "      <td>LIVINGAREA_AVG</td>\n",
       "      <td>0.017014</td>\n",
       "    </tr>\n",
       "    <tr>\n",
       "      <th>6</th>\n",
       "      <td>OCCUPATION_TYPE_Low-skill Laborers</td>\n",
       "      <td>0.017010</td>\n",
       "    </tr>\n",
       "    <tr>\n",
       "      <th>7</th>\n",
       "      <td>NAME_INCOME_TYPE_Student</td>\n",
       "      <td>0.016698</td>\n",
       "    </tr>\n",
       "    <tr>\n",
       "      <th>8</th>\n",
       "      <td>AMT_REQ_CREDIT_BUREAU_DAY</td>\n",
       "      <td>0.016456</td>\n",
       "    </tr>\n",
       "    <tr>\n",
       "      <th>9</th>\n",
       "      <td>FLAG_DOCUMENT_21</td>\n",
       "      <td>0.016447</td>\n",
       "    </tr>\n",
       "    <tr>\n",
       "      <th>10</th>\n",
       "      <td>OCCUPATION_TYPE_Realty agents</td>\n",
       "      <td>0.016338</td>\n",
       "    </tr>\n",
       "    <tr>\n",
       "      <th>11</th>\n",
       "      <td>FLOORSMIN_MEDI</td>\n",
       "      <td>0.016159</td>\n",
       "    </tr>\n",
       "    <tr>\n",
       "      <th>12</th>\n",
       "      <td>FLAG_DOCUMENT_16</td>\n",
       "      <td>0.016098</td>\n",
       "    </tr>\n",
       "    <tr>\n",
       "      <th>13</th>\n",
       "      <td>AMT_CREDIT</td>\n",
       "      <td>0.015968</td>\n",
       "    </tr>\n",
       "    <tr>\n",
       "      <th>14</th>\n",
       "      <td>FLAG_DOCUMENT_9</td>\n",
       "      <td>0.015913</td>\n",
       "    </tr>\n",
       "    <tr>\n",
       "      <th>15</th>\n",
       "      <td>ORGANIZATION_TYPE_Industry: type 13</td>\n",
       "      <td>0.015765</td>\n",
       "    </tr>\n",
       "    <tr>\n",
       "      <th>16</th>\n",
       "      <td>ORGANIZATION_TYPE_Trade: type 6</td>\n",
       "      <td>0.015716</td>\n",
       "    </tr>\n",
       "    <tr>\n",
       "      <th>17</th>\n",
       "      <td>ORGANIZATION_TYPE_Industry: type 11</td>\n",
       "      <td>0.015562</td>\n",
       "    </tr>\n",
       "    <tr>\n",
       "      <th>18</th>\n",
       "      <td>LIVE_REGION_NOT_WORK_REGION</td>\n",
       "      <td>0.015486</td>\n",
       "    </tr>\n",
       "    <tr>\n",
       "      <th>19</th>\n",
       "      <td>NAME_FAMILY_STATUS_Single / not married</td>\n",
       "      <td>0.015288</td>\n",
       "    </tr>\n",
       "  </tbody>\n",
       "</table>\n",
       "</div>"
      ],
      "text/plain": [
       "                                    Feature  Importance\n",
       "0                          FLAG_DOCUMENT_14    0.018486\n",
       "1         WEEKDAY_APPR_PROCESS_START_MONDAY    0.018285\n",
       "2                   LIVE_CITY_NOT_WORK_CITY    0.017693\n",
       "3                            ELEVATORS_MEDI    0.017422\n",
       "4       ORGANIZATION_TYPE_Transport: type 4    0.017168\n",
       "5                            LIVINGAREA_AVG    0.017014\n",
       "6        OCCUPATION_TYPE_Low-skill Laborers    0.017010\n",
       "7                  NAME_INCOME_TYPE_Student    0.016698\n",
       "8                 AMT_REQ_CREDIT_BUREAU_DAY    0.016456\n",
       "9                          FLAG_DOCUMENT_21    0.016447\n",
       "10            OCCUPATION_TYPE_Realty agents    0.016338\n",
       "11                           FLOORSMIN_MEDI    0.016159\n",
       "12                         FLAG_DOCUMENT_16    0.016098\n",
       "13                               AMT_CREDIT    0.015968\n",
       "14                          FLAG_DOCUMENT_9    0.015913\n",
       "15      ORGANIZATION_TYPE_Industry: type 13    0.015765\n",
       "16          ORGANIZATION_TYPE_Trade: type 6    0.015716\n",
       "17      ORGANIZATION_TYPE_Industry: type 11    0.015562\n",
       "18              LIVE_REGION_NOT_WORK_REGION    0.015486\n",
       "19  NAME_FAMILY_STATUS_Single / not married    0.015288"
      ]
     },
     "execution_count": 104,
     "metadata": {},
     "output_type": "execute_result"
    }
   ],
   "source": [
    "sorted_importance.head(20)"
   ]
  },
  {
   "cell_type": "markdown",
   "metadata": {},
   "source": [
    "## 3. Extreme Gradient Boost Model"
   ]
  },
  {
   "cell_type": "code",
   "execution_count": 108,
   "metadata": {},
   "outputs": [],
   "source": [
    "from xgboost import XGBClassifier"
   ]
  },
  {
   "cell_type": "code",
   "execution_count": 109,
   "metadata": {},
   "outputs": [],
   "source": [
    "xgb_classifier = XGBClassifier(n_estimators=250,max_depth=5)"
   ]
  },
  {
   "cell_type": "code",
   "execution_count": 110,
   "metadata": {},
   "outputs": [
    {
     "name": "stdout",
     "output_type": "stream",
     "text": [
      "[21:09:35] WARNING: C:/Users/Administrator/workspace/xgboost-win64_release_1.5.1/src/learner.cc:1115: Starting in XGBoost 1.3.0, the default evaluation metric used with the objective 'binary:logistic' was changed from 'error' to 'logloss'. Explicitly set eval_metric if you'd like to restore the old behavior.\n"
     ]
    },
    {
     "data": {
      "text/plain": [
       "XGBClassifier(base_score=0.5, booster='gbtree', colsample_bylevel=1,\n",
       "              colsample_bynode=1, colsample_bytree=1, enable_categorical=False,\n",
       "              gamma=0, gpu_id=-1, importance_type=None,\n",
       "              interaction_constraints='', learning_rate=0.300000012,\n",
       "              max_delta_step=0, max_depth=5, min_child_weight=1, missing=nan,\n",
       "              monotone_constraints='()', n_estimators=250, n_jobs=8,\n",
       "              num_parallel_tree=1, predictor='auto', random_state=0,\n",
       "              reg_alpha=0, reg_lambda=1, scale_pos_weight=1, subsample=1,\n",
       "              tree_method='exact', validate_parameters=1, verbosity=None)"
      ]
     },
     "execution_count": 110,
     "metadata": {},
     "output_type": "execute_result"
    }
   ],
   "source": [
    "xgb_classifier.fit(X_training_set,y_training_set)"
   ]
  },
  {
   "cell_type": "code",
   "execution_count": 111,
   "metadata": {},
   "outputs": [],
   "source": [
    "xgb_pred = xgb_classifier.predict(X_validation_set)"
   ]
  },
  {
   "cell_type": "code",
   "execution_count": 112,
   "metadata": {},
   "outputs": [
    {
     "data": {
      "text/plain": [
       "0    100776\n",
       "1       703\n",
       "Name: target, dtype: int64"
      ]
     },
     "execution_count": 112,
     "metadata": {},
     "output_type": "execute_result"
    }
   ],
   "source": [
    "pd.DataFrame({'target':xgb_pred})['target'].value_counts()"
   ]
  },
  {
   "cell_type": "code",
   "execution_count": 113,
   "metadata": {},
   "outputs": [
    {
     "name": "stdout",
     "output_type": "stream",
     "text": [
      "The accuracy in general is :  0.9193527724948019\n",
      "\n",
      "\n",
      "The classification report is as follows:\n",
      "               precision    recall  f1-score   support\n",
      "\n",
      "           0       0.92      1.00      0.96     93362\n",
      "           1       0.45      0.04      0.07      8117\n",
      "\n",
      "    accuracy                           0.92    101479\n",
      "   macro avg       0.69      0.52      0.51    101479\n",
      "weighted avg       0.88      0.92      0.89    101479\n",
      "\n",
      "ROC AUC score is:  0.5175266512129749\n"
     ]
    }
   ],
   "source": [
    "from sklearn.metrics import accuracy_score,classification_report,roc_auc_score\n",
    "print(\"The accuracy in general is : \", accuracy_score(y_validation_set,xgb_pred))\n",
    "print(\"\\n\")\n",
    "print(\"The classification report is as follows:\\n\", classification_report(y_validation_set,xgb_pred))\n",
    "print(\"ROC AUC score is: \",roc_auc_score(y_validation_set,xgb_pred))"
   ]
  },
  {
   "cell_type": "markdown",
   "metadata": {},
   "source": [
    "## XGBoost Feature Importance"
   ]
  },
  {
   "cell_type": "code",
   "execution_count": 117,
   "metadata": {},
   "outputs": [],
   "source": [
    "xgb_feature_importance_df = pd.DataFrame({'Feature':features,'Importance':xgb_classifier.feature_importances_})"
   ]
  },
  {
   "cell_type": "code",
   "execution_count": 118,
   "metadata": {},
   "outputs": [
    {
     "data": {
      "image/png": "[encoded data removed]",
      "text/plain": [
       "<Figure size 720x648 with 1 Axes>"
      ]
     },
     "metadata": {
      "needs_background": "light"
     },
     "output_type": "display_data"
    }
   ],
   "source": [
    "sorted_importance = plot_importance(xgb_feature_importance_df)"
   ]
  },
  {
   "cell_type": "code",
   "execution_count": 120,
   "metadata": {},
   "outputs": [
    {
     "data": {
      "text/html": [
       "<div>\n",
       "<style scoped>\n",
       "    .dataframe tbody tr th:only-of-type {\n",
       "        vertical-align: middle;\n",
       "    }\n",
       "\n",
       "    .dataframe tbody tr th {\n",
       "        vertical-align: top;\n",
       "    }\n",
       "\n",
       "    .dataframe thead th {\n",
       "        text-align: right;\n",
       "    }\n",
       "</style>\n",
       "<table border=\"1\" class=\"dataframe\">\n",
       "  <thead>\n",
       "    <tr style=\"text-align: right;\">\n",
       "      <th></th>\n",
       "      <th>Feature</th>\n",
       "      <th>Importance</th>\n",
       "    </tr>\n",
       "  </thead>\n",
       "  <tbody>\n",
       "    <tr>\n",
       "      <th>0</th>\n",
       "      <td>WEEKDAY_APPR_PROCESS_START_MONDAY</td>\n",
       "      <td>0.080811</td>\n",
       "    </tr>\n",
       "    <tr>\n",
       "      <th>1</th>\n",
       "      <td>FLAG_DOCUMENT_14</td>\n",
       "      <td>0.022485</td>\n",
       "    </tr>\n",
       "    <tr>\n",
       "      <th>2</th>\n",
       "      <td>LIVE_CITY_NOT_WORK_CITY</td>\n",
       "      <td>0.016735</td>\n",
       "    </tr>\n",
       "    <tr>\n",
       "      <th>3</th>\n",
       "      <td>NAME_EDUCATION_TYPE_Lower secondary</td>\n",
       "      <td>0.014412</td>\n",
       "    </tr>\n",
       "    <tr>\n",
       "      <th>4</th>\n",
       "      <td>OCCUPATION_TYPE_HR staff</td>\n",
       "      <td>0.012077</td>\n",
       "    </tr>\n",
       "    <tr>\n",
       "      <th>5</th>\n",
       "      <td>FLAG_DOCUMENT_16</td>\n",
       "      <td>0.011789</td>\n",
       "    </tr>\n",
       "    <tr>\n",
       "      <th>6</th>\n",
       "      <td>EXT_SOURCE_3 EXT_SOURCE_2 EXT_SOURCE_1 DAYS_BIRTH</td>\n",
       "      <td>0.010489</td>\n",
       "    </tr>\n",
       "    <tr>\n",
       "      <th>7</th>\n",
       "      <td>AMT_INCOME_TOTAL</td>\n",
       "      <td>0.010425</td>\n",
       "    </tr>\n",
       "    <tr>\n",
       "      <th>8</th>\n",
       "      <td>EXT_SOURCE_2^3 DAYS_BIRTH</td>\n",
       "      <td>0.010366</td>\n",
       "    </tr>\n",
       "    <tr>\n",
       "      <th>9</th>\n",
       "      <td>OCCUPATION_TYPE_Core staff</td>\n",
       "      <td>0.008467</td>\n",
       "    </tr>\n",
       "    <tr>\n",
       "      <th>10</th>\n",
       "      <td>FLOORSMIN_MEDI</td>\n",
       "      <td>0.008139</td>\n",
       "    </tr>\n",
       "    <tr>\n",
       "      <th>11</th>\n",
       "      <td>FLAG_DOCUMENT_21</td>\n",
       "      <td>0.007904</td>\n",
       "    </tr>\n",
       "    <tr>\n",
       "      <th>12</th>\n",
       "      <td>FLOORSMAX_MODE</td>\n",
       "      <td>0.007884</td>\n",
       "    </tr>\n",
       "    <tr>\n",
       "      <th>13</th>\n",
       "      <td>CODE_GENDER_M</td>\n",
       "      <td>0.007748</td>\n",
       "    </tr>\n",
       "    <tr>\n",
       "      <th>14</th>\n",
       "      <td>REG_CITY_NOT_LIVE_CITY</td>\n",
       "      <td>0.007608</td>\n",
       "    </tr>\n",
       "    <tr>\n",
       "      <th>15</th>\n",
       "      <td>FONDKAPREMONT_MODE_reg oper account</td>\n",
       "      <td>0.007190</td>\n",
       "    </tr>\n",
       "    <tr>\n",
       "      <th>16</th>\n",
       "      <td>ORGANIZATION_TYPE_Trade: type 3</td>\n",
       "      <td>0.007185</td>\n",
       "    </tr>\n",
       "    <tr>\n",
       "      <th>17</th>\n",
       "      <td>ORGANIZATION_TYPE_Transport: type 4</td>\n",
       "      <td>0.007021</td>\n",
       "    </tr>\n",
       "    <tr>\n",
       "      <th>18</th>\n",
       "      <td>NAME_HOUSING_TYPE_With parents</td>\n",
       "      <td>0.006814</td>\n",
       "    </tr>\n",
       "    <tr>\n",
       "      <th>19</th>\n",
       "      <td>FLAG_EMP_PHONE</td>\n",
       "      <td>0.006671</td>\n",
       "    </tr>\n",
       "  </tbody>\n",
       "</table>\n",
       "</div>"
      ],
      "text/plain": [
       "                                              Feature  Importance\n",
       "0                   WEEKDAY_APPR_PROCESS_START_MONDAY    0.080811\n",
       "1                                    FLAG_DOCUMENT_14    0.022485\n",
       "2                             LIVE_CITY_NOT_WORK_CITY    0.016735\n",
       "3                 NAME_EDUCATION_TYPE_Lower secondary    0.014412\n",
       "4                            OCCUPATION_TYPE_HR staff    0.012077\n",
       "5                                    FLAG_DOCUMENT_16    0.011789\n",
       "6   EXT_SOURCE_3 EXT_SOURCE_2 EXT_SOURCE_1 DAYS_BIRTH    0.010489\n",
       "7                                    AMT_INCOME_TOTAL    0.010425\n",
       "8                           EXT_SOURCE_2^3 DAYS_BIRTH    0.010366\n",
       "9                          OCCUPATION_TYPE_Core staff    0.008467\n",
       "10                                     FLOORSMIN_MEDI    0.008139\n",
       "11                                   FLAG_DOCUMENT_21    0.007904\n",
       "12                                     FLOORSMAX_MODE    0.007884\n",
       "13                                      CODE_GENDER_M    0.007748\n",
       "14                             REG_CITY_NOT_LIVE_CITY    0.007608\n",
       "15                FONDKAPREMONT_MODE_reg oper account    0.007190\n",
       "16                    ORGANIZATION_TYPE_Trade: type 3    0.007185\n",
       "17                ORGANIZATION_TYPE_Transport: type 4    0.007021\n",
       "18                     NAME_HOUSING_TYPE_With parents    0.006814\n",
       "19                                     FLAG_EMP_PHONE    0.006671"
      ]
     },
     "execution_count": 120,
     "metadata": {},
     "output_type": "execute_result"
    }
   ],
   "source": [
    "sorted_importance.head(20)"
   ]
  },
  {
   "cell_type": "markdown",
   "metadata": {
    "collapsed": true
   },
   "source": [
    "## 4. LightGBM"
   ]
  },
  {
   "cell_type": "code",
   "execution_count": 122,
   "metadata": {},
   "outputs": [],
   "source": [
    "import lightgbm as lgb"
   ]
  },
  {
   "cell_type": "code",
   "execution_count": 123,
   "metadata": {},
   "outputs": [],
   "source": [
    "lgb_classifier = lgb.LGBMClassifier(boosting_type='gbdt', class_weight=None, colsample_bytree=1.0,\n",
    "        learning_rate=0.1, max_depth=-1, min_child_samples=20,\n",
    "        min_child_weight=0.001, min_split_gain=0.0, n_estimators=100,\n",
    "        n_jobs=-1, num_leaves=40, objective=None, random_state=None,\n",
    "        reg_alpha=0.0, reg_lambda=0.0, silent=True, subsample=1.0,\n",
    "        subsample_for_bin=200000, subsample_freq=0)"
   ]
  },
  {
   "cell_type": "code",
   "execution_count": 124,
   "metadata": {},
   "outputs": [
    {
     "data": {
      "text/plain": [
       "LGBMClassifier(num_leaves=40, silent=True)"
      ]
     },
     "execution_count": 124,
     "metadata": {},
     "output_type": "execute_result"
    }
   ],
   "source": [
    "lgb_classifier.fit(X_training_set,y_training_set)"
   ]
  },
  {
   "cell_type": "code",
   "execution_count": 125,
   "metadata": {},
   "outputs": [],
   "source": [
    "lgb_pred = lgb_classifier.predict(X_validation_set)"
   ]
  },
  {
   "cell_type": "code",
   "execution_count": 126,
   "metadata": {},
   "outputs": [
    {
     "data": {
      "text/plain": [
       "0    101184\n",
       "1       295\n",
       "Name: target, dtype: int64"
      ]
     },
     "execution_count": 126,
     "metadata": {},
     "output_type": "execute_result"
    }
   ],
   "source": [
    "pd.DataFrame({'target':lgb_pred})['target'].value_counts()"
   ]
  },
  {
   "cell_type": "code",
   "execution_count": 127,
   "metadata": {},
   "outputs": [
    {
     "name": "stdout",
     "output_type": "stream",
     "text": [
      "The accuracy in general is :  0.9202790725174667\n",
      "\n",
      "\n",
      "The classification report is as follows:\n",
      "               precision    recall  f1-score   support\n",
      "\n",
      "           0       0.92      1.00      0.96     93362\n",
      "           1       0.55      0.02      0.04      8117\n",
      "\n",
      "    accuracy                           0.92    101479\n",
      "   macro avg       0.73      0.51      0.50    101479\n",
      "weighted avg       0.89      0.92      0.88    101479\n",
      "\n",
      "ROC AUC score is:  0.5091998204627537\n"
     ]
    }
   ],
   "source": [
    "from sklearn.metrics import accuracy_score,classification_report,roc_auc_score\n",
    "print(\"The accuracy in general is : \", accuracy_score(y_validation_set,lgb_pred))\n",
    "print(\"\\n\")\n",
    "print(\"The classification report is as follows:\\n\", classification_report(y_validation_set,lgb_pred))\n",
    "print(\"ROC AUC score is: \",roc_auc_score(y_validation_set,lgb_pred))"
   ]
  },
  {
   "cell_type": "code",
   "execution_count": 128,
   "metadata": {},
   "outputs": [],
   "source": [
    "lgb_feature_importance_df = pd.DataFrame({'Feature':features,'Importance':lgb_classifier.feature_importances_/np.sum(lgb_classifier.feature_importances_)})"
   ]
  },
  {
   "cell_type": "code",
   "execution_count": 129,
   "metadata": {},
   "outputs": [
    {
     "data": {
      "image/png": "[encoded data removed]",
      "text/plain": [
       "<Figure size 720x648 with 1 Axes>"
      ]
     },
     "metadata": {
      "needs_background": "light"
     },
     "output_type": "display_data"
    }
   ],
   "source": [
    "sorted_importance = plot_importance(lgb_feature_importance_df)"
   ]
  },
  {
   "cell_type": "markdown",
   "metadata": {},
   "source": [
    "# What are the top 20 features?"
   ]
  },
  {
   "cell_type": "code",
   "execution_count": 148,
   "metadata": {},
   "outputs": [
    {
     "data": {
      "text/html": [
       "<div>\n",
       "<style scoped>\n",
       "    .dataframe tbody tr th:only-of-type {\n",
       "        vertical-align: middle;\n",
       "    }\n",
       "\n",
       "    .dataframe tbody tr th {\n",
       "        vertical-align: top;\n",
       "    }\n",
       "\n",
       "    .dataframe thead th {\n",
       "        text-align: right;\n",
       "    }\n",
       "</style>\n",
       "<table border=\"1\" class=\"dataframe\">\n",
       "  <thead>\n",
       "    <tr style=\"text-align: right;\">\n",
       "      <th></th>\n",
       "      <th>Feature</th>\n",
       "      <th>Importance</th>\n",
       "    </tr>\n",
       "  </thead>\n",
       "  <tbody>\n",
       "    <tr>\n",
       "      <th>0</th>\n",
       "      <td>FLOORSMIN_MEDI</td>\n",
       "      <td>0.091795</td>\n",
       "    </tr>\n",
       "    <tr>\n",
       "      <th>1</th>\n",
       "      <td>ORGANIZATION_TYPE_Realtor</td>\n",
       "      <td>0.033077</td>\n",
       "    </tr>\n",
       "    <tr>\n",
       "      <th>2</th>\n",
       "      <td>NAME_FAMILY_STATUS_Single / not married</td>\n",
       "      <td>0.030769</td>\n",
       "    </tr>\n",
       "    <tr>\n",
       "      <th>3</th>\n",
       "      <td>ELEVATORS_MEDI</td>\n",
       "      <td>0.028974</td>\n",
       "    </tr>\n",
       "    <tr>\n",
       "      <th>4</th>\n",
       "      <td>FLAG_DOCUMENT_17</td>\n",
       "      <td>0.028462</td>\n",
       "    </tr>\n",
       "    <tr>\n",
       "      <th>5</th>\n",
       "      <td>YEARS_BEGINEXPLUATATION_AVG</td>\n",
       "      <td>0.026667</td>\n",
       "    </tr>\n",
       "    <tr>\n",
       "      <th>6</th>\n",
       "      <td>OCCUPATION_TYPE_Low-skill Laborers</td>\n",
       "      <td>0.024872</td>\n",
       "    </tr>\n",
       "    <tr>\n",
       "      <th>7</th>\n",
       "      <td>NAME_INCOME_TYPE_Student</td>\n",
       "      <td>0.024359</td>\n",
       "    </tr>\n",
       "    <tr>\n",
       "      <th>8</th>\n",
       "      <td>FLAG_DOCUMENT_9</td>\n",
       "      <td>0.022821</td>\n",
       "    </tr>\n",
       "    <tr>\n",
       "      <th>9</th>\n",
       "      <td>EXT_SOURCE_2^2 EXT_SOURCE_1</td>\n",
       "      <td>0.022308</td>\n",
       "    </tr>\n",
       "    <tr>\n",
       "      <th>10</th>\n",
       "      <td>OCCUPATION_TYPE_Laborers</td>\n",
       "      <td>0.020000</td>\n",
       "    </tr>\n",
       "    <tr>\n",
       "      <th>11</th>\n",
       "      <td>LIVE_REGION_NOT_WORK_REGION</td>\n",
       "      <td>0.018205</td>\n",
       "    </tr>\n",
       "    <tr>\n",
       "      <th>12</th>\n",
       "      <td>OCCUPATION_TYPE_High skill tech staff</td>\n",
       "      <td>0.017949</td>\n",
       "    </tr>\n",
       "    <tr>\n",
       "      <th>13</th>\n",
       "      <td>ORGANIZATION_TYPE_Trade: type 6</td>\n",
       "      <td>0.016923</td>\n",
       "    </tr>\n",
       "    <tr>\n",
       "      <th>14</th>\n",
       "      <td>AMT_REQ_CREDIT_BUREAU_DAY</td>\n",
       "      <td>0.016154</td>\n",
       "    </tr>\n",
       "    <tr>\n",
       "      <th>15</th>\n",
       "      <td>ORGANIZATION_TYPE_Housing</td>\n",
       "      <td>0.014615</td>\n",
       "    </tr>\n",
       "    <tr>\n",
       "      <th>16</th>\n",
       "      <td>EXT_SOURCE_3 EXT_SOURCE_1 DAYS_BIRTH</td>\n",
       "      <td>0.013590</td>\n",
       "    </tr>\n",
       "    <tr>\n",
       "      <th>17</th>\n",
       "      <td>ORGANIZATION_TYPE_Industry: type 12</td>\n",
       "      <td>0.013590</td>\n",
       "    </tr>\n",
       "    <tr>\n",
       "      <th>18</th>\n",
       "      <td>ORGANIZATION_TYPE_Industry: type 6</td>\n",
       "      <td>0.013333</td>\n",
       "    </tr>\n",
       "    <tr>\n",
       "      <th>19</th>\n",
       "      <td>EXT_SOURCE_2^3 DAYS_BIRTH</td>\n",
       "      <td>0.012821</td>\n",
       "    </tr>\n",
       "  </tbody>\n",
       "</table>\n",
       "</div>"
      ],
      "text/plain": [
       "                                    Feature  Importance\n",
       "0                            FLOORSMIN_MEDI    0.091795\n",
       "1                 ORGANIZATION_TYPE_Realtor    0.033077\n",
       "2   NAME_FAMILY_STATUS_Single / not married    0.030769\n",
       "3                            ELEVATORS_MEDI    0.028974\n",
       "4                          FLAG_DOCUMENT_17    0.028462\n",
       "5               YEARS_BEGINEXPLUATATION_AVG    0.026667\n",
       "6        OCCUPATION_TYPE_Low-skill Laborers    0.024872\n",
       "7                  NAME_INCOME_TYPE_Student    0.024359\n",
       "8                           FLAG_DOCUMENT_9    0.022821\n",
       "9               EXT_SOURCE_2^2 EXT_SOURCE_1    0.022308\n",
       "10                 OCCUPATION_TYPE_Laborers    0.020000\n",
       "11              LIVE_REGION_NOT_WORK_REGION    0.018205\n",
       "12    OCCUPATION_TYPE_High skill tech staff    0.017949\n",
       "13          ORGANIZATION_TYPE_Trade: type 6    0.016923\n",
       "14                AMT_REQ_CREDIT_BUREAU_DAY    0.016154\n",
       "15                ORGANIZATION_TYPE_Housing    0.014615\n",
       "16     EXT_SOURCE_3 EXT_SOURCE_1 DAYS_BIRTH    0.013590\n",
       "17      ORGANIZATION_TYPE_Industry: type 12    0.013590\n",
       "18       ORGANIZATION_TYPE_Industry: type 6    0.013333\n",
       "19                EXT_SOURCE_2^3 DAYS_BIRTH    0.012821"
      ]
     },
     "execution_count": 148,
     "metadata": {},
     "output_type": "execute_result"
    }
   ],
   "source": [
    "sorted_importance.head(20)"
   ]
  },
  {
   "cell_type": "code",
   "execution_count": null,
   "metadata": {},
   "outputs": [],
   "source": []
  }
 ],
 "metadata": {
  "kernelspec": {
   "display_name": "Python 3 (ipykernel)",
   "language": "python",
   "name": "python3"
  },
  "language_info": {
   "codemirror_mode": {
    "name": "ipython",
    "version": 3
   },
   "file_extension": ".py",
   "mimetype": "text/x-python",
   "name": "python",
   "nbconvert_exporter": "python",
   "pygments_lexer": "ipython3",
   "version": "3.7.11"
  }
 },
 "nbformat": 4,
 "nbformat_minor": 2
}
