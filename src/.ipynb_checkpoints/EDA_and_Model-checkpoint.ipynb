{
 "cells": [
  {
   "cell_type": "markdown",
   "metadata": {
    "id": "YUBsiqJ1Oemf"
   },
   "source": [
    "# Home Credit Default Risk\n",
    "$^1$Nguyễn Quốc Dương, $^2$Đặng Thế Vĩnh Hiển\n",
    "\n",
    "$^1$Học viên cao học, Khoa học dữ liệu ứng dụng, Đại học Quy Nhơn\n",
    "\n",
    "$^2$Khoa Toán và Thống kê, Đại học Quy Nhơn"
   ]
  },
  {
   "cell_type": "markdown",
   "metadata": {
    "id": "Dpf_b8CDOem8"
   },
   "source": [
    "## Dự đoán khả năng trả nợ của mỗi người nộp đơn như thế nào?"
   ]
  },
  {
   "cell_type": "markdown",
   "metadata": {
    "id": "508DZZaYOenD"
   },
   "source": [
    "## Import necessary libraries."
   ]
  },
  {
   "cell_type": "code",
   "execution_count": 1,
   "metadata": {
    "id": "_y-NPcoROenL"
   },
   "outputs": [],
   "source": [
    "import numpy as np\n",
    "import pandas as pd\n",
    "import matplotlib.pyplot as plt\n",
    "import seaborn as sns\n",
    "import warnings\n",
    "warnings.filterwarnings(\"ignore\")\n",
    "%matplotlib inline"
   ]
  },
  {
   "cell_type": "markdown",
   "metadata": {
    "id": "UbN54JALOenX"
   },
   "source": [
    "## Read the data files"
   ]
  },
  {
   "cell_type": "code",
   "execution_count": 6,
   "metadata": {
    "id": "EdDkLj_AOenb"
   },
   "outputs": [],
   "source": [
    "train = pd.read_csv(\"../dataset/application_train.csv\")\n",
    "test = pd.read_csv(\"../dataset/application_test.csv\")"
   ]
  },
  {
   "cell_type": "code",
   "execution_count": 10,
   "metadata": {
    "colab": {
     "base_uri": "https://localhost:8080/",
     "height": 299
    },
    "id": "gy_oICVgOeng",
    "outputId": "19d3304c-835b-4f8d-a5ef-cafda26b01f8"
   },
   "outputs": [
    {
     "data": {
      "text/html": [
       "\n",
       "  <div id=\"df-75cdd74a-edf2-4a8f-9d60-b37ba55ed90a\">\n",
       "    <div class=\"colab-df-container\">\n",
       "      <div>\n",
       "<style scoped>\n",
       "    .dataframe tbody tr th:only-of-type {\n",
       "        vertical-align: middle;\n",
       "    }\n",
       "\n",
       "    .dataframe tbody tr th {\n",
       "        vertical-align: top;\n",
       "    }\n",
       "\n",
       "    .dataframe thead th {\n",
       "        text-align: right;\n",
       "    }\n",
       "</style>\n",
       "<table border=\"1\" class=\"dataframe\">\n",
       "  <thead>\n",
       "    <tr style=\"text-align: right;\">\n",
       "      <th></th>\n",
       "      <th>SK_ID_CURR</th>\n",
       "      <th>TARGET</th>\n",
       "      <th>NAME_CONTRACT_TYPE</th>\n",
       "      <th>CODE_GENDER</th>\n",
       "      <th>FLAG_OWN_CAR</th>\n",
       "      <th>FLAG_OWN_REALTY</th>\n",
       "      <th>CNT_CHILDREN</th>\n",
       "      <th>AMT_INCOME_TOTAL</th>\n",
       "      <th>AMT_CREDIT</th>\n",
       "      <th>AMT_ANNUITY</th>\n",
       "      <th>...</th>\n",
       "      <th>FLAG_DOCUMENT_18</th>\n",
       "      <th>FLAG_DOCUMENT_19</th>\n",
       "      <th>FLAG_DOCUMENT_20</th>\n",
       "      <th>FLAG_DOCUMENT_21</th>\n",
       "      <th>AMT_REQ_CREDIT_BUREAU_HOUR</th>\n",
       "      <th>AMT_REQ_CREDIT_BUREAU_DAY</th>\n",
       "      <th>AMT_REQ_CREDIT_BUREAU_WEEK</th>\n",
       "      <th>AMT_REQ_CREDIT_BUREAU_MON</th>\n",
       "      <th>AMT_REQ_CREDIT_BUREAU_QRT</th>\n",
       "      <th>AMT_REQ_CREDIT_BUREAU_YEAR</th>\n",
       "    </tr>\n",
       "  </thead>\n",
       "  <tbody>\n",
       "    <tr>\n",
       "      <th>0</th>\n",
       "      <td>100002</td>\n",
       "      <td>1</td>\n",
       "      <td>Cash loans</td>\n",
       "      <td>M</td>\n",
       "      <td>N</td>\n",
       "      <td>Y</td>\n",
       "      <td>0</td>\n",
       "      <td>202500.0</td>\n",
       "      <td>406597.5</td>\n",
       "      <td>24700.5</td>\n",
       "      <td>...</td>\n",
       "      <td>0</td>\n",
       "      <td>0</td>\n",
       "      <td>0</td>\n",
       "      <td>0</td>\n",
       "      <td>0.0</td>\n",
       "      <td>0.0</td>\n",
       "      <td>0.0</td>\n",
       "      <td>0.0</td>\n",
       "      <td>0.0</td>\n",
       "      <td>1.0</td>\n",
       "    </tr>\n",
       "    <tr>\n",
       "      <th>1</th>\n",
       "      <td>100003</td>\n",
       "      <td>0</td>\n",
       "      <td>Cash loans</td>\n",
       "      <td>F</td>\n",
       "      <td>N</td>\n",
       "      <td>N</td>\n",
       "      <td>0</td>\n",
       "      <td>270000.0</td>\n",
       "      <td>1293502.5</td>\n",
       "      <td>35698.5</td>\n",
       "      <td>...</td>\n",
       "      <td>0</td>\n",
       "      <td>0</td>\n",
       "      <td>0</td>\n",
       "      <td>0</td>\n",
       "      <td>0.0</td>\n",
       "      <td>0.0</td>\n",
       "      <td>0.0</td>\n",
       "      <td>0.0</td>\n",
       "      <td>0.0</td>\n",
       "      <td>0.0</td>\n",
       "    </tr>\n",
       "    <tr>\n",
       "      <th>2</th>\n",
       "      <td>100004</td>\n",
       "      <td>0</td>\n",
       "      <td>Revolving loans</td>\n",
       "      <td>M</td>\n",
       "      <td>Y</td>\n",
       "      <td>Y</td>\n",
       "      <td>0</td>\n",
       "      <td>67500.0</td>\n",
       "      <td>135000.0</td>\n",
       "      <td>6750.0</td>\n",
       "      <td>...</td>\n",
       "      <td>0</td>\n",
       "      <td>0</td>\n",
       "      <td>0</td>\n",
       "      <td>0</td>\n",
       "      <td>0.0</td>\n",
       "      <td>0.0</td>\n",
       "      <td>0.0</td>\n",
       "      <td>0.0</td>\n",
       "      <td>0.0</td>\n",
       "      <td>0.0</td>\n",
       "    </tr>\n",
       "    <tr>\n",
       "      <th>3</th>\n",
       "      <td>100006</td>\n",
       "      <td>0</td>\n",
       "      <td>Cash loans</td>\n",
       "      <td>F</td>\n",
       "      <td>N</td>\n",
       "      <td>Y</td>\n",
       "      <td>0</td>\n",
       "      <td>135000.0</td>\n",
       "      <td>312682.5</td>\n",
       "      <td>29686.5</td>\n",
       "      <td>...</td>\n",
       "      <td>0</td>\n",
       "      <td>0</td>\n",
       "      <td>0</td>\n",
       "      <td>0</td>\n",
       "      <td>NaN</td>\n",
       "      <td>NaN</td>\n",
       "      <td>NaN</td>\n",
       "      <td>NaN</td>\n",
       "      <td>NaN</td>\n",
       "      <td>NaN</td>\n",
       "    </tr>\n",
       "    <tr>\n",
       "      <th>4</th>\n",
       "      <td>100007</td>\n",
       "      <td>0</td>\n",
       "      <td>Cash loans</td>\n",
       "      <td>M</td>\n",
       "      <td>N</td>\n",
       "      <td>Y</td>\n",
       "      <td>0</td>\n",
       "      <td>121500.0</td>\n",
       "      <td>513000.0</td>\n",
       "      <td>21865.5</td>\n",
       "      <td>...</td>\n",
       "      <td>0</td>\n",
       "      <td>0</td>\n",
       "      <td>0</td>\n",
       "      <td>0</td>\n",
       "      <td>0.0</td>\n",
       "      <td>0.0</td>\n",
       "      <td>0.0</td>\n",
       "      <td>0.0</td>\n",
       "      <td>0.0</td>\n",
       "      <td>0.0</td>\n",
       "    </tr>\n",
       "  </tbody>\n",
       "</table>\n",
       "<p>5 rows × 122 columns</p>\n",
       "</div>\n",
       "      <button class=\"colab-df-convert\" onclick=\"convertToInteractive('df-75cdd74a-edf2-4a8f-9d60-b37ba55ed90a')\"\n",
       "              title=\"Convert this dataframe to an interactive table.\"\n",
       "              style=\"display:none;\">\n",
       "        \n",
       "  <svg xmlns=\"http://www.w3.org/2000/svg\" height=\"24px\"viewBox=\"0 0 24 24\"\n",
       "       width=\"24px\">\n",
       "    <path d=\"M0 0h24v24H0V0z\" fill=\"none\"/>\n",
       "    <path d=\"M18.56 5.44l.94 2.06.94-2.06 2.06-.94-2.06-.94-.94-2.06-.94 2.06-2.06.94zm-11 1L8.5 8.5l.94-2.06 2.06-.94-2.06-.94L8.5 2.5l-.94 2.06-2.06.94zm10 10l.94 2.06.94-2.06 2.06-.94-2.06-.94-.94-2.06-.94 2.06-2.06.94z\"/><path d=\"M17.41 7.96l-1.37-1.37c-.4-.4-.92-.59-1.43-.59-.52 0-1.04.2-1.43.59L10.3 9.45l-7.72 7.72c-.78.78-.78 2.05 0 2.83L4 21.41c.39.39.9.59 1.41.59.51 0 1.02-.2 1.41-.59l7.78-7.78 2.81-2.81c.8-.78.8-2.07 0-2.86zM5.41 20L4 18.59l7.72-7.72 1.47 1.35L5.41 20z\"/>\n",
       "  </svg>\n",
       "      </button>\n",
       "      \n",
       "  <style>\n",
       "    .colab-df-container {\n",
       "      display:flex;\n",
       "      flex-wrap:wrap;\n",
       "      gap: 12px;\n",
       "    }\n",
       "\n",
       "    .colab-df-convert {\n",
       "      background-color: #E8F0FE;\n",
       "      border: none;\n",
       "      border-radius: 50%;\n",
       "      cursor: pointer;\n",
       "      display: none;\n",
       "      fill: #1967D2;\n",
       "      height: 32px;\n",
       "      padding: 0 0 0 0;\n",
       "      width: 32px;\n",
       "    }\n",
       "\n",
       "    .colab-df-convert:hover {\n",
       "      background-color: #E2EBFA;\n",
       "      box-shadow: 0px 1px 2px rgba(60, 64, 67, 0.3), 0px 1px 3px 1px rgba(60, 64, 67, 0.15);\n",
       "      fill: #174EA6;\n",
       "    }\n",
       "\n",
       "    [theme=dark] .colab-df-convert {\n",
       "      background-color: #3B4455;\n",
       "      fill: #D2E3FC;\n",
       "    }\n",
       "\n",
       "    [theme=dark] .colab-df-convert:hover {\n",
       "      background-color: #434B5C;\n",
       "      box-shadow: 0px 1px 3px 1px rgba(0, 0, 0, 0.15);\n",
       "      filter: drop-shadow(0px 1px 2px rgba(0, 0, 0, 0.3));\n",
       "      fill: #FFFFFF;\n",
       "    }\n",
       "  </style>\n",
       "\n",
       "      <script>\n",
       "        const buttonEl =\n",
       "          document.querySelector('#df-75cdd74a-edf2-4a8f-9d60-b37ba55ed90a button.colab-df-convert');\n",
       "        buttonEl.style.display =\n",
       "          google.colab.kernel.accessAllowed ? 'block' : 'none';\n",
       "\n",
       "        async function convertToInteractive(key) {\n",
       "          const element = document.querySelector('#df-75cdd74a-edf2-4a8f-9d60-b37ba55ed90a');\n",
       "          const dataTable =\n",
       "            await google.colab.kernel.invokeFunction('convertToInteractive',\n",
       "                                                     [key], {});\n",
       "          if (!dataTable) return;\n",
       "\n",
       "          const docLinkHtml = 'Like what you see? Visit the ' +\n",
       "            '<a target=\"_blank\" href=https://colab.research.google.com/notebooks/data_table.ipynb>data table notebook</a>'\n",
       "            + ' to learn more about interactive tables.';\n",
       "          element.innerHTML = '';\n",
       "          dataTable['output_type'] = 'display_data';\n",
       "          await google.colab.output.renderOutput(dataTable, element);\n",
       "          const docLink = document.createElement('div');\n",
       "          docLink.innerHTML = docLinkHtml;\n",
       "          element.appendChild(docLink);\n",
       "        }\n",
       "      </script>\n",
       "    </div>\n",
       "  </div>\n",
       "  "
      ],
      "text/plain": [
       "   SK_ID_CURR  TARGET NAME_CONTRACT_TYPE CODE_GENDER FLAG_OWN_CAR  \\\n",
       "0      100002       1         Cash loans           M            N   \n",
       "1      100003       0         Cash loans           F            N   \n",
       "2      100004       0    Revolving loans           M            Y   \n",
       "3      100006       0         Cash loans           F            N   \n",
       "4      100007       0         Cash loans           M            N   \n",
       "\n",
       "  FLAG_OWN_REALTY  CNT_CHILDREN  AMT_INCOME_TOTAL  AMT_CREDIT  AMT_ANNUITY  \\\n",
       "0               Y             0          202500.0    406597.5      24700.5   \n",
       "1               N             0          270000.0   1293502.5      35698.5   \n",
       "2               Y             0           67500.0    135000.0       6750.0   \n",
       "3               Y             0          135000.0    312682.5      29686.5   \n",
       "4               Y             0          121500.0    513000.0      21865.5   \n",
       "\n",
       "   ...  FLAG_DOCUMENT_18 FLAG_DOCUMENT_19 FLAG_DOCUMENT_20 FLAG_DOCUMENT_21  \\\n",
       "0  ...                 0                0                0                0   \n",
       "1  ...                 0                0                0                0   \n",
       "2  ...                 0                0                0                0   \n",
       "3  ...                 0                0                0                0   \n",
       "4  ...                 0                0                0                0   \n",
       "\n",
       "  AMT_REQ_CREDIT_BUREAU_HOUR AMT_REQ_CREDIT_BUREAU_DAY  \\\n",
       "0                        0.0                       0.0   \n",
       "1                        0.0                       0.0   \n",
       "2                        0.0                       0.0   \n",
       "3                        NaN                       NaN   \n",
       "4                        0.0                       0.0   \n",
       "\n",
       "   AMT_REQ_CREDIT_BUREAU_WEEK  AMT_REQ_CREDIT_BUREAU_MON  \\\n",
       "0                         0.0                        0.0   \n",
       "1                         0.0                        0.0   \n",
       "2                         0.0                        0.0   \n",
       "3                         NaN                        NaN   \n",
       "4                         0.0                        0.0   \n",
       "\n",
       "   AMT_REQ_CREDIT_BUREAU_QRT  AMT_REQ_CREDIT_BUREAU_YEAR  \n",
       "0                        0.0                         1.0  \n",
       "1                        0.0                         0.0  \n",
       "2                        0.0                         0.0  \n",
       "3                        NaN                         NaN  \n",
       "4                        0.0                         0.0  \n",
       "\n",
       "[5 rows x 122 columns]"
      ]
     },
     "execution_count": 10,
     "metadata": {},
     "output_type": "execute_result"
    }
   ],
   "source": [
    "train.head()"
   ]
  },
  {
   "cell_type": "code",
   "execution_count": 11,
   "metadata": {
    "colab": {
     "base_uri": "https://localhost:8080/",
     "height": 394
    },
    "id": "ekt3MElxOenq",
    "outputId": "49d5bc26-8b56-4b58-9588-cdb488fa3f4c"
   },
   "outputs": [
    {
     "data": {
      "text/html": [
       "\n",
       "  <div id=\"df-4b6d374a-4265-478b-b8e5-62e520064264\">\n",
       "    <div class=\"colab-df-container\">\n",
       "      <div>\n",
       "<style scoped>\n",
       "    .dataframe tbody tr th:only-of-type {\n",
       "        vertical-align: middle;\n",
       "    }\n",
       "\n",
       "    .dataframe tbody tr th {\n",
       "        vertical-align: top;\n",
       "    }\n",
       "\n",
       "    .dataframe thead th {\n",
       "        text-align: right;\n",
       "    }\n",
       "</style>\n",
       "<table border=\"1\" class=\"dataframe\">\n",
       "  <thead>\n",
       "    <tr style=\"text-align: right;\">\n",
       "      <th></th>\n",
       "      <th>SK_ID_CURR</th>\n",
       "      <th>TARGET</th>\n",
       "      <th>CNT_CHILDREN</th>\n",
       "      <th>AMT_INCOME_TOTAL</th>\n",
       "      <th>AMT_CREDIT</th>\n",
       "      <th>AMT_ANNUITY</th>\n",
       "      <th>AMT_GOODS_PRICE</th>\n",
       "      <th>REGION_POPULATION_RELATIVE</th>\n",
       "      <th>DAYS_BIRTH</th>\n",
       "      <th>DAYS_EMPLOYED</th>\n",
       "      <th>...</th>\n",
       "      <th>FLAG_DOCUMENT_18</th>\n",
       "      <th>FLAG_DOCUMENT_19</th>\n",
       "      <th>FLAG_DOCUMENT_20</th>\n",
       "      <th>FLAG_DOCUMENT_21</th>\n",
       "      <th>AMT_REQ_CREDIT_BUREAU_HOUR</th>\n",
       "      <th>AMT_REQ_CREDIT_BUREAU_DAY</th>\n",
       "      <th>AMT_REQ_CREDIT_BUREAU_WEEK</th>\n",
       "      <th>AMT_REQ_CREDIT_BUREAU_MON</th>\n",
       "      <th>AMT_REQ_CREDIT_BUREAU_QRT</th>\n",
       "      <th>AMT_REQ_CREDIT_BUREAU_YEAR</th>\n",
       "    </tr>\n",
       "  </thead>\n",
       "  <tbody>\n",
       "    <tr>\n",
       "      <th>count</th>\n",
       "      <td>307511.000000</td>\n",
       "      <td>307511.000000</td>\n",
       "      <td>307511.000000</td>\n",
       "      <td>3.075110e+05</td>\n",
       "      <td>3.075110e+05</td>\n",
       "      <td>307499.000000</td>\n",
       "      <td>3.072330e+05</td>\n",
       "      <td>307511.000000</td>\n",
       "      <td>307511.000000</td>\n",
       "      <td>307511.000000</td>\n",
       "      <td>...</td>\n",
       "      <td>307511.000000</td>\n",
       "      <td>307511.000000</td>\n",
       "      <td>307511.000000</td>\n",
       "      <td>307511.000000</td>\n",
       "      <td>265992.000000</td>\n",
       "      <td>265992.000000</td>\n",
       "      <td>265992.000000</td>\n",
       "      <td>265992.000000</td>\n",
       "      <td>265992.000000</td>\n",
       "      <td>265992.000000</td>\n",
       "    </tr>\n",
       "    <tr>\n",
       "      <th>mean</th>\n",
       "      <td>278180.518577</td>\n",
       "      <td>0.080729</td>\n",
       "      <td>0.417052</td>\n",
       "      <td>1.687979e+05</td>\n",
       "      <td>5.990260e+05</td>\n",
       "      <td>27108.573909</td>\n",
       "      <td>5.383962e+05</td>\n",
       "      <td>0.020868</td>\n",
       "      <td>-16036.995067</td>\n",
       "      <td>63815.045904</td>\n",
       "      <td>...</td>\n",
       "      <td>0.008130</td>\n",
       "      <td>0.000595</td>\n",
       "      <td>0.000507</td>\n",
       "      <td>0.000335</td>\n",
       "      <td>0.006402</td>\n",
       "      <td>0.007000</td>\n",
       "      <td>0.034362</td>\n",
       "      <td>0.267395</td>\n",
       "      <td>0.265474</td>\n",
       "      <td>1.899974</td>\n",
       "    </tr>\n",
       "    <tr>\n",
       "      <th>std</th>\n",
       "      <td>102790.175348</td>\n",
       "      <td>0.272419</td>\n",
       "      <td>0.722121</td>\n",
       "      <td>2.371231e+05</td>\n",
       "      <td>4.024908e+05</td>\n",
       "      <td>14493.737315</td>\n",
       "      <td>3.694465e+05</td>\n",
       "      <td>0.013831</td>\n",
       "      <td>4363.988632</td>\n",
       "      <td>141275.766519</td>\n",
       "      <td>...</td>\n",
       "      <td>0.089798</td>\n",
       "      <td>0.024387</td>\n",
       "      <td>0.022518</td>\n",
       "      <td>0.018299</td>\n",
       "      <td>0.083849</td>\n",
       "      <td>0.110757</td>\n",
       "      <td>0.204685</td>\n",
       "      <td>0.916002</td>\n",
       "      <td>0.794056</td>\n",
       "      <td>1.869295</td>\n",
       "    </tr>\n",
       "    <tr>\n",
       "      <th>min</th>\n",
       "      <td>100002.000000</td>\n",
       "      <td>0.000000</td>\n",
       "      <td>0.000000</td>\n",
       "      <td>2.565000e+04</td>\n",
       "      <td>4.500000e+04</td>\n",
       "      <td>1615.500000</td>\n",
       "      <td>4.050000e+04</td>\n",
       "      <td>0.000290</td>\n",
       "      <td>-25229.000000</td>\n",
       "      <td>-17912.000000</td>\n",
       "      <td>...</td>\n",
       "      <td>0.000000</td>\n",
       "      <td>0.000000</td>\n",
       "      <td>0.000000</td>\n",
       "      <td>0.000000</td>\n",
       "      <td>0.000000</td>\n",
       "      <td>0.000000</td>\n",
       "      <td>0.000000</td>\n",
       "      <td>0.000000</td>\n",
       "      <td>0.000000</td>\n",
       "      <td>0.000000</td>\n",
       "    </tr>\n",
       "    <tr>\n",
       "      <th>25%</th>\n",
       "      <td>189145.500000</td>\n",
       "      <td>0.000000</td>\n",
       "      <td>0.000000</td>\n",
       "      <td>1.125000e+05</td>\n",
       "      <td>2.700000e+05</td>\n",
       "      <td>16524.000000</td>\n",
       "      <td>2.385000e+05</td>\n",
       "      <td>0.010006</td>\n",
       "      <td>-19682.000000</td>\n",
       "      <td>-2760.000000</td>\n",
       "      <td>...</td>\n",
       "      <td>0.000000</td>\n",
       "      <td>0.000000</td>\n",
       "      <td>0.000000</td>\n",
       "      <td>0.000000</td>\n",
       "      <td>0.000000</td>\n",
       "      <td>0.000000</td>\n",
       "      <td>0.000000</td>\n",
       "      <td>0.000000</td>\n",
       "      <td>0.000000</td>\n",
       "      <td>0.000000</td>\n",
       "    </tr>\n",
       "    <tr>\n",
       "      <th>50%</th>\n",
       "      <td>278202.000000</td>\n",
       "      <td>0.000000</td>\n",
       "      <td>0.000000</td>\n",
       "      <td>1.471500e+05</td>\n",
       "      <td>5.135310e+05</td>\n",
       "      <td>24903.000000</td>\n",
       "      <td>4.500000e+05</td>\n",
       "      <td>0.018850</td>\n",
       "      <td>-15750.000000</td>\n",
       "      <td>-1213.000000</td>\n",
       "      <td>...</td>\n",
       "      <td>0.000000</td>\n",
       "      <td>0.000000</td>\n",
       "      <td>0.000000</td>\n",
       "      <td>0.000000</td>\n",
       "      <td>0.000000</td>\n",
       "      <td>0.000000</td>\n",
       "      <td>0.000000</td>\n",
       "      <td>0.000000</td>\n",
       "      <td>0.000000</td>\n",
       "      <td>1.000000</td>\n",
       "    </tr>\n",
       "    <tr>\n",
       "      <th>75%</th>\n",
       "      <td>367142.500000</td>\n",
       "      <td>0.000000</td>\n",
       "      <td>1.000000</td>\n",
       "      <td>2.025000e+05</td>\n",
       "      <td>8.086500e+05</td>\n",
       "      <td>34596.000000</td>\n",
       "      <td>6.795000e+05</td>\n",
       "      <td>0.028663</td>\n",
       "      <td>-12413.000000</td>\n",
       "      <td>-289.000000</td>\n",
       "      <td>...</td>\n",
       "      <td>0.000000</td>\n",
       "      <td>0.000000</td>\n",
       "      <td>0.000000</td>\n",
       "      <td>0.000000</td>\n",
       "      <td>0.000000</td>\n",
       "      <td>0.000000</td>\n",
       "      <td>0.000000</td>\n",
       "      <td>0.000000</td>\n",
       "      <td>0.000000</td>\n",
       "      <td>3.000000</td>\n",
       "    </tr>\n",
       "    <tr>\n",
       "      <th>max</th>\n",
       "      <td>456255.000000</td>\n",
       "      <td>1.000000</td>\n",
       "      <td>19.000000</td>\n",
       "      <td>1.170000e+08</td>\n",
       "      <td>4.050000e+06</td>\n",
       "      <td>258025.500000</td>\n",
       "      <td>4.050000e+06</td>\n",
       "      <td>0.072508</td>\n",
       "      <td>-7489.000000</td>\n",
       "      <td>365243.000000</td>\n",
       "      <td>...</td>\n",
       "      <td>1.000000</td>\n",
       "      <td>1.000000</td>\n",
       "      <td>1.000000</td>\n",
       "      <td>1.000000</td>\n",
       "      <td>4.000000</td>\n",
       "      <td>9.000000</td>\n",
       "      <td>8.000000</td>\n",
       "      <td>27.000000</td>\n",
       "      <td>261.000000</td>\n",
       "      <td>25.000000</td>\n",
       "    </tr>\n",
       "  </tbody>\n",
       "</table>\n",
       "<p>8 rows × 106 columns</p>\n",
       "</div>\n",
       "      <button class=\"colab-df-convert\" onclick=\"convertToInteractive('df-4b6d374a-4265-478b-b8e5-62e520064264')\"\n",
       "              title=\"Convert this dataframe to an interactive table.\"\n",
       "              style=\"display:none;\">\n",
       "        \n",
       "  <svg xmlns=\"http://www.w3.org/2000/svg\" height=\"24px\"viewBox=\"0 0 24 24\"\n",
       "       width=\"24px\">\n",
       "    <path d=\"M0 0h24v24H0V0z\" fill=\"none\"/>\n",
       "    <path d=\"M18.56 5.44l.94 2.06.94-2.06 2.06-.94-2.06-.94-.94-2.06-.94 2.06-2.06.94zm-11 1L8.5 8.5l.94-2.06 2.06-.94-2.06-.94L8.5 2.5l-.94 2.06-2.06.94zm10 10l.94 2.06.94-2.06 2.06-.94-2.06-.94-.94-2.06-.94 2.06-2.06.94z\"/><path d=\"M17.41 7.96l-1.37-1.37c-.4-.4-.92-.59-1.43-.59-.52 0-1.04.2-1.43.59L10.3 9.45l-7.72 7.72c-.78.78-.78 2.05 0 2.83L4 21.41c.39.39.9.59 1.41.59.51 0 1.02-.2 1.41-.59l7.78-7.78 2.81-2.81c.8-.78.8-2.07 0-2.86zM5.41 20L4 18.59l7.72-7.72 1.47 1.35L5.41 20z\"/>\n",
       "  </svg>\n",
       "      </button>\n",
       "      \n",
       "  <style>\n",
       "    .colab-df-container {\n",
       "      display:flex;\n",
       "      flex-wrap:wrap;\n",
       "      gap: 12px;\n",
       "    }\n",
       "\n",
       "    .colab-df-convert {\n",
       "      background-color: #E8F0FE;\n",
       "      border: none;\n",
       "      border-radius: 50%;\n",
       "      cursor: pointer;\n",
       "      display: none;\n",
       "      fill: #1967D2;\n",
       "      height: 32px;\n",
       "      padding: 0 0 0 0;\n",
       "      width: 32px;\n",
       "    }\n",
       "\n",
       "    .colab-df-convert:hover {\n",
       "      background-color: #E2EBFA;\n",
       "      box-shadow: 0px 1px 2px rgba(60, 64, 67, 0.3), 0px 1px 3px 1px rgba(60, 64, 67, 0.15);\n",
       "      fill: #174EA6;\n",
       "    }\n",
       "\n",
       "    [theme=dark] .colab-df-convert {\n",
       "      background-color: #3B4455;\n",
       "      fill: #D2E3FC;\n",
       "    }\n",
       "\n",
       "    [theme=dark] .colab-df-convert:hover {\n",
       "      background-color: #434B5C;\n",
       "      box-shadow: 0px 1px 3px 1px rgba(0, 0, 0, 0.15);\n",
       "      filter: drop-shadow(0px 1px 2px rgba(0, 0, 0, 0.3));\n",
       "      fill: #FFFFFF;\n",
       "    }\n",
       "  </style>\n",
       "\n",
       "      <script>\n",
       "        const buttonEl =\n",
       "          document.querySelector('#df-4b6d374a-4265-478b-b8e5-62e520064264 button.colab-df-convert');\n",
       "        buttonEl.style.display =\n",
       "          google.colab.kernel.accessAllowed ? 'block' : 'none';\n",
       "\n",
       "        async function convertToInteractive(key) {\n",
       "          const element = document.querySelector('#df-4b6d374a-4265-478b-b8e5-62e520064264');\n",
       "          const dataTable =\n",
       "            await google.colab.kernel.invokeFunction('convertToInteractive',\n",
       "                                                     [key], {});\n",
       "          if (!dataTable) return;\n",
       "\n",
       "          const docLinkHtml = 'Like what you see? Visit the ' +\n",
       "            '<a target=\"_blank\" href=https://colab.research.google.com/notebooks/data_table.ipynb>data table notebook</a>'\n",
       "            + ' to learn more about interactive tables.';\n",
       "          element.innerHTML = '';\n",
       "          dataTable['output_type'] = 'display_data';\n",
       "          await google.colab.output.renderOutput(dataTable, element);\n",
       "          const docLink = document.createElement('div');\n",
       "          docLink.innerHTML = docLinkHtml;\n",
       "          element.appendChild(docLink);\n",
       "        }\n",
       "      </script>\n",
       "    </div>\n",
       "  </div>\n",
       "  "
      ],
      "text/plain": [
       "          SK_ID_CURR         TARGET   CNT_CHILDREN  AMT_INCOME_TOTAL  \\\n",
       "count  307511.000000  307511.000000  307511.000000      3.075110e+05   \n",
       "mean   278180.518577       0.080729       0.417052      1.687979e+05   \n",
       "std    102790.175348       0.272419       0.722121      2.371231e+05   \n",
       "min    100002.000000       0.000000       0.000000      2.565000e+04   \n",
       "25%    189145.500000       0.000000       0.000000      1.125000e+05   \n",
       "50%    278202.000000       0.000000       0.000000      1.471500e+05   \n",
       "75%    367142.500000       0.000000       1.000000      2.025000e+05   \n",
       "max    456255.000000       1.000000      19.000000      1.170000e+08   \n",
       "\n",
       "         AMT_CREDIT    AMT_ANNUITY  AMT_GOODS_PRICE  \\\n",
       "count  3.075110e+05  307499.000000     3.072330e+05   \n",
       "mean   5.990260e+05   27108.573909     5.383962e+05   \n",
       "std    4.024908e+05   14493.737315     3.694465e+05   \n",
       "min    4.500000e+04    1615.500000     4.050000e+04   \n",
       "25%    2.700000e+05   16524.000000     2.385000e+05   \n",
       "50%    5.135310e+05   24903.000000     4.500000e+05   \n",
       "75%    8.086500e+05   34596.000000     6.795000e+05   \n",
       "max    4.050000e+06  258025.500000     4.050000e+06   \n",
       "\n",
       "       REGION_POPULATION_RELATIVE     DAYS_BIRTH  DAYS_EMPLOYED  ...  \\\n",
       "count               307511.000000  307511.000000  307511.000000  ...   \n",
       "mean                     0.020868  -16036.995067   63815.045904  ...   \n",
       "std                      0.013831    4363.988632  141275.766519  ...   \n",
       "min                      0.000290  -25229.000000  -17912.000000  ...   \n",
       "25%                      0.010006  -19682.000000   -2760.000000  ...   \n",
       "50%                      0.018850  -15750.000000   -1213.000000  ...   \n",
       "75%                      0.028663  -12413.000000    -289.000000  ...   \n",
       "max                      0.072508   -7489.000000  365243.000000  ...   \n",
       "\n",
       "       FLAG_DOCUMENT_18  FLAG_DOCUMENT_19  FLAG_DOCUMENT_20  FLAG_DOCUMENT_21  \\\n",
       "count     307511.000000     307511.000000     307511.000000     307511.000000   \n",
       "mean           0.008130          0.000595          0.000507          0.000335   \n",
       "std            0.089798          0.024387          0.022518          0.018299   \n",
       "min            0.000000          0.000000          0.000000          0.000000   \n",
       "25%            0.000000          0.000000          0.000000          0.000000   \n",
       "50%            0.000000          0.000000          0.000000          0.000000   \n",
       "75%            0.000000          0.000000          0.000000          0.000000   \n",
       "max            1.000000          1.000000          1.000000          1.000000   \n",
       "\n",
       "       AMT_REQ_CREDIT_BUREAU_HOUR  AMT_REQ_CREDIT_BUREAU_DAY  \\\n",
       "count               265992.000000              265992.000000   \n",
       "mean                     0.006402                   0.007000   \n",
       "std                      0.083849                   0.110757   \n",
       "min                      0.000000                   0.000000   \n",
       "25%                      0.000000                   0.000000   \n",
       "50%                      0.000000                   0.000000   \n",
       "75%                      0.000000                   0.000000   \n",
       "max                      4.000000                   9.000000   \n",
       "\n",
       "       AMT_REQ_CREDIT_BUREAU_WEEK  AMT_REQ_CREDIT_BUREAU_MON  \\\n",
       "count               265992.000000              265992.000000   \n",
       "mean                     0.034362                   0.267395   \n",
       "std                      0.204685                   0.916002   \n",
       "min                      0.000000                   0.000000   \n",
       "25%                      0.000000                   0.000000   \n",
       "50%                      0.000000                   0.000000   \n",
       "75%                      0.000000                   0.000000   \n",
       "max                      8.000000                  27.000000   \n",
       "\n",
       "       AMT_REQ_CREDIT_BUREAU_QRT  AMT_REQ_CREDIT_BUREAU_YEAR  \n",
       "count              265992.000000               265992.000000  \n",
       "mean                    0.265474                    1.899974  \n",
       "std                     0.794056                    1.869295  \n",
       "min                     0.000000                    0.000000  \n",
       "25%                     0.000000                    0.000000  \n",
       "50%                     0.000000                    1.000000  \n",
       "75%                     0.000000                    3.000000  \n",
       "max                   261.000000                   25.000000  \n",
       "\n",
       "[8 rows x 106 columns]"
      ]
     },
     "execution_count": 11,
     "metadata": {},
     "output_type": "execute_result"
    }
   ],
   "source": [
    "train.describe()"
   ]
  },
  {
   "cell_type": "code",
   "execution_count": 12,
   "metadata": {
    "colab": {
     "base_uri": "https://localhost:8080/",
     "height": 296
    },
    "id": "OYQGhhg2Oenw",
    "outputId": "106ff808-bef2-4a8a-82a5-6a0991ea113c",
    "scrolled": true
   },
   "outputs": [
    {
     "data": {
      "text/plain": [
       "<matplotlib.axes._subplots.AxesSubplot at 0x7f0cca066e90>"
      ]
     },
     "execution_count": 12,
     "metadata": {},
     "output_type": "execute_result"
    },
    {
     "data": {
      "image/png": "[encoded data removed]",
      "text/plain": [
       "<Figure size 432x288 with 1 Axes>"
      ]
     },
     "metadata": {
      "needs_background": "light"
     },
     "output_type": "display_data"
    }
   ],
   "source": [
    "# Target labels\n",
    "sns.countplot(train.TARGET)"
   ]
  },
  {
   "cell_type": "code",
   "execution_count": 13,
   "metadata": {
    "colab": {
     "base_uri": "https://localhost:8080/"
    },
    "id": "Nly1rWakOen3",
    "outputId": "26283e48-2ce2-453b-8033-6abcfda1b28c"
   },
   "outputs": [
    {
     "data": {
      "text/plain": [
       "0    282686\n",
       "1     24825\n",
       "Name: TARGET, dtype: int64"
      ]
     },
     "execution_count": 13,
     "metadata": {},
     "output_type": "execute_result"
    }
   ],
   "source": [
    "train['TARGET'].value_counts()"
   ]
  },
  {
   "cell_type": "markdown",
   "metadata": {
    "id": "pL171tkzOen7"
   },
   "source": [
    "Hiện tượng imbalanced.\n",
    "target 0: trả khoản vay đúng hạn (91.92%)\n",
    "target 1: gặp khó khăn khi trả khoản vay (8.08%)"
   ]
  },
  {
   "cell_type": "code",
   "execution_count": 14,
   "metadata": {
    "colab": {
     "base_uri": "https://localhost:8080/"
    },
    "id": "4TKBuVuQOen_",
    "outputId": "c6d7c4ae-9f62-4837-b535-96f95f98658f",
    "scrolled": true
   },
   "outputs": [
    {
     "name": "stdout",
     "output_type": "stream",
     "text": [
      "The train dataset dimensions are as follows: (307511, 122)\n",
      "The test dataset dimensions are as follows: (48744, 121)\n"
     ]
    }
   ],
   "source": [
    "print(\"The train dataset dimensions are as follows: {}\".format(train.shape))\n",
    "print(\"The test dataset dimensions are as follows: {}\".format(test.shape))"
   ]
  },
  {
   "cell_type": "code",
   "execution_count": 15,
   "metadata": {
    "colab": {
     "base_uri": "https://localhost:8080/"
    },
    "id": "KGRUuvsVOeoD",
    "outputId": "24ea3084-9a88-4e14-8e3a-9abf06fc5299"
   },
   "outputs": [
    {
     "name": "stdout",
     "output_type": "stream",
     "text": [
      "Train dataset: \n",
      "float64    65\n",
      "int64      41\n",
      "object     16\n",
      "dtype: int64\n",
      "\n",
      "Test dataset: \n",
      "float64    65\n",
      "int64      40\n",
      "object     16\n",
      "dtype: int64\n"
     ]
    }
   ],
   "source": [
    "print(\"Train dataset: \\n{}\".format(train.dtypes.value_counts()))\n",
    "print()\n",
    "print(\"Test dataset: \\n{}\".format(test.dtypes.value_counts())) "
   ]
  },
  {
   "cell_type": "code",
   "execution_count": 16,
   "metadata": {
    "id": "r_JAEqzIOeoH"
   },
   "outputs": [],
   "source": [
    "# Check missing values\n",
    "def missing_columns(dataframe):\n",
    "    \"\"\"\n",
    "    Returns a dataframe that contains missing column names and \n",
    "    percent of missing values in relation to the whole dataframe.\n",
    "    \n",
    "    dataframe: dataframe that gives the column names and their % of missing values\n",
    "    \"\"\"\n",
    "    \n",
    "    # find the missing values\n",
    "    missing_values = dataframe.isnull().sum().sort_values(ascending=False)\n",
    "    \n",
    "    # percentage of missing values in relation to the overall size\n",
    "    missing_values_pct = 100 * missing_values/len(dataframe)\n",
    "    \n",
    "    # create a new dataframe which is a concatinated version\n",
    "    concat_values = pd.concat([missing_values, missing_values/len(dataframe),missing_values_pct.round(1)],axis=1)\n",
    "\n",
    "    # give new col names\n",
    "    concat_values.columns = ['Missing Count','Missing Count Ratio','Missing Count %']\n",
    "    \n",
    "    # return the required values\n",
    "    return concat_values[concat_values.iloc[:,1]!=0]\n",
    "    "
   ]
  },
  {
   "cell_type": "code",
   "execution_count": 17,
   "metadata": {
    "colab": {
     "base_uri": "https://localhost:8080/",
     "height": 423
    },
    "id": "gyS2E-SUOeoM",
    "outputId": "356aba63-0926-4a74-dc77-10988694d384",
    "scrolled": true
   },
   "outputs": [
    {
     "data": {
      "text/html": [
       "\n",
       "  <div id=\"df-325740de-604a-4c8d-b0ea-84858749b0c8\">\n",
       "    <div class=\"colab-df-container\">\n",
       "      <div>\n",
       "<style scoped>\n",
       "    .dataframe tbody tr th:only-of-type {\n",
       "        vertical-align: middle;\n",
       "    }\n",
       "\n",
       "    .dataframe tbody tr th {\n",
       "        vertical-align: top;\n",
       "    }\n",
       "\n",
       "    .dataframe thead th {\n",
       "        text-align: right;\n",
       "    }\n",
       "</style>\n",
       "<table border=\"1\" class=\"dataframe\">\n",
       "  <thead>\n",
       "    <tr style=\"text-align: right;\">\n",
       "      <th></th>\n",
       "      <th>Missing Count</th>\n",
       "      <th>Missing Count Ratio</th>\n",
       "      <th>Missing Count %</th>\n",
       "    </tr>\n",
       "  </thead>\n",
       "  <tbody>\n",
       "    <tr>\n",
       "      <th>COMMONAREA_MEDI</th>\n",
       "      <td>214865</td>\n",
       "      <td>0.698723</td>\n",
       "      <td>69.9</td>\n",
       "    </tr>\n",
       "    <tr>\n",
       "      <th>COMMONAREA_AVG</th>\n",
       "      <td>214865</td>\n",
       "      <td>0.698723</td>\n",
       "      <td>69.9</td>\n",
       "    </tr>\n",
       "    <tr>\n",
       "      <th>COMMONAREA_MODE</th>\n",
       "      <td>214865</td>\n",
       "      <td>0.698723</td>\n",
       "      <td>69.9</td>\n",
       "    </tr>\n",
       "    <tr>\n",
       "      <th>NONLIVINGAPARTMENTS_MODE</th>\n",
       "      <td>213514</td>\n",
       "      <td>0.694330</td>\n",
       "      <td>69.4</td>\n",
       "    </tr>\n",
       "    <tr>\n",
       "      <th>NONLIVINGAPARTMENTS_AVG</th>\n",
       "      <td>213514</td>\n",
       "      <td>0.694330</td>\n",
       "      <td>69.4</td>\n",
       "    </tr>\n",
       "    <tr>\n",
       "      <th>...</th>\n",
       "      <td>...</td>\n",
       "      <td>...</td>\n",
       "      <td>...</td>\n",
       "    </tr>\n",
       "    <tr>\n",
       "      <th>EXT_SOURCE_2</th>\n",
       "      <td>660</td>\n",
       "      <td>0.002146</td>\n",
       "      <td>0.2</td>\n",
       "    </tr>\n",
       "    <tr>\n",
       "      <th>AMT_GOODS_PRICE</th>\n",
       "      <td>278</td>\n",
       "      <td>0.000904</td>\n",
       "      <td>0.1</td>\n",
       "    </tr>\n",
       "    <tr>\n",
       "      <th>AMT_ANNUITY</th>\n",
       "      <td>12</td>\n",
       "      <td>0.000039</td>\n",
       "      <td>0.0</td>\n",
       "    </tr>\n",
       "    <tr>\n",
       "      <th>CNT_FAM_MEMBERS</th>\n",
       "      <td>2</td>\n",
       "      <td>0.000007</td>\n",
       "      <td>0.0</td>\n",
       "    </tr>\n",
       "    <tr>\n",
       "      <th>DAYS_LAST_PHONE_CHANGE</th>\n",
       "      <td>1</td>\n",
       "      <td>0.000003</td>\n",
       "      <td>0.0</td>\n",
       "    </tr>\n",
       "  </tbody>\n",
       "</table>\n",
       "<p>67 rows × 3 columns</p>\n",
       "</div>\n",
       "      <button class=\"colab-df-convert\" onclick=\"convertToInteractive('df-325740de-604a-4c8d-b0ea-84858749b0c8')\"\n",
       "              title=\"Convert this dataframe to an interactive table.\"\n",
       "              style=\"display:none;\">\n",
       "        \n",
       "  <svg xmlns=\"http://www.w3.org/2000/svg\" height=\"24px\"viewBox=\"0 0 24 24\"\n",
       "       width=\"24px\">\n",
       "    <path d=\"M0 0h24v24H0V0z\" fill=\"none\"/>\n",
       "    <path d=\"M18.56 5.44l.94 2.06.94-2.06 2.06-.94-2.06-.94-.94-2.06-.94 2.06-2.06.94zm-11 1L8.5 8.5l.94-2.06 2.06-.94-2.06-.94L8.5 2.5l-.94 2.06-2.06.94zm10 10l.94 2.06.94-2.06 2.06-.94-2.06-.94-.94-2.06-.94 2.06-2.06.94z\"/><path d=\"M17.41 7.96l-1.37-1.37c-.4-.4-.92-.59-1.43-.59-.52 0-1.04.2-1.43.59L10.3 9.45l-7.72 7.72c-.78.78-.78 2.05 0 2.83L4 21.41c.39.39.9.59 1.41.59.51 0 1.02-.2 1.41-.59l7.78-7.78 2.81-2.81c.8-.78.8-2.07 0-2.86zM5.41 20L4 18.59l7.72-7.72 1.47 1.35L5.41 20z\"/>\n",
       "  </svg>\n",
       "      </button>\n",
       "      \n",
       "  <style>\n",
       "    .colab-df-container {\n",
       "      display:flex;\n",
       "      flex-wrap:wrap;\n",
       "      gap: 12px;\n",
       "    }\n",
       "\n",
       "    .colab-df-convert {\n",
       "      background-color: #E8F0FE;\n",
       "      border: none;\n",
       "      border-radius: 50%;\n",
       "      cursor: pointer;\n",
       "      display: none;\n",
       "      fill: #1967D2;\n",
       "      height: 32px;\n",
       "      padding: 0 0 0 0;\n",
       "      width: 32px;\n",
       "    }\n",
       "\n",
       "    .colab-df-convert:hover {\n",
       "      background-color: #E2EBFA;\n",
       "      box-shadow: 0px 1px 2px rgba(60, 64, 67, 0.3), 0px 1px 3px 1px rgba(60, 64, 67, 0.15);\n",
       "      fill: #174EA6;\n",
       "    }\n",
       "\n",
       "    [theme=dark] .colab-df-convert {\n",
       "      background-color: #3B4455;\n",
       "      fill: #D2E3FC;\n",
       "    }\n",
       "\n",
       "    [theme=dark] .colab-df-convert:hover {\n",
       "      background-color: #434B5C;\n",
       "      box-shadow: 0px 1px 3px 1px rgba(0, 0, 0, 0.15);\n",
       "      filter: drop-shadow(0px 1px 2px rgba(0, 0, 0, 0.3));\n",
       "      fill: #FFFFFF;\n",
       "    }\n",
       "  </style>\n",
       "\n",
       "      <script>\n",
       "        const buttonEl =\n",
       "          document.querySelector('#df-325740de-604a-4c8d-b0ea-84858749b0c8 button.colab-df-convert');\n",
       "        buttonEl.style.display =\n",
       "          google.colab.kernel.accessAllowed ? 'block' : 'none';\n",
       "\n",
       "        async function convertToInteractive(key) {\n",
       "          const element = document.querySelector('#df-325740de-604a-4c8d-b0ea-84858749b0c8');\n",
       "          const dataTable =\n",
       "            await google.colab.kernel.invokeFunction('convertToInteractive',\n",
       "                                                     [key], {});\n",
       "          if (!dataTable) return;\n",
       "\n",
       "          const docLinkHtml = 'Like what you see? Visit the ' +\n",
       "            '<a target=\"_blank\" href=https://colab.research.google.com/notebooks/data_table.ipynb>data table notebook</a>'\n",
       "            + ' to learn more about interactive tables.';\n",
       "          element.innerHTML = '';\n",
       "          dataTable['output_type'] = 'display_data';\n",
       "          await google.colab.output.renderOutput(dataTable, element);\n",
       "          const docLink = document.createElement('div');\n",
       "          docLink.innerHTML = docLinkHtml;\n",
       "          element.appendChild(docLink);\n",
       "        }\n",
       "      </script>\n",
       "    </div>\n",
       "  </div>\n",
       "  "
      ],
      "text/plain": [
       "                          Missing Count  Missing Count Ratio  Missing Count %\n",
       "COMMONAREA_MEDI                  214865             0.698723             69.9\n",
       "COMMONAREA_AVG                   214865             0.698723             69.9\n",
       "COMMONAREA_MODE                  214865             0.698723             69.9\n",
       "NONLIVINGAPARTMENTS_MODE         213514             0.694330             69.4\n",
       "NONLIVINGAPARTMENTS_AVG          213514             0.694330             69.4\n",
       "...                                 ...                  ...              ...\n",
       "EXT_SOURCE_2                        660             0.002146              0.2\n",
       "AMT_GOODS_PRICE                     278             0.000904              0.1\n",
       "AMT_ANNUITY                          12             0.000039              0.0\n",
       "CNT_FAM_MEMBERS                       2             0.000007              0.0\n",
       "DAYS_LAST_PHONE_CHANGE                1             0.000003              0.0\n",
       "\n",
       "[67 rows x 3 columns]"
      ]
     },
     "execution_count": 17,
     "metadata": {},
     "output_type": "execute_result"
    }
   ],
   "source": [
    "missing_columns(train)"
   ]
  },
  {
   "cell_type": "code",
   "execution_count": 18,
   "metadata": {
    "colab": {
     "base_uri": "https://localhost:8080/",
     "height": 423
    },
    "id": "5WmXTnWtOeoP",
    "outputId": "eb3b0138-9bd7-4587-9ee3-7c1be22a759c",
    "scrolled": true
   },
   "outputs": [
    {
     "data": {
      "text/html": [
       "\n",
       "  <div id=\"df-57e60a19-65ad-43f3-892a-67b2843ff808\">\n",
       "    <div class=\"colab-df-container\">\n",
       "      <div>\n",
       "<style scoped>\n",
       "    .dataframe tbody tr th:only-of-type {\n",
       "        vertical-align: middle;\n",
       "    }\n",
       "\n",
       "    .dataframe tbody tr th {\n",
       "        vertical-align: top;\n",
       "    }\n",
       "\n",
       "    .dataframe thead th {\n",
       "        text-align: right;\n",
       "    }\n",
       "</style>\n",
       "<table border=\"1\" class=\"dataframe\">\n",
       "  <thead>\n",
       "    <tr style=\"text-align: right;\">\n",
       "      <th></th>\n",
       "      <th>Missing Count</th>\n",
       "      <th>Missing Count Ratio</th>\n",
       "      <th>Missing Count %</th>\n",
       "    </tr>\n",
       "  </thead>\n",
       "  <tbody>\n",
       "    <tr>\n",
       "      <th>COMMONAREA_AVG</th>\n",
       "      <td>33495</td>\n",
       "      <td>0.687161</td>\n",
       "      <td>68.7</td>\n",
       "    </tr>\n",
       "    <tr>\n",
       "      <th>COMMONAREA_MODE</th>\n",
       "      <td>33495</td>\n",
       "      <td>0.687161</td>\n",
       "      <td>68.7</td>\n",
       "    </tr>\n",
       "    <tr>\n",
       "      <th>COMMONAREA_MEDI</th>\n",
       "      <td>33495</td>\n",
       "      <td>0.687161</td>\n",
       "      <td>68.7</td>\n",
       "    </tr>\n",
       "    <tr>\n",
       "      <th>NONLIVINGAPARTMENTS_AVG</th>\n",
       "      <td>33347</td>\n",
       "      <td>0.684125</td>\n",
       "      <td>68.4</td>\n",
       "    </tr>\n",
       "    <tr>\n",
       "      <th>NONLIVINGAPARTMENTS_MODE</th>\n",
       "      <td>33347</td>\n",
       "      <td>0.684125</td>\n",
       "      <td>68.4</td>\n",
       "    </tr>\n",
       "    <tr>\n",
       "      <th>...</th>\n",
       "      <td>...</td>\n",
       "      <td>...</td>\n",
       "      <td>...</td>\n",
       "    </tr>\n",
       "    <tr>\n",
       "      <th>OBS_30_CNT_SOCIAL_CIRCLE</th>\n",
       "      <td>29</td>\n",
       "      <td>0.000595</td>\n",
       "      <td>0.1</td>\n",
       "    </tr>\n",
       "    <tr>\n",
       "      <th>OBS_60_CNT_SOCIAL_CIRCLE</th>\n",
       "      <td>29</td>\n",
       "      <td>0.000595</td>\n",
       "      <td>0.1</td>\n",
       "    </tr>\n",
       "    <tr>\n",
       "      <th>DEF_60_CNT_SOCIAL_CIRCLE</th>\n",
       "      <td>29</td>\n",
       "      <td>0.000595</td>\n",
       "      <td>0.1</td>\n",
       "    </tr>\n",
       "    <tr>\n",
       "      <th>AMT_ANNUITY</th>\n",
       "      <td>24</td>\n",
       "      <td>0.000492</td>\n",
       "      <td>0.0</td>\n",
       "    </tr>\n",
       "    <tr>\n",
       "      <th>EXT_SOURCE_2</th>\n",
       "      <td>8</td>\n",
       "      <td>0.000164</td>\n",
       "      <td>0.0</td>\n",
       "    </tr>\n",
       "  </tbody>\n",
       "</table>\n",
       "<p>64 rows × 3 columns</p>\n",
       "</div>\n",
       "      <button class=\"colab-df-convert\" onclick=\"convertToInteractive('df-57e60a19-65ad-43f3-892a-67b2843ff808')\"\n",
       "              title=\"Convert this dataframe to an interactive table.\"\n",
       "              style=\"display:none;\">\n",
       "        \n",
       "  <svg xmlns=\"http://www.w3.org/2000/svg\" height=\"24px\"viewBox=\"0 0 24 24\"\n",
       "       width=\"24px\">\n",
       "    <path d=\"M0 0h24v24H0V0z\" fill=\"none\"/>\n",
       "    <path d=\"M18.56 5.44l.94 2.06.94-2.06 2.06-.94-2.06-.94-.94-2.06-.94 2.06-2.06.94zm-11 1L8.5 8.5l.94-2.06 2.06-.94-2.06-.94L8.5 2.5l-.94 2.06-2.06.94zm10 10l.94 2.06.94-2.06 2.06-.94-2.06-.94-.94-2.06-.94 2.06-2.06.94z\"/><path d=\"M17.41 7.96l-1.37-1.37c-.4-.4-.92-.59-1.43-.59-.52 0-1.04.2-1.43.59L10.3 9.45l-7.72 7.72c-.78.78-.78 2.05 0 2.83L4 21.41c.39.39.9.59 1.41.59.51 0 1.02-.2 1.41-.59l7.78-7.78 2.81-2.81c.8-.78.8-2.07 0-2.86zM5.41 20L4 18.59l7.72-7.72 1.47 1.35L5.41 20z\"/>\n",
       "  </svg>\n",
       "      </button>\n",
       "      \n",
       "  <style>\n",
       "    .colab-df-container {\n",
       "      display:flex;\n",
       "      flex-wrap:wrap;\n",
       "      gap: 12px;\n",
       "    }\n",
       "\n",
       "    .colab-df-convert {\n",
       "      background-color: #E8F0FE;\n",
       "      border: none;\n",
       "      border-radius: 50%;\n",
       "      cursor: pointer;\n",
       "      display: none;\n",
       "      fill: #1967D2;\n",
       "      height: 32px;\n",
       "      padding: 0 0 0 0;\n",
       "      width: 32px;\n",
       "    }\n",
       "\n",
       "    .colab-df-convert:hover {\n",
       "      background-color: #E2EBFA;\n",
       "      box-shadow: 0px 1px 2px rgba(60, 64, 67, 0.3), 0px 1px 3px 1px rgba(60, 64, 67, 0.15);\n",
       "      fill: #174EA6;\n",
       "    }\n",
       "\n",
       "    [theme=dark] .colab-df-convert {\n",
       "      background-color: #3B4455;\n",
       "      fill: #D2E3FC;\n",
       "    }\n",
       "\n",
       "    [theme=dark] .colab-df-convert:hover {\n",
       "      background-color: #434B5C;\n",
       "      box-shadow: 0px 1px 3px 1px rgba(0, 0, 0, 0.15);\n",
       "      filter: drop-shadow(0px 1px 2px rgba(0, 0, 0, 0.3));\n",
       "      fill: #FFFFFF;\n",
       "    }\n",
       "  </style>\n",
       "\n",
       "      <script>\n",
       "        const buttonEl =\n",
       "          document.querySelector('#df-57e60a19-65ad-43f3-892a-67b2843ff808 button.colab-df-convert');\n",
       "        buttonEl.style.display =\n",
       "          google.colab.kernel.accessAllowed ? 'block' : 'none';\n",
       "\n",
       "        async function convertToInteractive(key) {\n",
       "          const element = document.querySelector('#df-57e60a19-65ad-43f3-892a-67b2843ff808');\n",
       "          const dataTable =\n",
       "            await google.colab.kernel.invokeFunction('convertToInteractive',\n",
       "                                                     [key], {});\n",
       "          if (!dataTable) return;\n",
       "\n",
       "          const docLinkHtml = 'Like what you see? Visit the ' +\n",
       "            '<a target=\"_blank\" href=https://colab.research.google.com/notebooks/data_table.ipynb>data table notebook</a>'\n",
       "            + ' to learn more about interactive tables.';\n",
       "          element.innerHTML = '';\n",
       "          dataTable['output_type'] = 'display_data';\n",
       "          await google.colab.output.renderOutput(dataTable, element);\n",
       "          const docLink = document.createElement('div');\n",
       "          docLink.innerHTML = docLinkHtml;\n",
       "          element.appendChild(docLink);\n",
       "        }\n",
       "      </script>\n",
       "    </div>\n",
       "  </div>\n",
       "  "
      ],
      "text/plain": [
       "                          Missing Count  Missing Count Ratio  Missing Count %\n",
       "COMMONAREA_AVG                    33495             0.687161             68.7\n",
       "COMMONAREA_MODE                   33495             0.687161             68.7\n",
       "COMMONAREA_MEDI                   33495             0.687161             68.7\n",
       "NONLIVINGAPARTMENTS_AVG           33347             0.684125             68.4\n",
       "NONLIVINGAPARTMENTS_MODE          33347             0.684125             68.4\n",
       "...                                 ...                  ...              ...\n",
       "OBS_30_CNT_SOCIAL_CIRCLE             29             0.000595              0.1\n",
       "OBS_60_CNT_SOCIAL_CIRCLE             29             0.000595              0.1\n",
       "DEF_60_CNT_SOCIAL_CIRCLE             29             0.000595              0.1\n",
       "AMT_ANNUITY                          24             0.000492              0.0\n",
       "EXT_SOURCE_2                          8             0.000164              0.0\n",
       "\n",
       "[64 rows x 3 columns]"
      ]
     },
     "execution_count": 18,
     "metadata": {},
     "output_type": "execute_result"
    }
   ],
   "source": [
    "missing_columns(test)"
   ]
  },
  {
   "cell_type": "code",
   "execution_count": 19,
   "metadata": {
    "colab": {
     "base_uri": "https://localhost:8080/"
    },
    "id": "aW1AhbPYOeoS",
    "outputId": "85ee6710-a20d-432c-9112-ebb84508b6a7"
   },
   "outputs": [
    {
     "data": {
      "text/plain": [
       "NAME_CONTRACT_TYPE             2\n",
       "CODE_GENDER                    3\n",
       "FLAG_OWN_CAR                   2\n",
       "FLAG_OWN_REALTY                2\n",
       "NAME_TYPE_SUITE                7\n",
       "NAME_INCOME_TYPE               8\n",
       "NAME_EDUCATION_TYPE            5\n",
       "NAME_FAMILY_STATUS             6\n",
       "NAME_HOUSING_TYPE              6\n",
       "OCCUPATION_TYPE               18\n",
       "WEEKDAY_APPR_PROCESS_START     7\n",
       "ORGANIZATION_TYPE             58\n",
       "FONDKAPREMONT_MODE             4\n",
       "HOUSETYPE_MODE                 3\n",
       "WALLSMATERIAL_MODE             7\n",
       "EMERGENCYSTATE_MODE            2\n",
       "dtype: int64"
      ]
     },
     "execution_count": 19,
     "metadata": {},
     "output_type": "execute_result"
    }
   ],
   "source": [
    "# Number of unique classes in each object column\n",
    "train.select_dtypes('object').apply(pd.Series.nunique)"
   ]
  },
  {
   "cell_type": "code",
   "execution_count": 20,
   "metadata": {
    "colab": {
     "base_uri": "https://localhost:8080/"
    },
    "id": "a5_QuAeKOeoW",
    "outputId": "9732760c-e2b7-464a-b969-ac933a180e8e"
   },
   "outputs": [
    {
     "data": {
      "text/plain": [
       "NAME_CONTRACT_TYPE             2\n",
       "CODE_GENDER                    2\n",
       "FLAG_OWN_CAR                   2\n",
       "FLAG_OWN_REALTY                2\n",
       "NAME_TYPE_SUITE                7\n",
       "NAME_INCOME_TYPE               7\n",
       "NAME_EDUCATION_TYPE            5\n",
       "NAME_FAMILY_STATUS             5\n",
       "NAME_HOUSING_TYPE              6\n",
       "OCCUPATION_TYPE               18\n",
       "WEEKDAY_APPR_PROCESS_START     7\n",
       "ORGANIZATION_TYPE             58\n",
       "FONDKAPREMONT_MODE             4\n",
       "HOUSETYPE_MODE                 3\n",
       "WALLSMATERIAL_MODE             7\n",
       "EMERGENCYSTATE_MODE            2\n",
       "dtype: int64"
      ]
     },
     "execution_count": 20,
     "metadata": {},
     "output_type": "execute_result"
    }
   ],
   "source": [
    "test.select_dtypes('object').apply(pd.Series.nunique)"
   ]
  },
  {
   "cell_type": "markdown",
   "metadata": {
    "id": "gfR6cZ_8OeoZ"
   },
   "source": [
    "## Handling Categorical variables - Label Encoding and One Hot Encoding."
   ]
  },
  {
   "cell_type": "code",
   "execution_count": 21,
   "metadata": {
    "colab": {
     "base_uri": "https://localhost:8080/"
    },
    "id": "UyUvNyFjOeob",
    "outputId": "84e598f9-a61b-43e0-a920-39b7c0790fe4"
   },
   "outputs": [
    {
     "name": "stdout",
     "output_type": "stream",
     "text": [
      "Label encoded 4 columns.\n"
     ]
    }
   ],
   "source": [
    "# Create a label encode object having less than or equal to 2 unique values\n",
    "from sklearn.preprocessing import LabelEncoder\n",
    "\n",
    "le = LabelEncoder()\n",
    "transform_counter = 0\n",
    "\n",
    "# iterate through all the categorical columns\n",
    "for col in train.select_dtypes('object').columns:\n",
    "    \n",
    "    # select only those columns where number of unique values in the category is less than or equal to 2 \n",
    "    if pd.Series.nunique(train[col]) <= 2:\n",
    "        train[col] = le.fit_transform(train[col].astype(str))\n",
    "        test[col] = le.fit_transform(test[col].astype(str))\n",
    "        \n",
    "        transform_counter+=1\n",
    "        \n",
    "print(\"Label encoded {} columns.\".format(transform_counter))    "
   ]
  },
  {
   "cell_type": "code",
   "execution_count": 22,
   "metadata": {
    "id": "W8gnpNs7Oeog"
   },
   "outputs": [],
   "source": [
    "# one-hot encode of categorical variables\n",
    "train = pd.get_dummies(train,drop_first=True)\n",
    "test = pd.get_dummies(test,drop_first=True)"
   ]
  },
  {
   "cell_type": "code",
   "execution_count": 23,
   "metadata": {
    "colab": {
     "base_uri": "https://localhost:8080/"
    },
    "id": "yA-6qXKUOeoh",
    "outputId": "eea6a9bf-53da-4ec2-a578-c1ea359601e0"
   },
   "outputs": [
    {
     "name": "stdout",
     "output_type": "stream",
     "text": [
      "Training Features shape:  (307511, 230)\n",
      "Testing Features shape:  (48744, 226)\n"
     ]
    }
   ],
   "source": [
    "print('Training Features shape: ', train.shape)\n",
    "print('Testing Features shape: ', test.shape)"
   ]
  },
  {
   "cell_type": "code",
   "execution_count": 24,
   "metadata": {
    "id": "-vaZYCA0Oeok"
   },
   "outputs": [],
   "source": [
    "# collect the target labels to support the aligning \n",
    "\n",
    "target = train['TARGET']"
   ]
  },
  {
   "cell_type": "code",
   "execution_count": 25,
   "metadata": {
    "id": "nDxYkiJdOeoo"
   },
   "outputs": [],
   "source": [
    "# Ensure train and test have the same number of columns by aligning.\n",
    "train, test = train.align(test,axis=1,join='inner')"
   ]
  },
  {
   "cell_type": "code",
   "execution_count": 26,
   "metadata": {
    "id": "rUT5X0FJOeoq"
   },
   "outputs": [],
   "source": [
    "train['TARGET'] = target"
   ]
  },
  {
   "cell_type": "code",
   "execution_count": 27,
   "metadata": {
    "colab": {
     "base_uri": "https://localhost:8080/"
    },
    "id": "5d6lNehIOeor",
    "outputId": "a016e482-365e-42ce-b40c-81a01c016852"
   },
   "outputs": [
    {
     "name": "stdout",
     "output_type": "stream",
     "text": [
      "Training Features shape:  (307511, 227)\n",
      "Testing Features shape:  (48744, 226)\n"
     ]
    }
   ],
   "source": [
    "print('Training Features shape: ', train.shape)\n",
    "print('Testing Features shape: ', test.shape)"
   ]
  },
  {
   "cell_type": "code",
   "execution_count": 28,
   "metadata": {
    "colab": {
     "base_uri": "https://localhost:8080/"
    },
    "id": "OnWiSCPLOeot",
    "outputId": "0e85d35e-44d9-48ce-841f-5415c4fe2965"
   },
   "outputs": [
    {
     "data": {
      "text/plain": [
       "count    307511.000000\n",
       "mean         43.936973\n",
       "std          11.956133\n",
       "min          20.517808\n",
       "25%          34.008219\n",
       "50%          43.150685\n",
       "75%          53.923288\n",
       "max          69.120548\n",
       "Name: DAYS_BIRTH, dtype: float64"
      ]
     },
     "execution_count": 28,
     "metadata": {},
     "output_type": "execute_result"
    }
   ],
   "source": [
    "(train['DAYS_BIRTH']/-365).describe()"
   ]
  },
  {
   "cell_type": "code",
   "execution_count": 29,
   "metadata": {
    "colab": {
     "base_uri": "https://localhost:8080/",
     "height": 459
    },
    "id": "cNaJooOzOeov",
    "outputId": "54e2ae35-628b-4451-de47-0e1bf41878e6"
   },
   "outputs": [
    {
     "data": {
      "text/plain": [
       "Text(0.5, 0, 'Age of the client (Years)')"
      ]
     },
     "execution_count": 29,
     "metadata": {},
     "output_type": "execute_result"
    },
    {
     "data": {
      "image/png": "[encoded data removed]",
      "text/plain": [
       "<Figure size 864x504 with 1 Axes>"
      ]
     },
     "metadata": {
      "needs_background": "light"
     },
     "output_type": "display_data"
    }
   ],
   "source": [
    "fig, ax = plt.subplots(figsize =(12,7))\n",
    "sns.distplot(train['DAYS_BIRTH']/-365,bins=5,kde=False)\n",
    "plt.xlabel(\"Age of the client (Years)\")"
   ]
  },
  {
   "cell_type": "code",
   "execution_count": 30,
   "metadata": {
    "colab": {
     "base_uri": "https://localhost:8080/"
    },
    "id": "kdsJ7ki1Oeow",
    "outputId": "89dade15-bdcb-4e1d-e831-8047b525dc8c"
   },
   "outputs": [
    {
     "data": {
      "text/plain": [
       "count    307511.000000\n",
       "mean        174.835742\n",
       "std         387.056895\n",
       "min         -49.073973\n",
       "25%          -7.561644\n",
       "50%          -3.323288\n",
       "75%          -0.791781\n",
       "max        1000.665753\n",
       "Name: DAYS_EMPLOYED, dtype: float64"
      ]
     },
     "execution_count": 30,
     "metadata": {},
     "output_type": "execute_result"
    }
   ],
   "source": [
    "(train['DAYS_EMPLOYED']/365).describe()"
   ]
  },
  {
   "cell_type": "code",
   "execution_count": 31,
   "metadata": {
    "colab": {
     "base_uri": "https://localhost:8080/",
     "height": 459
    },
    "id": "KAc0Ev4aOeoy",
    "outputId": "6ea87e59-a6eb-470b-c3b6-46fdcb40e30a"
   },
   "outputs": [
    {
     "data": {
      "text/plain": [
       "Text(0.5, 0, 'Time before the loan application the persons started current employment(in years)')"
      ]
     },
     "execution_count": 31,
     "metadata": {},
     "output_type": "execute_result"
    },
    {
     "data": {
      "image/png": "[encoded data removed]",
      "text/plain": [
       "<Figure size 864x504 with 1 Axes>"
      ]
     },
     "metadata": {
      "needs_background": "light"
     },
     "output_type": "display_data"
    }
   ],
   "source": [
    "fig, ax = plt.subplots(figsize=(12,7))\n",
    "sns.distplot(train['DAYS_EMPLOYED']/365,kde=False)\n",
    "plt.xlabel(\"Time before the loan application the persons started current employment(in years)\")"
   ]
  },
  {
   "cell_type": "code",
   "execution_count": 32,
   "metadata": {
    "colab": {
     "base_uri": "https://localhost:8080/"
    },
    "id": "3PIbqZ1POeo0",
    "outputId": "79becb52-8698-4b31-8a91-986fbfcf9ae3"
   },
   "outputs": [
    {
     "data": {
      "text/plain": [
       "55374"
      ]
     },
     "execution_count": 32,
     "metadata": {},
     "output_type": "execute_result"
    }
   ],
   "source": [
    "# find the number of records where DAYS_EMPLOYED is between [900,1100] years. \n",
    "thousand_anomalies = train[(train['DAYS_EMPLOYED']/365>=900) & (train['DAYS_EMPLOYED']/365<=1100)]\n",
    "len(thousand_anomalies)"
   ]
  },
  {
   "cell_type": "code",
   "execution_count": 33,
   "metadata": {
    "colab": {
     "base_uri": "https://localhost:8080/",
     "height": 459
    },
    "id": "wThadjSZOeo2",
    "outputId": "09b0450a-8b40-4e58-de51-e094fd7c8836"
   },
   "outputs": [
    {
     "data": {
      "text/plain": [
       "<matplotlib.axes._subplots.AxesSubplot at 0x7f0cc9975e50>"
      ]
     },
     "execution_count": 33,
     "metadata": {},
     "output_type": "execute_result"
    },
    {
     "data": {
      "image/png": "[encoded data removed]",
      "text/plain": [
       "<Figure size 864x504 with 1 Axes>"
      ]
     },
     "metadata": {
      "needs_background": "light"
     },
     "output_type": "display_data"
    }
   ],
   "source": [
    "fig, ax = plt.subplots(figsize=(12,7))\n",
    "sns.countplot(x='TARGET',data=thousand_anomalies)"
   ]
  },
  {
   "cell_type": "code",
   "execution_count": 34,
   "metadata": {
    "id": "PoSFEHPqOeo4"
   },
   "outputs": [],
   "source": [
    "# get the index of anomalies and non anomalies\n",
    "anomalies_index = pd.Index(thousand_anomalies.index)\n",
    "non_anomalies_index = train.index.difference(anomalies_index)"
   ]
  },
  {
   "cell_type": "code",
   "execution_count": 35,
   "metadata": {
    "id": "RBn1o8NNOeo6"
   },
   "outputs": [],
   "source": [
    "# get the anomalies records\n",
    "non_anomalies = train.iloc[non_anomalies_index]"
   ]
  },
  {
   "cell_type": "code",
   "execution_count": 36,
   "metadata": {
    "id": "Ot9J8VW0Oeo7"
   },
   "outputs": [],
   "source": [
    "# get the anomaly targets\n",
    "anomalies_target = thousand_anomalies['TARGET'].value_counts()\n",
    "non_anomalies_target = non_anomalies['TARGET'].value_counts()"
   ]
  },
  {
   "cell_type": "code",
   "execution_count": 37,
   "metadata": {
    "colab": {
     "base_uri": "https://localhost:8080/"
    },
    "id": "yPda9WAFOeo8",
    "outputId": "629719b6-ca65-41db-d03e-52cabe8f8df9"
   },
   "outputs": [
    {
     "name": "stdout",
     "output_type": "stream",
     "text": [
      "Anomalies have a default rate of 5.399646043269405%\n",
      "Non Anomalies have a default rate of 8.659974537652149%\n"
     ]
    }
   ],
   "source": [
    "# find the default rate for anomalies and non anomalies\n",
    "\n",
    "print(\"Anomalies have a default rate of {}%\".format(100*anomalies_target[1]/(anomalies_target[1]+anomalies_target[0])))\n",
    "print(\"Non Anomalies have a default rate of {}%\".format(100*non_anomalies_target[1]/(non_anomalies_target[1]+non_anomalies_target[0])))"
   ]
  },
  {
   "cell_type": "code",
   "execution_count": 38,
   "metadata": {
    "id": "g6_kToz3Oeo_"
   },
   "outputs": [],
   "source": [
    "# Create an anomalous flag column\n",
    "train['DAYS_EMPLOYED_ANOM'] = train[\"DAYS_EMPLOYED\"] == 365243\n",
    "\n",
    "# Replace the anomalous values with nan\n",
    "train['DAYS_EMPLOYED'] = train['DAYS_EMPLOYED'].replace({365243: np.nan})"
   ]
  },
  {
   "cell_type": "code",
   "execution_count": 39,
   "metadata": {
    "colab": {
     "base_uri": "https://localhost:8080/",
     "height": 530
    },
    "id": "gjHjpjZGOepA",
    "outputId": "65d3cbda-61a1-4199-cf92-7cc353af683a"
   },
   "outputs": [
    {
     "data": {
      "text/plain": [
       "Text(0.5, 0, 'Years worked before application')"
      ]
     },
     "execution_count": 39,
     "metadata": {},
     "output_type": "execute_result"
    },
    {
     "data": {
      "image/png": "[encoded data removed]",
      "text/plain": [
       "<Figure size 864x576 with 1 Axes>"
      ]
     },
     "metadata": {
      "needs_background": "light"
     },
     "output_type": "display_data"
    }
   ],
   "source": [
    "# Looking at the years employed for anomalies\n",
    "\n",
    "plt.figure(figsize=(12,8))\n",
    "(train['DAYS_EMPLOYED']/-365).plot.hist(title = 'Years Employment Histogram')\n",
    "plt.xlabel(\"Years worked before application\")"
   ]
  },
  {
   "cell_type": "code",
   "execution_count": 40,
   "metadata": {
    "id": "Gm68lnRpOepD"
   },
   "outputs": [],
   "source": [
    "# Create an anomalous flag column\n",
    "test['DAYS_EMPLOYED_ANOM'] = test[\"DAYS_EMPLOYED\"] == 365243\n",
    "\n",
    "# Replace the anomalous values with nan\n",
    "test['DAYS_EMPLOYED'] = test['DAYS_EMPLOYED'].replace({365243: np.nan})"
   ]
  },
  {
   "cell_type": "code",
   "execution_count": 41,
   "metadata": {
    "id": "VuS_dwdjOepE"
   },
   "outputs": [],
   "source": [
    "# Finding out the most correlated features for the TARGET variable. \n",
    "corr_train = train.corr()['TARGET']"
   ]
  },
  {
   "cell_type": "code",
   "execution_count": 42,
   "metadata": {
    "colab": {
     "base_uri": "https://localhost:8080/"
    },
    "id": "22_BjrOhOepF",
    "outputId": "8d62f8ec-c80a-4d62-98c7-541649afc4f6",
    "scrolled": true
   },
   "outputs": [
    {
     "name": "stdout",
     "output_type": "stream",
     "text": [
      "REG_CITY_NOT_WORK_CITY         0.050994\n",
      "DAYS_ID_PUBLISH                0.051457\n",
      "CODE_GENDER_M                  0.054713\n",
      "DAYS_LAST_PHONE_CHANGE         0.055218\n",
      "NAME_INCOME_TYPE_Working       0.057481\n",
      "REGION_RATING_CLIENT           0.058899\n",
      "REGION_RATING_CLIENT_W_CITY    0.060893\n",
      "DAYS_EMPLOYED                  0.074958\n",
      "DAYS_BIRTH                     0.078239\n",
      "TARGET                         1.000000\n",
      "Name: TARGET, dtype: float64\n"
     ]
    },
    {
     "data": {
      "text/plain": [
       "EXT_SOURCE_3                           -0.178919\n",
       "EXT_SOURCE_2                           -0.160472\n",
       "EXT_SOURCE_1                           -0.155317\n",
       "NAME_EDUCATION_TYPE_Higher education   -0.056593\n",
       "NAME_INCOME_TYPE_Pensioner             -0.046209\n",
       "DAYS_EMPLOYED_ANOM                     -0.045987\n",
       "ORGANIZATION_TYPE_XNA                  -0.045987\n",
       "FLOORSMAX_AVG                          -0.044003\n",
       "FLOORSMAX_MEDI                         -0.043768\n",
       "FLOORSMAX_MODE                         -0.043226\n",
       "Name: TARGET, dtype: float64"
      ]
     },
     "execution_count": 42,
     "metadata": {},
     "output_type": "execute_result"
    }
   ],
   "source": [
    "# Looking at the top 10 most positively and negatively correlated features we get:\n",
    "print(corr_train.sort_values().tail(10))\n",
    "corr_train.sort_values().head(10)"
   ]
  },
  {
   "cell_type": "markdown",
   "metadata": {
    "id": "27MP1Wn5OepH"
   },
   "source": [
    "## Initially filling up the missing values for the most correlated variables."
   ]
  },
  {
   "cell_type": "code",
   "execution_count": 43,
   "metadata": {
    "id": "snxSvdWEOepI"
   },
   "outputs": [],
   "source": [
    "from sklearn.impute import SimpleImputer"
   ]
  },
  {
   "cell_type": "code",
   "execution_count": 44,
   "metadata": {
    "id": "sNeq6Dn8OepK"
   },
   "outputs": [],
   "source": [
    "poly_fitting_vars = ['EXT_SOURCE_3', 'EXT_SOURCE_2', 'EXT_SOURCE_1','DAYS_BIRTH']"
   ]
  },
  {
   "cell_type": "code",
   "execution_count": 45,
   "metadata": {
    "id": "8VXH7MT7OepL"
   },
   "outputs": [],
   "source": [
    "imputer = SimpleImputer(missing_values= np.nan, strategy='median')"
   ]
  },
  {
   "cell_type": "code",
   "execution_count": 46,
   "metadata": {
    "id": "HZeb_0p7OepN"
   },
   "outputs": [],
   "source": [
    "train[poly_fitting_vars] = imputer.fit_transform(train[poly_fitting_vars])"
   ]
  },
  {
   "cell_type": "code",
   "execution_count": 47,
   "metadata": {
    "colab": {
     "base_uri": "https://localhost:8080/"
    },
    "id": "HH8b0GBmOepO",
    "outputId": "f3ff82da-3e43-4fe7-ec2a-a62253cb3acf"
   },
   "outputs": [
    {
     "data": {
      "text/plain": [
       "(307511, 4)"
      ]
     },
     "execution_count": 47,
     "metadata": {},
     "output_type": "execute_result"
    }
   ],
   "source": [
    "train[poly_fitting_vars].shape"
   ]
  },
  {
   "cell_type": "code",
   "execution_count": 48,
   "metadata": {
    "id": "P7bXvYk4OepQ"
   },
   "outputs": [],
   "source": [
    "test[poly_fitting_vars] = imputer.transform(test[poly_fitting_vars])"
   ]
  },
  {
   "cell_type": "code",
   "execution_count": 49,
   "metadata": {
    "colab": {
     "base_uri": "https://localhost:8080/"
    },
    "id": "bNRphORPOepR",
    "outputId": "d25c8527-09d2-4f5f-d733-ec5b9a11cd51"
   },
   "outputs": [
    {
     "data": {
      "text/plain": [
       "(48744, 4)"
      ]
     },
     "execution_count": 49,
     "metadata": {},
     "output_type": "execute_result"
    }
   ],
   "source": [
    "test[poly_fitting_vars].shape"
   ]
  },
  {
   "cell_type": "code",
   "execution_count": 50,
   "metadata": {
    "id": "scqr5_UQOepT"
   },
   "outputs": [],
   "source": [
    "from sklearn.preprocessing import PolynomialFeatures"
   ]
  },
  {
   "cell_type": "code",
   "execution_count": 51,
   "metadata": {
    "id": "AimAlpooOepU"
   },
   "outputs": [],
   "source": [
    "poly_feat = PolynomialFeatures(degree=4)"
   ]
  },
  {
   "cell_type": "code",
   "execution_count": 52,
   "metadata": {
    "id": "ydI53BqzOepV"
   },
   "outputs": [],
   "source": [
    "poly_interaction_train = poly_feat.fit_transform(train[poly_fitting_vars])"
   ]
  },
  {
   "cell_type": "code",
   "execution_count": 53,
   "metadata": {
    "colab": {
     "base_uri": "https://localhost:8080/"
    },
    "id": "Ggd598AIOepX",
    "outputId": "43809848-bf81-4ec0-87f7-a2a3cb65ac9d"
   },
   "outputs": [
    {
     "data": {
      "text/plain": [
       "(307511, 70)"
      ]
     },
     "execution_count": 53,
     "metadata": {},
     "output_type": "execute_result"
    }
   ],
   "source": [
    "poly_interaction_train.shape"
   ]
  },
  {
   "cell_type": "code",
   "execution_count": 54,
   "metadata": {
    "id": "lRsHikfoOepY"
   },
   "outputs": [],
   "source": [
    "poly_interaction_test = poly_feat.fit_transform(test[poly_fitting_vars])"
   ]
  },
  {
   "cell_type": "code",
   "execution_count": 55,
   "metadata": {
    "colab": {
     "base_uri": "https://localhost:8080/"
    },
    "id": "5bs00cbfOepZ",
    "outputId": "02acea94-6dcf-4d2b-f9e2-9d2340a1b2ce"
   },
   "outputs": [
    {
     "data": {
      "text/plain": [
       "(48744, 70)"
      ]
     },
     "execution_count": 55,
     "metadata": {},
     "output_type": "execute_result"
    }
   ],
   "source": [
    "poly_interaction_test.shape"
   ]
  },
  {
   "cell_type": "code",
   "execution_count": 56,
   "metadata": {
    "id": "nBDbqxijOepb"
   },
   "outputs": [],
   "source": [
    "poly_interaction_train = pd.DataFrame(poly_interaction_train,columns=poly_feat.get_feature_names(poly_fitting_vars))"
   ]
  },
  {
   "cell_type": "code",
   "execution_count": 57,
   "metadata": {
    "colab": {
     "base_uri": "https://localhost:8080/"
    },
    "id": "0iIi4Qi8Oepc",
    "outputId": "32aed2f0-8eb7-46b7-f44a-55cea90c8c53"
   },
   "outputs": [
    {
     "data": {
      "text/plain": [
       "(307511, 70)"
      ]
     },
     "execution_count": 57,
     "metadata": {},
     "output_type": "execute_result"
    }
   ],
   "source": [
    "poly_interaction_train.shape"
   ]
  },
  {
   "cell_type": "code",
   "execution_count": 58,
   "metadata": {
    "id": "q6AyYzXcOepe"
   },
   "outputs": [],
   "source": [
    "poly_interaction_test =  pd.DataFrame(poly_interaction_test,columns=poly_feat.get_feature_names(poly_fitting_vars))"
   ]
  },
  {
   "cell_type": "code",
   "execution_count": 59,
   "metadata": {
    "colab": {
     "base_uri": "https://localhost:8080/"
    },
    "id": "x4BaNzdxOepg",
    "outputId": "6afb82c7-511a-46f0-ebb4-60e5d89caf6d"
   },
   "outputs": [
    {
     "data": {
      "text/plain": [
       "(48744, 70)"
      ]
     },
     "execution_count": 59,
     "metadata": {},
     "output_type": "execute_result"
    }
   ],
   "source": [
    "poly_interaction_test.shape"
   ]
  },
  {
   "cell_type": "markdown",
   "metadata": {
    "collapsed": true,
    "id": "-FKivo_HOeph"
   },
   "source": [
    "## Add the 'TARGET' column which is later used for looking up correlations with the interaction variables."
   ]
  },
  {
   "cell_type": "code",
   "execution_count": 60,
   "metadata": {
    "id": "Bx_1buh5Oepj"
   },
   "outputs": [],
   "source": [
    "poly_interaction_train['TARGET'] = train['TARGET']"
   ]
  },
  {
   "cell_type": "code",
   "execution_count": 61,
   "metadata": {
    "id": "mMoeDd6kOepk"
   },
   "outputs": [],
   "source": [
    "interaction = poly_interaction_train.corr()['TARGET'].sort_values()"
   ]
  },
  {
   "cell_type": "markdown",
   "metadata": {
    "id": "5arPYekkOepl"
   },
   "source": [
    "## Which are the most correlated interaction variables?"
   ]
  },
  {
   "cell_type": "code",
   "execution_count": 62,
   "metadata": {
    "colab": {
     "base_uri": "https://localhost:8080/"
    },
    "id": "SiyunN4vOepn",
    "outputId": "8537a0c1-78e8-4c22-b67e-bf1beccd0425",
    "scrolled": true
   },
   "outputs": [
    {
     "name": "stdout",
     "output_type": "stream",
     "text": [
      "EXT_SOURCE_2^3 DAYS_BIRTH                            0.140230\n",
      "EXT_SOURCE_3^2 DAYS_BIRTH                            0.141777\n",
      "EXT_SOURCE_3^2 EXT_SOURCE_1 DAYS_BIRTH               0.144206\n",
      "EXT_SOURCE_2^2 DAYS_BIRTH                            0.149313\n",
      "EXT_SOURCE_2^2 EXT_SOURCE_1 DAYS_BIRTH               0.149813\n",
      "EXT_SOURCE_3 DAYS_BIRTH                              0.150109\n",
      "EXT_SOURCE_3 EXT_SOURCE_1 DAYS_BIRTH                 0.151816\n",
      "EXT_SOURCE_2 EXT_SOURCE_1 DAYS_BIRTH                 0.155891\n",
      "EXT_SOURCE_2 DAYS_BIRTH                              0.156873\n",
      "EXT_SOURCE_3^2 EXT_SOURCE_2 DAYS_BIRTH               0.164466\n",
      "EXT_SOURCE_3 EXT_SOURCE_2^2 DAYS_BIRTH               0.168159\n",
      "EXT_SOURCE_3 EXT_SOURCE_2 EXT_SOURCE_1 DAYS_BIRTH    0.174173\n",
      "EXT_SOURCE_3 EXT_SOURCE_2 DAYS_BIRTH                 0.181283\n",
      "TARGET                                               1.000000\n",
      "1                                                         NaN\n",
      "Name: TARGET, dtype: float64\n"
     ]
    },
    {
     "data": {
      "text/plain": [
       "EXT_SOURCE_3 EXT_SOURCE_2                  -0.193939\n",
       "EXT_SOURCE_3 EXT_SOURCE_2 EXT_SOURCE_1     -0.189605\n",
       "EXT_SOURCE_3 EXT_SOURCE_2^2                -0.176428\n",
       "EXT_SOURCE_3 EXT_SOURCE_2^2 EXT_SOURCE_1   -0.174534\n",
       "EXT_SOURCE_3^2 EXT_SOURCE_2                -0.172282\n",
       "EXT_SOURCE_3^2 EXT_SOURCE_2 EXT_SOURCE_1   -0.170938\n",
       "EXT_SOURCE_2 EXT_SOURCE_1                  -0.166625\n",
       "EXT_SOURCE_3 EXT_SOURCE_1                  -0.164065\n",
       "EXT_SOURCE_3^2 EXT_SOURCE_2^2              -0.162923\n",
       "EXT_SOURCE_3 EXT_SOURCE_2^3                -0.161994\n",
       "EXT_SOURCE_3 EXT_SOURCE_2 EXT_SOURCE_1^2   -0.160677\n",
       "EXT_SOURCE_2                               -0.160295\n",
       "EXT_SOURCE_2^2 EXT_SOURCE_1                -0.156867\n",
       "EXT_SOURCE_3                               -0.155892\n",
       "EXT_SOURCE_3 EXT_SOURCE_2 DAYS_BIRTH^2     -0.154886\n",
       "Name: TARGET, dtype: float64"
      ]
     },
     "execution_count": 62,
     "metadata": {},
     "output_type": "execute_result"
    }
   ],
   "source": [
    "# looking at the top 15 most positive and negative correlated interaction variables.\n",
    "print(interaction.tail(15))\n",
    "(interaction.head(15))"
   ]
  },
  {
   "cell_type": "markdown",
   "metadata": {
    "id": "BfNd6ePLOepo"
   },
   "source": [
    "## Get the names of the columns which have the highest correlation - '1' and 'TARGET' can be dropped."
   ]
  },
  {
   "cell_type": "code",
   "execution_count": 63,
   "metadata": {
    "colab": {
     "base_uri": "https://localhost:8080/"
    },
    "id": "fZ9uIfYrOepq",
    "outputId": "9ea2a230-0686-413c-dfc5-ffb7498c9a50",
    "scrolled": false
   },
   "outputs": [
    {
     "data": {
      "text/plain": [
       "{'EXT_SOURCE_2',\n",
       " 'EXT_SOURCE_2 DAYS_BIRTH',\n",
       " 'EXT_SOURCE_2 EXT_SOURCE_1',\n",
       " 'EXT_SOURCE_2 EXT_SOURCE_1 DAYS_BIRTH',\n",
       " 'EXT_SOURCE_2^2 DAYS_BIRTH',\n",
       " 'EXT_SOURCE_2^2 EXT_SOURCE_1',\n",
       " 'EXT_SOURCE_2^2 EXT_SOURCE_1 DAYS_BIRTH',\n",
       " 'EXT_SOURCE_2^3 DAYS_BIRTH',\n",
       " 'EXT_SOURCE_3',\n",
       " 'EXT_SOURCE_3 DAYS_BIRTH',\n",
       " 'EXT_SOURCE_3 EXT_SOURCE_1',\n",
       " 'EXT_SOURCE_3 EXT_SOURCE_1 DAYS_BIRTH',\n",
       " 'EXT_SOURCE_3 EXT_SOURCE_2',\n",
       " 'EXT_SOURCE_3 EXT_SOURCE_2 DAYS_BIRTH',\n",
       " 'EXT_SOURCE_3 EXT_SOURCE_2 DAYS_BIRTH^2',\n",
       " 'EXT_SOURCE_3 EXT_SOURCE_2 EXT_SOURCE_1',\n",
       " 'EXT_SOURCE_3 EXT_SOURCE_2 EXT_SOURCE_1 DAYS_BIRTH',\n",
       " 'EXT_SOURCE_3 EXT_SOURCE_2 EXT_SOURCE_1^2',\n",
       " 'EXT_SOURCE_3 EXT_SOURCE_2^2',\n",
       " 'EXT_SOURCE_3 EXT_SOURCE_2^2 DAYS_BIRTH',\n",
       " 'EXT_SOURCE_3 EXT_SOURCE_2^2 EXT_SOURCE_1',\n",
       " 'EXT_SOURCE_3 EXT_SOURCE_2^3',\n",
       " 'EXT_SOURCE_3^2 DAYS_BIRTH',\n",
       " 'EXT_SOURCE_3^2 EXT_SOURCE_1 DAYS_BIRTH',\n",
       " 'EXT_SOURCE_3^2 EXT_SOURCE_2',\n",
       " 'EXT_SOURCE_3^2 EXT_SOURCE_2 DAYS_BIRTH',\n",
       " 'EXT_SOURCE_3^2 EXT_SOURCE_2 EXT_SOURCE_1',\n",
       " 'EXT_SOURCE_3^2 EXT_SOURCE_2^2'}"
      ]
     },
     "execution_count": 63,
     "metadata": {},
     "output_type": "execute_result"
    }
   ],
   "source": [
    "set(interaction.head(15).index).union(interaction.tail(15).index).difference(set({'1','TARGET'}))"
   ]
  },
  {
   "cell_type": "markdown",
   "metadata": {
    "id": "xQcMhLsOOepr"
   },
   "source": [
    "## Choose the selected columns which have highest correlation to 'TARGET'. Columns '1' and 'TARGET' are not necessary!"
   ]
  },
  {
   "cell_type": "code",
   "execution_count": 64,
   "metadata": {
    "id": "L_1vKim0Oeps"
   },
   "outputs": [],
   "source": [
    "selected_inter_variables = list(set(interaction.head(15).index).union(interaction.tail(15).index).difference(set({'1','TARGET'})))"
   ]
  },
  {
   "cell_type": "code",
   "execution_count": 65,
   "metadata": {
    "colab": {
     "base_uri": "https://localhost:8080/",
     "height": 0
    },
    "id": "CAkKcnd3Oepu",
    "outputId": "e9b3179c-7bd7-4ff9-829e-53e75b38808e"
   },
   "outputs": [
    {
     "data": {
      "text/html": [
       "\n",
       "  <div id=\"df-9342da7f-9267-4c7c-826a-f167ac14a402\">\n",
       "    <div class=\"colab-df-container\">\n",
       "      <div>\n",
       "<style scoped>\n",
       "    .dataframe tbody tr th:only-of-type {\n",
       "        vertical-align: middle;\n",
       "    }\n",
       "\n",
       "    .dataframe tbody tr th {\n",
       "        vertical-align: top;\n",
       "    }\n",
       "\n",
       "    .dataframe thead th {\n",
       "        text-align: right;\n",
       "    }\n",
       "</style>\n",
       "<table border=\"1\" class=\"dataframe\">\n",
       "  <thead>\n",
       "    <tr style=\"text-align: right;\">\n",
       "      <th></th>\n",
       "      <th>EXT_SOURCE_2</th>\n",
       "      <th>EXT_SOURCE_3^2 EXT_SOURCE_2</th>\n",
       "      <th>EXT_SOURCE_3^2 EXT_SOURCE_2 EXT_SOURCE_1</th>\n",
       "      <th>EXT_SOURCE_3 EXT_SOURCE_2^2</th>\n",
       "      <th>EXT_SOURCE_3 EXT_SOURCE_2^3</th>\n",
       "      <th>EXT_SOURCE_2 EXT_SOURCE_1</th>\n",
       "      <th>EXT_SOURCE_3 EXT_SOURCE_2 DAYS_BIRTH^2</th>\n",
       "      <th>EXT_SOURCE_3 EXT_SOURCE_2^2 DAYS_BIRTH</th>\n",
       "      <th>EXT_SOURCE_3</th>\n",
       "      <th>EXT_SOURCE_2^3 DAYS_BIRTH</th>\n",
       "      <th>...</th>\n",
       "      <th>EXT_SOURCE_2^2 DAYS_BIRTH</th>\n",
       "      <th>EXT_SOURCE_3 EXT_SOURCE_2 EXT_SOURCE_1^2</th>\n",
       "      <th>EXT_SOURCE_3 EXT_SOURCE_2 EXT_SOURCE_1 DAYS_BIRTH</th>\n",
       "      <th>EXT_SOURCE_3 EXT_SOURCE_2^2 EXT_SOURCE_1</th>\n",
       "      <th>EXT_SOURCE_3^2 EXT_SOURCE_2 DAYS_BIRTH</th>\n",
       "      <th>EXT_SOURCE_3^2 DAYS_BIRTH</th>\n",
       "      <th>EXT_SOURCE_3 EXT_SOURCE_2 DAYS_BIRTH</th>\n",
       "      <th>EXT_SOURCE_3 EXT_SOURCE_1</th>\n",
       "      <th>EXT_SOURCE_3 EXT_SOURCE_2 EXT_SOURCE_1</th>\n",
       "      <th>EXT_SOURCE_3 EXT_SOURCE_2</th>\n",
       "    </tr>\n",
       "  </thead>\n",
       "  <tbody>\n",
       "    <tr>\n",
       "      <th>0</th>\n",
       "      <td>0.262949</td>\n",
       "      <td>0.005108</td>\n",
       "      <td>0.000424</td>\n",
       "      <td>0.009637</td>\n",
       "      <td>0.002534</td>\n",
       "      <td>0.021834</td>\n",
       "      <td>3.280441e+06</td>\n",
       "      <td>-91.172960</td>\n",
       "      <td>0.139376</td>\n",
       "      <td>-172.008376</td>\n",
       "      <td>...</td>\n",
       "      <td>-654.152107</td>\n",
       "      <td>0.000253</td>\n",
       "      <td>-28.791659</td>\n",
       "      <td>0.000800</td>\n",
       "      <td>-48.326185</td>\n",
       "      <td>-183.785678</td>\n",
       "      <td>-346.733022</td>\n",
       "      <td>0.011573</td>\n",
       "      <td>0.003043</td>\n",
       "      <td>0.036649</td>\n",
       "    </tr>\n",
       "    <tr>\n",
       "      <th>1</th>\n",
       "      <td>0.622246</td>\n",
       "      <td>0.178286</td>\n",
       "      <td>0.055495</td>\n",
       "      <td>0.207254</td>\n",
       "      <td>0.128963</td>\n",
       "      <td>0.193685</td>\n",
       "      <td>9.361535e+07</td>\n",
       "      <td>-3474.605044</td>\n",
       "      <td>0.535276</td>\n",
       "      <td>-4039.144848</td>\n",
       "      <td>...</td>\n",
       "      <td>-6491.237078</td>\n",
       "      <td>0.032271</td>\n",
       "      <td>-1738.108981</td>\n",
       "      <td>0.064511</td>\n",
       "      <td>-2988.969365</td>\n",
       "      <td>-4803.518937</td>\n",
       "      <td>-5583.975307</td>\n",
       "      <td>0.166614</td>\n",
       "      <td>0.103675</td>\n",
       "      <td>0.333073</td>\n",
       "    </tr>\n",
       "    <tr>\n",
       "      <th>2</th>\n",
       "      <td>0.555912</td>\n",
       "      <td>0.295894</td>\n",
       "      <td>0.149722</td>\n",
       "      <td>0.225464</td>\n",
       "      <td>0.125338</td>\n",
       "      <td>0.281290</td>\n",
       "      <td>1.471224e+08</td>\n",
       "      <td>-4294.187521</td>\n",
       "      <td>0.729567</td>\n",
       "      <td>-3272.066505</td>\n",
       "      <td>...</td>\n",
       "      <td>-5885.942404</td>\n",
       "      <td>0.103841</td>\n",
       "      <td>-3908.621640</td>\n",
       "      <td>0.114084</td>\n",
       "      <td>-5635.596478</td>\n",
       "      <td>-10137.567875</td>\n",
       "      <td>-7724.580288</td>\n",
       "      <td>0.369159</td>\n",
       "      <td>0.205220</td>\n",
       "      <td>0.405575</td>\n",
       "    </tr>\n",
       "    <tr>\n",
       "      <th>3</th>\n",
       "      <td>0.650442</td>\n",
       "      <td>0.186365</td>\n",
       "      <td>0.094300</td>\n",
       "      <td>0.226462</td>\n",
       "      <td>0.147300</td>\n",
       "      <td>0.329122</td>\n",
       "      <td>1.257541e+08</td>\n",
       "      <td>-4303.904125</td>\n",
       "      <td>0.535276</td>\n",
       "      <td>-5229.895165</td>\n",
       "      <td>...</td>\n",
       "      <td>-8040.528832</td>\n",
       "      <td>0.089142</td>\n",
       "      <td>-3348.134986</td>\n",
       "      <td>0.114589</td>\n",
       "      <td>-3541.866544</td>\n",
       "      <td>-5445.325225</td>\n",
       "      <td>-6616.894625</td>\n",
       "      <td>0.270849</td>\n",
       "      <td>0.176171</td>\n",
       "      <td>0.348166</td>\n",
       "    </tr>\n",
       "    <tr>\n",
       "      <th>4</th>\n",
       "      <td>0.322738</td>\n",
       "      <td>0.092471</td>\n",
       "      <td>0.046790</td>\n",
       "      <td>0.055754</td>\n",
       "      <td>0.017994</td>\n",
       "      <td>0.163305</td>\n",
       "      <td>6.863256e+07</td>\n",
       "      <td>-1111.296208</td>\n",
       "      <td>0.535276</td>\n",
       "      <td>-670.042495</td>\n",
       "      <td>...</td>\n",
       "      <td>-2076.117157</td>\n",
       "      <td>0.044231</td>\n",
       "      <td>-1742.320648</td>\n",
       "      <td>0.028212</td>\n",
       "      <td>-1843.135727</td>\n",
       "      <td>-5710.929881</td>\n",
       "      <td>-3443.335521</td>\n",
       "      <td>0.270849</td>\n",
       "      <td>0.087413</td>\n",
       "      <td>0.172754</td>\n",
       "    </tr>\n",
       "  </tbody>\n",
       "</table>\n",
       "<p>5 rows × 28 columns</p>\n",
       "</div>\n",
       "      <button class=\"colab-df-convert\" onclick=\"convertToInteractive('df-9342da7f-9267-4c7c-826a-f167ac14a402')\"\n",
       "              title=\"Convert this dataframe to an interactive table.\"\n",
       "              style=\"display:none;\">\n",
       "        \n",
       "  <svg xmlns=\"http://www.w3.org/2000/svg\" height=\"24px\"viewBox=\"0 0 24 24\"\n",
       "       width=\"24px\">\n",
       "    <path d=\"M0 0h24v24H0V0z\" fill=\"none\"/>\n",
       "    <path d=\"M18.56 5.44l.94 2.06.94-2.06 2.06-.94-2.06-.94-.94-2.06-.94 2.06-2.06.94zm-11 1L8.5 8.5l.94-2.06 2.06-.94-2.06-.94L8.5 2.5l-.94 2.06-2.06.94zm10 10l.94 2.06.94-2.06 2.06-.94-2.06-.94-.94-2.06-.94 2.06-2.06.94z\"/><path d=\"M17.41 7.96l-1.37-1.37c-.4-.4-.92-.59-1.43-.59-.52 0-1.04.2-1.43.59L10.3 9.45l-7.72 7.72c-.78.78-.78 2.05 0 2.83L4 21.41c.39.39.9.59 1.41.59.51 0 1.02-.2 1.41-.59l7.78-7.78 2.81-2.81c.8-.78.8-2.07 0-2.86zM5.41 20L4 18.59l7.72-7.72 1.47 1.35L5.41 20z\"/>\n",
       "  </svg>\n",
       "      </button>\n",
       "      \n",
       "  <style>\n",
       "    .colab-df-container {\n",
       "      display:flex;\n",
       "      flex-wrap:wrap;\n",
       "      gap: 12px;\n",
       "    }\n",
       "\n",
       "    .colab-df-convert {\n",
       "      background-color: #E8F0FE;\n",
       "      border: none;\n",
       "      border-radius: 50%;\n",
       "      cursor: pointer;\n",
       "      display: none;\n",
       "      fill: #1967D2;\n",
       "      height: 32px;\n",
       "      padding: 0 0 0 0;\n",
       "      width: 32px;\n",
       "    }\n",
       "\n",
       "    .colab-df-convert:hover {\n",
       "      background-color: #E2EBFA;\n",
       "      box-shadow: 0px 1px 2px rgba(60, 64, 67, 0.3), 0px 1px 3px 1px rgba(60, 64, 67, 0.15);\n",
       "      fill: #174EA6;\n",
       "    }\n",
       "\n",
       "    [theme=dark] .colab-df-convert {\n",
       "      background-color: #3B4455;\n",
       "      fill: #D2E3FC;\n",
       "    }\n",
       "\n",
       "    [theme=dark] .colab-df-convert:hover {\n",
       "      background-color: #434B5C;\n",
       "      box-shadow: 0px 1px 3px 1px rgba(0, 0, 0, 0.15);\n",
       "      filter: drop-shadow(0px 1px 2px rgba(0, 0, 0, 0.3));\n",
       "      fill: #FFFFFF;\n",
       "    }\n",
       "  </style>\n",
       "\n",
       "      <script>\n",
       "        const buttonEl =\n",
       "          document.querySelector('#df-9342da7f-9267-4c7c-826a-f167ac14a402 button.colab-df-convert');\n",
       "        buttonEl.style.display =\n",
       "          google.colab.kernel.accessAllowed ? 'block' : 'none';\n",
       "\n",
       "        async function convertToInteractive(key) {\n",
       "          const element = document.querySelector('#df-9342da7f-9267-4c7c-826a-f167ac14a402');\n",
       "          const dataTable =\n",
       "            await google.colab.kernel.invokeFunction('convertToInteractive',\n",
       "                                                     [key], {});\n",
       "          if (!dataTable) return;\n",
       "\n",
       "          const docLinkHtml = 'Like what you see? Visit the ' +\n",
       "            '<a target=\"_blank\" href=https://colab.research.google.com/notebooks/data_table.ipynb>data table notebook</a>'\n",
       "            + ' to learn more about interactive tables.';\n",
       "          element.innerHTML = '';\n",
       "          dataTable['output_type'] = 'display_data';\n",
       "          await google.colab.output.renderOutput(dataTable, element);\n",
       "          const docLink = document.createElement('div');\n",
       "          docLink.innerHTML = docLinkHtml;\n",
       "          element.appendChild(docLink);\n",
       "        }\n",
       "      </script>\n",
       "    </div>\n",
       "  </div>\n",
       "  "
      ],
      "text/plain": [
       "   EXT_SOURCE_2  EXT_SOURCE_3^2 EXT_SOURCE_2  \\\n",
       "0      0.262949                     0.005108   \n",
       "1      0.622246                     0.178286   \n",
       "2      0.555912                     0.295894   \n",
       "3      0.650442                     0.186365   \n",
       "4      0.322738                     0.092471   \n",
       "\n",
       "   EXT_SOURCE_3^2 EXT_SOURCE_2 EXT_SOURCE_1  EXT_SOURCE_3 EXT_SOURCE_2^2  \\\n",
       "0                                  0.000424                     0.009637   \n",
       "1                                  0.055495                     0.207254   \n",
       "2                                  0.149722                     0.225464   \n",
       "3                                  0.094300                     0.226462   \n",
       "4                                  0.046790                     0.055754   \n",
       "\n",
       "   EXT_SOURCE_3 EXT_SOURCE_2^3  EXT_SOURCE_2 EXT_SOURCE_1  \\\n",
       "0                     0.002534                   0.021834   \n",
       "1                     0.128963                   0.193685   \n",
       "2                     0.125338                   0.281290   \n",
       "3                     0.147300                   0.329122   \n",
       "4                     0.017994                   0.163305   \n",
       "\n",
       "   EXT_SOURCE_3 EXT_SOURCE_2 DAYS_BIRTH^2  \\\n",
       "0                            3.280441e+06   \n",
       "1                            9.361535e+07   \n",
       "2                            1.471224e+08   \n",
       "3                            1.257541e+08   \n",
       "4                            6.863256e+07   \n",
       "\n",
       "   EXT_SOURCE_3 EXT_SOURCE_2^2 DAYS_BIRTH  EXT_SOURCE_3  \\\n",
       "0                              -91.172960      0.139376   \n",
       "1                            -3474.605044      0.535276   \n",
       "2                            -4294.187521      0.729567   \n",
       "3                            -4303.904125      0.535276   \n",
       "4                            -1111.296208      0.535276   \n",
       "\n",
       "   EXT_SOURCE_2^3 DAYS_BIRTH  ...  EXT_SOURCE_2^2 DAYS_BIRTH  \\\n",
       "0                -172.008376  ...                -654.152107   \n",
       "1               -4039.144848  ...               -6491.237078   \n",
       "2               -3272.066505  ...               -5885.942404   \n",
       "3               -5229.895165  ...               -8040.528832   \n",
       "4                -670.042495  ...               -2076.117157   \n",
       "\n",
       "   EXT_SOURCE_3 EXT_SOURCE_2 EXT_SOURCE_1^2  \\\n",
       "0                                  0.000253   \n",
       "1                                  0.032271   \n",
       "2                                  0.103841   \n",
       "3                                  0.089142   \n",
       "4                                  0.044231   \n",
       "\n",
       "   EXT_SOURCE_3 EXT_SOURCE_2 EXT_SOURCE_1 DAYS_BIRTH  \\\n",
       "0                                         -28.791659   \n",
       "1                                       -1738.108981   \n",
       "2                                       -3908.621640   \n",
       "3                                       -3348.134986   \n",
       "4                                       -1742.320648   \n",
       "\n",
       "   EXT_SOURCE_3 EXT_SOURCE_2^2 EXT_SOURCE_1  \\\n",
       "0                                  0.000800   \n",
       "1                                  0.064511   \n",
       "2                                  0.114084   \n",
       "3                                  0.114589   \n",
       "4                                  0.028212   \n",
       "\n",
       "   EXT_SOURCE_3^2 EXT_SOURCE_2 DAYS_BIRTH  EXT_SOURCE_3^2 DAYS_BIRTH  \\\n",
       "0                              -48.326185                -183.785678   \n",
       "1                            -2988.969365               -4803.518937   \n",
       "2                            -5635.596478              -10137.567875   \n",
       "3                            -3541.866544               -5445.325225   \n",
       "4                            -1843.135727               -5710.929881   \n",
       "\n",
       "   EXT_SOURCE_3 EXT_SOURCE_2 DAYS_BIRTH  EXT_SOURCE_3 EXT_SOURCE_1  \\\n",
       "0                           -346.733022                   0.011573   \n",
       "1                          -5583.975307                   0.166614   \n",
       "2                          -7724.580288                   0.369159   \n",
       "3                          -6616.894625                   0.270849   \n",
       "4                          -3443.335521                   0.270849   \n",
       "\n",
       "   EXT_SOURCE_3 EXT_SOURCE_2 EXT_SOURCE_1  EXT_SOURCE_3 EXT_SOURCE_2  \n",
       "0                                0.003043                   0.036649  \n",
       "1                                0.103675                   0.333073  \n",
       "2                                0.205220                   0.405575  \n",
       "3                                0.176171                   0.348166  \n",
       "4                                0.087413                   0.172754  \n",
       "\n",
       "[5 rows x 28 columns]"
      ]
     },
     "execution_count": 65,
     "metadata": {},
     "output_type": "execute_result"
    }
   ],
   "source": [
    "# look at the selected features\n",
    "poly_interaction_train[selected_inter_variables].head()"
   ]
  },
  {
   "cell_type": "code",
   "execution_count": 66,
   "metadata": {
    "colab": {
     "base_uri": "https://localhost:8080/",
     "height": 0
    },
    "id": "37XUinPCOepv",
    "outputId": "c5c650cb-738e-4eb6-f6aa-bfcb2e471faf"
   },
   "outputs": [
    {
     "data": {
      "text/html": [
       "\n",
       "  <div id=\"df-0c5a10b1-5e0b-4d2e-8637-caa653c965dd\">\n",
       "    <div class=\"colab-df-container\">\n",
       "      <div>\n",
       "<style scoped>\n",
       "    .dataframe tbody tr th:only-of-type {\n",
       "        vertical-align: middle;\n",
       "    }\n",
       "\n",
       "    .dataframe tbody tr th {\n",
       "        vertical-align: top;\n",
       "    }\n",
       "\n",
       "    .dataframe thead th {\n",
       "        text-align: right;\n",
       "    }\n",
       "</style>\n",
       "<table border=\"1\" class=\"dataframe\">\n",
       "  <thead>\n",
       "    <tr style=\"text-align: right;\">\n",
       "      <th></th>\n",
       "      <th>EXT_SOURCE_2</th>\n",
       "      <th>EXT_SOURCE_3^2 EXT_SOURCE_2</th>\n",
       "      <th>EXT_SOURCE_3^2 EXT_SOURCE_2 EXT_SOURCE_1</th>\n",
       "      <th>EXT_SOURCE_3 EXT_SOURCE_2^2</th>\n",
       "      <th>EXT_SOURCE_3 EXT_SOURCE_2^3</th>\n",
       "      <th>EXT_SOURCE_2 EXT_SOURCE_1</th>\n",
       "      <th>EXT_SOURCE_3 EXT_SOURCE_2 DAYS_BIRTH^2</th>\n",
       "      <th>EXT_SOURCE_3 EXT_SOURCE_2^2 DAYS_BIRTH</th>\n",
       "      <th>EXT_SOURCE_3</th>\n",
       "      <th>EXT_SOURCE_2^3 DAYS_BIRTH</th>\n",
       "      <th>...</th>\n",
       "      <th>EXT_SOURCE_2^2 DAYS_BIRTH</th>\n",
       "      <th>EXT_SOURCE_3 EXT_SOURCE_2 EXT_SOURCE_1^2</th>\n",
       "      <th>EXT_SOURCE_3 EXT_SOURCE_2 EXT_SOURCE_1 DAYS_BIRTH</th>\n",
       "      <th>EXT_SOURCE_3 EXT_SOURCE_2^2 EXT_SOURCE_1</th>\n",
       "      <th>EXT_SOURCE_3^2 EXT_SOURCE_2 DAYS_BIRTH</th>\n",
       "      <th>EXT_SOURCE_3^2 DAYS_BIRTH</th>\n",
       "      <th>EXT_SOURCE_3 EXT_SOURCE_2 DAYS_BIRTH</th>\n",
       "      <th>EXT_SOURCE_3 EXT_SOURCE_1</th>\n",
       "      <th>EXT_SOURCE_3 EXT_SOURCE_2 EXT_SOURCE_1</th>\n",
       "      <th>EXT_SOURCE_3 EXT_SOURCE_2</th>\n",
       "    </tr>\n",
       "  </thead>\n",
       "  <tbody>\n",
       "    <tr>\n",
       "      <th>0</th>\n",
       "      <td>0.789654</td>\n",
       "      <td>0.020094</td>\n",
       "      <td>0.015123</td>\n",
       "      <td>0.099469</td>\n",
       "      <td>0.078546</td>\n",
       "      <td>0.594305</td>\n",
       "      <td>4.663438e+07</td>\n",
       "      <td>-1913.883926</td>\n",
       "      <td>0.159520</td>\n",
       "      <td>-9474.116872</td>\n",
       "      <td>...</td>\n",
       "      <td>-11997.802403</td>\n",
       "      <td>0.071350</td>\n",
       "      <td>-1824.110478</td>\n",
       "      <td>0.074862</td>\n",
       "      <td>-386.627243</td>\n",
       "      <td>-489.615795</td>\n",
       "      <td>-2423.698322</td>\n",
       "      <td>0.120057</td>\n",
       "      <td>0.094803</td>\n",
       "      <td>0.125965</td>\n",
       "    </tr>\n",
       "    <tr>\n",
       "      <th>1</th>\n",
       "      <td>0.291656</td>\n",
       "      <td>0.054673</td>\n",
       "      <td>0.030889</td>\n",
       "      <td>0.036829</td>\n",
       "      <td>0.010741</td>\n",
       "      <td>0.164783</td>\n",
       "      <td>4.120477e+07</td>\n",
       "      <td>-665.278990</td>\n",
       "      <td>0.432962</td>\n",
       "      <td>-448.151217</td>\n",
       "      <td>...</td>\n",
       "      <td>-1536.577117</td>\n",
       "      <td>0.040309</td>\n",
       "      <td>-1288.767295</td>\n",
       "      <td>0.020808</td>\n",
       "      <td>-987.604448</td>\n",
       "      <td>-3386.201665</td>\n",
       "      <td>-2281.043619</td>\n",
       "      <td>0.244619</td>\n",
       "      <td>0.071345</td>\n",
       "      <td>0.126276</td>\n",
       "    </tr>\n",
       "    <tr>\n",
       "      <th>2</th>\n",
       "      <td>0.699787</td>\n",
       "      <td>0.261238</td>\n",
       "      <td>0.132186</td>\n",
       "      <td>0.299203</td>\n",
       "      <td>0.209379</td>\n",
       "      <td>0.354091</td>\n",
       "      <td>1.716760e+08</td>\n",
       "      <td>-5995.438444</td>\n",
       "      <td>0.610991</td>\n",
       "      <td>-6866.756812</td>\n",
       "      <td>...</td>\n",
       "      <td>-9812.640816</td>\n",
       "      <td>0.109471</td>\n",
       "      <td>-4335.147954</td>\n",
       "      <td>0.151396</td>\n",
       "      <td>-5234.681105</td>\n",
       "      <td>-7480.393855</td>\n",
       "      <td>-8567.521115</td>\n",
       "      <td>0.309160</td>\n",
       "      <td>0.216346</td>\n",
       "      <td>0.427564</td>\n",
       "    </tr>\n",
       "    <tr>\n",
       "      <th>3</th>\n",
       "      <td>0.509677</td>\n",
       "      <td>0.191336</td>\n",
       "      <td>0.100592</td>\n",
       "      <td>0.159163</td>\n",
       "      <td>0.081122</td>\n",
       "      <td>0.267955</td>\n",
       "      <td>6.099746e+07</td>\n",
       "      <td>-2224.456866</td>\n",
       "      <td>0.612704</td>\n",
       "      <td>-1850.411012</td>\n",
       "      <td>...</td>\n",
       "      <td>-3630.555667</td>\n",
       "      <td>0.086313</td>\n",
       "      <td>-2294.536289</td>\n",
       "      <td>0.083677</td>\n",
       "      <td>-2674.113111</td>\n",
       "      <td>-5246.681115</td>\n",
       "      <td>-4364.443591</td>\n",
       "      <td>0.322119</td>\n",
       "      <td>0.164177</td>\n",
       "      <td>0.312281</td>\n",
       "    </tr>\n",
       "    <tr>\n",
       "      <th>4</th>\n",
       "      <td>0.425687</td>\n",
       "      <td>0.121968</td>\n",
       "      <td>0.024655</td>\n",
       "      <td>0.096997</td>\n",
       "      <td>0.041290</td>\n",
       "      <td>0.086051</td>\n",
       "      <td>3.874573e+07</td>\n",
       "      <td>-1264.843931</td>\n",
       "      <td>0.535276</td>\n",
       "      <td>-1005.888062</td>\n",
       "      <td>...</td>\n",
       "      <td>-2362.974127</td>\n",
       "      <td>0.009311</td>\n",
       "      <td>-600.633070</td>\n",
       "      <td>0.019608</td>\n",
       "      <td>-1590.465410</td>\n",
       "      <td>-3736.229463</td>\n",
       "      <td>-2971.298294</td>\n",
       "      <td>0.108203</td>\n",
       "      <td>0.046061</td>\n",
       "      <td>0.227860</td>\n",
       "    </tr>\n",
       "  </tbody>\n",
       "</table>\n",
       "<p>5 rows × 28 columns</p>\n",
       "</div>\n",
       "      <button class=\"colab-df-convert\" onclick=\"convertToInteractive('df-0c5a10b1-5e0b-4d2e-8637-caa653c965dd')\"\n",
       "              title=\"Convert this dataframe to an interactive table.\"\n",
       "              style=\"display:none;\">\n",
       "        \n",
       "  <svg xmlns=\"http://www.w3.org/2000/svg\" height=\"24px\"viewBox=\"0 0 24 24\"\n",
       "       width=\"24px\">\n",
       "    <path d=\"M0 0h24v24H0V0z\" fill=\"none\"/>\n",
       "    <path d=\"M18.56 5.44l.94 2.06.94-2.06 2.06-.94-2.06-.94-.94-2.06-.94 2.06-2.06.94zm-11 1L8.5 8.5l.94-2.06 2.06-.94-2.06-.94L8.5 2.5l-.94 2.06-2.06.94zm10 10l.94 2.06.94-2.06 2.06-.94-2.06-.94-.94-2.06-.94 2.06-2.06.94z\"/><path d=\"M17.41 7.96l-1.37-1.37c-.4-.4-.92-.59-1.43-.59-.52 0-1.04.2-1.43.59L10.3 9.45l-7.72 7.72c-.78.78-.78 2.05 0 2.83L4 21.41c.39.39.9.59 1.41.59.51 0 1.02-.2 1.41-.59l7.78-7.78 2.81-2.81c.8-.78.8-2.07 0-2.86zM5.41 20L4 18.59l7.72-7.72 1.47 1.35L5.41 20z\"/>\n",
       "  </svg>\n",
       "      </button>\n",
       "      \n",
       "  <style>\n",
       "    .colab-df-container {\n",
       "      display:flex;\n",
       "      flex-wrap:wrap;\n",
       "      gap: 12px;\n",
       "    }\n",
       "\n",
       "    .colab-df-convert {\n",
       "      background-color: #E8F0FE;\n",
       "      border: none;\n",
       "      border-radius: 50%;\n",
       "      cursor: pointer;\n",
       "      display: none;\n",
       "      fill: #1967D2;\n",
       "      height: 32px;\n",
       "      padding: 0 0 0 0;\n",
       "      width: 32px;\n",
       "    }\n",
       "\n",
       "    .colab-df-convert:hover {\n",
       "      background-color: #E2EBFA;\n",
       "      box-shadow: 0px 1px 2px rgba(60, 64, 67, 0.3), 0px 1px 3px 1px rgba(60, 64, 67, 0.15);\n",
       "      fill: #174EA6;\n",
       "    }\n",
       "\n",
       "    [theme=dark] .colab-df-convert {\n",
       "      background-color: #3B4455;\n",
       "      fill: #D2E3FC;\n",
       "    }\n",
       "\n",
       "    [theme=dark] .colab-df-convert:hover {\n",
       "      background-color: #434B5C;\n",
       "      box-shadow: 0px 1px 3px 1px rgba(0, 0, 0, 0.15);\n",
       "      filter: drop-shadow(0px 1px 2px rgba(0, 0, 0, 0.3));\n",
       "      fill: #FFFFFF;\n",
       "    }\n",
       "  </style>\n",
       "\n",
       "      <script>\n",
       "        const buttonEl =\n",
       "          document.querySelector('#df-0c5a10b1-5e0b-4d2e-8637-caa653c965dd button.colab-df-convert');\n",
       "        buttonEl.style.display =\n",
       "          google.colab.kernel.accessAllowed ? 'block' : 'none';\n",
       "\n",
       "        async function convertToInteractive(key) {\n",
       "          const element = document.querySelector('#df-0c5a10b1-5e0b-4d2e-8637-caa653c965dd');\n",
       "          const dataTable =\n",
       "            await google.colab.kernel.invokeFunction('convertToInteractive',\n",
       "                                                     [key], {});\n",
       "          if (!dataTable) return;\n",
       "\n",
       "          const docLinkHtml = 'Like what you see? Visit the ' +\n",
       "            '<a target=\"_blank\" href=https://colab.research.google.com/notebooks/data_table.ipynb>data table notebook</a>'\n",
       "            + ' to learn more about interactive tables.';\n",
       "          element.innerHTML = '';\n",
       "          dataTable['output_type'] = 'display_data';\n",
       "          await google.colab.output.renderOutput(dataTable, element);\n",
       "          const docLink = document.createElement('div');\n",
       "          docLink.innerHTML = docLinkHtml;\n",
       "          element.appendChild(docLink);\n",
       "        }\n",
       "      </script>\n",
       "    </div>\n",
       "  </div>\n",
       "  "
      ],
      "text/plain": [
       "   EXT_SOURCE_2  EXT_SOURCE_3^2 EXT_SOURCE_2  \\\n",
       "0      0.789654                     0.020094   \n",
       "1      0.291656                     0.054673   \n",
       "2      0.699787                     0.261238   \n",
       "3      0.509677                     0.191336   \n",
       "4      0.425687                     0.121968   \n",
       "\n",
       "   EXT_SOURCE_3^2 EXT_SOURCE_2 EXT_SOURCE_1  EXT_SOURCE_3 EXT_SOURCE_2^2  \\\n",
       "0                                  0.015123                     0.099469   \n",
       "1                                  0.030889                     0.036829   \n",
       "2                                  0.132186                     0.299203   \n",
       "3                                  0.100592                     0.159163   \n",
       "4                                  0.024655                     0.096997   \n",
       "\n",
       "   EXT_SOURCE_3 EXT_SOURCE_2^3  EXT_SOURCE_2 EXT_SOURCE_1  \\\n",
       "0                     0.078546                   0.594305   \n",
       "1                     0.010741                   0.164783   \n",
       "2                     0.209379                   0.354091   \n",
       "3                     0.081122                   0.267955   \n",
       "4                     0.041290                   0.086051   \n",
       "\n",
       "   EXT_SOURCE_3 EXT_SOURCE_2 DAYS_BIRTH^2  \\\n",
       "0                            4.663438e+07   \n",
       "1                            4.120477e+07   \n",
       "2                            1.716760e+08   \n",
       "3                            6.099746e+07   \n",
       "4                            3.874573e+07   \n",
       "\n",
       "   EXT_SOURCE_3 EXT_SOURCE_2^2 DAYS_BIRTH  EXT_SOURCE_3  \\\n",
       "0                            -1913.883926      0.159520   \n",
       "1                             -665.278990      0.432962   \n",
       "2                            -5995.438444      0.610991   \n",
       "3                            -2224.456866      0.612704   \n",
       "4                            -1264.843931      0.535276   \n",
       "\n",
       "   EXT_SOURCE_2^3 DAYS_BIRTH  ...  EXT_SOURCE_2^2 DAYS_BIRTH  \\\n",
       "0               -9474.116872  ...              -11997.802403   \n",
       "1                -448.151217  ...               -1536.577117   \n",
       "2               -6866.756812  ...               -9812.640816   \n",
       "3               -1850.411012  ...               -3630.555667   \n",
       "4               -1005.888062  ...               -2362.974127   \n",
       "\n",
       "   EXT_SOURCE_3 EXT_SOURCE_2 EXT_SOURCE_1^2  \\\n",
       "0                                  0.071350   \n",
       "1                                  0.040309   \n",
       "2                                  0.109471   \n",
       "3                                  0.086313   \n",
       "4                                  0.009311   \n",
       "\n",
       "   EXT_SOURCE_3 EXT_SOURCE_2 EXT_SOURCE_1 DAYS_BIRTH  \\\n",
       "0                                       -1824.110478   \n",
       "1                                       -1288.767295   \n",
       "2                                       -4335.147954   \n",
       "3                                       -2294.536289   \n",
       "4                                        -600.633070   \n",
       "\n",
       "   EXT_SOURCE_3 EXT_SOURCE_2^2 EXT_SOURCE_1  \\\n",
       "0                                  0.074862   \n",
       "1                                  0.020808   \n",
       "2                                  0.151396   \n",
       "3                                  0.083677   \n",
       "4                                  0.019608   \n",
       "\n",
       "   EXT_SOURCE_3^2 EXT_SOURCE_2 DAYS_BIRTH  EXT_SOURCE_3^2 DAYS_BIRTH  \\\n",
       "0                             -386.627243                -489.615795   \n",
       "1                             -987.604448               -3386.201665   \n",
       "2                            -5234.681105               -7480.393855   \n",
       "3                            -2674.113111               -5246.681115   \n",
       "4                            -1590.465410               -3736.229463   \n",
       "\n",
       "   EXT_SOURCE_3 EXT_SOURCE_2 DAYS_BIRTH  EXT_SOURCE_3 EXT_SOURCE_1  \\\n",
       "0                          -2423.698322                   0.120057   \n",
       "1                          -2281.043619                   0.244619   \n",
       "2                          -8567.521115                   0.309160   \n",
       "3                          -4364.443591                   0.322119   \n",
       "4                          -2971.298294                   0.108203   \n",
       "\n",
       "   EXT_SOURCE_3 EXT_SOURCE_2 EXT_SOURCE_1  EXT_SOURCE_3 EXT_SOURCE_2  \n",
       "0                                0.094803                   0.125965  \n",
       "1                                0.071345                   0.126276  \n",
       "2                                0.216346                   0.427564  \n",
       "3                                0.164177                   0.312281  \n",
       "4                                0.046061                   0.227860  \n",
       "\n",
       "[5 rows x 28 columns]"
      ]
     },
     "execution_count": 66,
     "metadata": {},
     "output_type": "execute_result"
    }
   ],
   "source": [
    "poly_interaction_test[selected_inter_variables].head()"
   ]
  },
  {
   "cell_type": "markdown",
   "metadata": {
    "id": "fMlasPj6Oepx"
   },
   "source": [
    "## Get a list of unselected columns that are to be dropped."
   ]
  },
  {
   "cell_type": "code",
   "execution_count": 67,
   "metadata": {
    "id": "6pqrKUGbOepy"
   },
   "outputs": [],
   "source": [
    "unselected_cols = [element for element in poly_interaction_train.columns if element not in selected_inter_variables]"
   ]
  },
  {
   "cell_type": "markdown",
   "metadata": {
    "collapsed": true,
    "id": "IbG58mLzOep0"
   },
   "source": [
    "##  Drop the unselected columns of the interaction dataframes - train and test versions both."
   ]
  },
  {
   "cell_type": "code",
   "execution_count": 68,
   "metadata": {
    "id": "WMZiavR1Oep1"
   },
   "outputs": [],
   "source": [
    "poly_interaction_train = poly_interaction_train.drop(unselected_cols,axis=1)"
   ]
  },
  {
   "cell_type": "code",
   "execution_count": 69,
   "metadata": {
    "id": "0K2SXewxOep2"
   },
   "outputs": [],
   "source": [
    "poly_interaction_test = poly_interaction_test.drop(list(set(unselected_cols).difference({'TARGET'})),axis=1)"
   ]
  },
  {
   "cell_type": "markdown",
   "metadata": {
    "id": "fnRpXPW8Oep4"
   },
   "source": [
    "#### Dropping columns 'EXT_SOURCE_2' and 'EXT_SOURCE_3' since they're already present in the source dataset."
   ]
  },
  {
   "cell_type": "code",
   "execution_count": 70,
   "metadata": {
    "id": "02b7X4v1Oep5"
   },
   "outputs": [],
   "source": [
    "train = train.join(poly_interaction_train.drop(['EXT_SOURCE_2', 'EXT_SOURCE_3'],axis=1))"
   ]
  },
  {
   "cell_type": "code",
   "execution_count": 71,
   "metadata": {
    "id": "_RKW0rZ5Oep6"
   },
   "outputs": [],
   "source": [
    "test = test.join(poly_interaction_test.drop(['EXT_SOURCE_2', 'EXT_SOURCE_3'],axis=1))"
   ]
  },
  {
   "cell_type": "code",
   "execution_count": 72,
   "metadata": {
    "colab": {
     "base_uri": "https://localhost:8080/"
    },
    "id": "tylxX61vOep7",
    "outputId": "4ddb8b90-2af5-4d5d-bd0f-178e7aacbdf3"
   },
   "outputs": [
    {
     "name": "stdout",
     "output_type": "stream",
     "text": [
      "The train dataset dimensions are as follows: (307511, 254)\n",
      "The test dataset dimensions are as follows: (48744, 253)\n"
     ]
    }
   ],
   "source": [
    "print(\"The train dataset dimensions are as follows: {}\".format(train.shape))\n",
    "print(\"The test dataset dimensions are as follows: {}\".format(test.shape))"
   ]
  },
  {
   "cell_type": "markdown",
   "metadata": {
    "id": "rrPVz7rXOep9"
   },
   "source": [
    "# Feature Engineering"
   ]
  },
  {
   "cell_type": "code",
   "execution_count": 73,
   "metadata": {
    "id": "cvQG1sqBOep-"
   },
   "outputs": [],
   "source": [
    "train['DIR'] = train['AMT_CREDIT']/train['AMT_INCOME_TOTAL']\n",
    "train['AIR'] = train['AMT_ANNUITY']/train['AMT_INCOME_TOTAL']\n",
    "train['ACR'] = train['AMT_ANNUITY']/train['AMT_CREDIT']\n",
    "train['DAR'] = train['DAYS_EMPLOYED']/train['DAYS_BIRTH']"
   ]
  },
  {
   "cell_type": "code",
   "execution_count": 74,
   "metadata": {
    "id": "ASpRgWHEOeqA"
   },
   "outputs": [],
   "source": [
    "test['DIR'] = test['AMT_CREDIT']/test['AMT_INCOME_TOTAL']\n",
    "test['AIR'] = test['AMT_ANNUITY']/test['AMT_INCOME_TOTAL']\n",
    "test['ACR'] = test['AMT_ANNUITY']/test['AMT_CREDIT']\n",
    "test['DAR'] = test['DAYS_EMPLOYED']/test['DAYS_BIRTH']"
   ]
  },
  {
   "cell_type": "code",
   "execution_count": 75,
   "metadata": {
    "id": "tE9m6MLdOeqB"
   },
   "outputs": [],
   "source": [
    "corr_vals = train.corr()['TARGET']"
   ]
  },
  {
   "cell_type": "code",
   "execution_count": 76,
   "metadata": {
    "colab": {
     "base_uri": "https://localhost:8080/"
    },
    "id": "ZzHV2cVIOeqD",
    "outputId": "1f598b44-3bac-476d-ec72-b7277cb4ce86"
   },
   "outputs": [
    {
     "data": {
      "text/plain": [
       "DIR   -0.007727\n",
       "AIR    0.014265\n",
       "ACR    0.012704\n",
       "DAR   -0.067955\n",
       "Name: TARGET, dtype: float64"
      ]
     },
     "execution_count": 76,
     "metadata": {},
     "output_type": "execute_result"
    }
   ],
   "source": [
    "corr_vals.tail(4)"
   ]
  },
  {
   "cell_type": "markdown",
   "metadata": {
    "id": "N0dK-Bc0OeqE"
   },
   "source": [
    "## Feature Imputing"
   ]
  },
  {
   "cell_type": "code",
   "execution_count": 77,
   "metadata": {
    "id": "HrZL8h18OeqG"
   },
   "outputs": [],
   "source": [
    "from sklearn.preprocessing import MinMaxScaler\n",
    "from sklearn.impute import SimpleImputer"
   ]
  },
  {
   "cell_type": "code",
   "execution_count": 78,
   "metadata": {
    "id": "YEucesPJOeqH"
   },
   "outputs": [],
   "source": [
    "features = list(set(train.columns).difference({'TARGET'}))"
   ]
  },
  {
   "cell_type": "code",
   "execution_count": 79,
   "metadata": {
    "id": "NjcxxhuYOeqI"
   },
   "outputs": [],
   "source": [
    "imputer = SimpleImputer(strategy=\"median\")"
   ]
  },
  {
   "cell_type": "markdown",
   "metadata": {
    "id": "6hvV-hKQOeqJ"
   },
   "source": [
    "## Feature Scaling"
   ]
  },
  {
   "cell_type": "code",
   "execution_count": 80,
   "metadata": {
    "id": "dcju-KqXOeqL"
   },
   "outputs": [],
   "source": [
    "scaler = MinMaxScaler(feature_range = (0, 1))"
   ]
  },
  {
   "cell_type": "code",
   "execution_count": 81,
   "metadata": {
    "colab": {
     "base_uri": "https://localhost:8080/"
    },
    "id": "Zo2ESFFnOeqM",
    "outputId": "757ab8ec-c0be-4499-bf64-697a3250c3fa"
   },
   "outputs": [
    {
     "data": {
      "text/plain": [
       "SimpleImputer(strategy='median')"
      ]
     },
     "execution_count": 81,
     "metadata": {},
     "output_type": "execute_result"
    }
   ],
   "source": [
    "imputer.fit(train.drop(['TARGET'],axis=1))"
   ]
  },
  {
   "cell_type": "code",
   "execution_count": 82,
   "metadata": {
    "id": "mRTgV0pUOeqN"
   },
   "outputs": [],
   "source": [
    "train_transformed = imputer.transform(train.drop(['TARGET'],axis=1))"
   ]
  },
  {
   "cell_type": "code",
   "execution_count": 83,
   "metadata": {
    "id": "kOCrW0JsOeqP"
   },
   "outputs": [],
   "source": [
    "test_transformed = imputer.transform(test)"
   ]
  },
  {
   "cell_type": "code",
   "execution_count": 84,
   "metadata": {
    "id": "6_gIXZUjOeqQ"
   },
   "outputs": [],
   "source": [
    "train_transformed = scaler.fit_transform(train_transformed)"
   ]
  },
  {
   "cell_type": "code",
   "execution_count": 85,
   "metadata": {
    "id": "xXVS2dTDOeqR"
   },
   "outputs": [],
   "source": [
    "test_transformed = scaler.transform(test_transformed)"
   ]
  },
  {
   "cell_type": "code",
   "execution_count": 86,
   "metadata": {
    "colab": {
     "base_uri": "https://localhost:8080/"
    },
    "id": "VfTujSifOeqT",
    "outputId": "f4fece28-a737-4f58-dc7e-033c0c297ed0",
    "scrolled": true
   },
   "outputs": [
    {
     "name": "stdout",
     "output_type": "stream",
     "text": [
      "The train dataset dimensions are as follows: (307511, 257)\n",
      "The test dataset dimensions are as follows: (48744, 257)\n"
     ]
    }
   ],
   "source": [
    "print(\"The train dataset dimensions are as follows: {}\".format(train_transformed.shape))\n",
    "print(\"The test dataset dimensions are as follows: {}\".format(test_transformed.shape))"
   ]
  },
  {
   "cell_type": "markdown",
   "metadata": {
    "id": "Mqiwr6upTJI8"
   },
   "source": [
    "# Handling data imbalance: SMOTE"
   ]
  },
  {
   "cell_type": "code",
   "execution_count": 87,
   "metadata": {
    "id": "BCDFCZO8OeqU"
   },
   "outputs": [],
   "source": [
    "from collections import Counter\n",
    "from sklearn.datasets import make_classification\n",
    "from imblearn.over_sampling import SMOTE "
   ]
  },
  {
   "cell_type": "code",
   "execution_count": 88,
   "metadata": {
    "colab": {
     "base_uri": "https://localhost:8080/"
    },
    "id": "KiwfxzHYOeqW",
    "outputId": "2c283151-407d-4346-dc5e-1a3692e40930"
   },
   "outputs": [
    {
     "name": "stdout",
     "output_type": "stream",
     "text": [
      "Original dataset shape Counter({0: 282686, 1: 24825})\n"
     ]
    }
   ],
   "source": [
    "# Split target\n",
    "X = train_transformed\n",
    "y = target\n",
    "print('Original dataset shape %s' % Counter(y))"
   ]
  },
  {
   "cell_type": "code",
   "execution_count": 89,
   "metadata": {
    "id": "OePrjG48OeqX"
   },
   "outputs": [],
   "source": [
    "sm = SMOTE(random_state=42)\n",
    "X_res, y_res = sm.fit_resample(X, y)"
   ]
  },
  {
   "cell_type": "code",
   "execution_count": 90,
   "metadata": {
    "colab": {
     "base_uri": "https://localhost:8080/"
    },
    "id": "CPkWNk37OeqZ",
    "outputId": "52f2dddc-afe7-4949-abb2-c8727595b86e"
   },
   "outputs": [
    {
     "name": "stdout",
     "output_type": "stream",
     "text": [
      "Original dataset shape Counter({1: 282686, 0: 282686})\n"
     ]
    }
   ],
   "source": [
    "print('Dataset shape %s' % Counter(y_res))"
   ]
  },
  {
   "cell_type": "markdown",
   "metadata": {
    "id": "C3H8OvtjOeqa"
   },
   "source": [
    "# Split the dataset into training set and validation set"
   ]
  },
  {
   "cell_type": "code",
   "execution_count": 91,
   "metadata": {
    "id": "65skaJ_kOeqc"
   },
   "outputs": [],
   "source": [
    "from sklearn.model_selection import train_test_split\n",
    "\n",
    "X_training_set, X_validation_set, y_training_set, y_validation_set = train_test_split(X_res, \n",
    "                                                                                      y_res, test_size=0.33, random_state=42)"
   ]
  },
  {
   "cell_type": "markdown",
   "metadata": {
    "id": "xb0DENU9Oeqd"
   },
   "source": [
    "## Use the Model"
   ]
  },
  {
   "cell_type": "markdown",
   "metadata": {
    "id": "vmqKyC6EOeqe"
   },
   "source": [
    "### 1. Logistic Regression"
   ]
  },
  {
   "cell_type": "code",
   "execution_count": 92,
   "metadata": {
    "id": "K1Pj2uIWOeqf"
   },
   "outputs": [],
   "source": [
    "# Starting with Logistic Regression.\n",
    "\n",
    "from sklearn.linear_model import LogisticRegression\n",
    "\n",
    "logistic_regressor = LogisticRegression(C = 2)"
   ]
  },
  {
   "cell_type": "code",
   "execution_count": 93,
   "metadata": {
    "colab": {
     "base_uri": "https://localhost:8080/"
    },
    "id": "2wqjQugJOeqh",
    "outputId": "df936409-eccc-41b5-86e8-bded4b1e770d",
    "scrolled": true
   },
   "outputs": [
    {
     "data": {
      "text/plain": [
       "LogisticRegression(C=2)"
      ]
     },
     "execution_count": 93,
     "metadata": {},
     "output_type": "execute_result"
    }
   ],
   "source": [
    "logistic_regressor.fit(X_training_set,y_training_set)"
   ]
  },
  {
   "cell_type": "code",
   "execution_count": 94,
   "metadata": {
    "id": "ixZMUPXSOeqj"
   },
   "outputs": [],
   "source": [
    "log_regression_pred = logistic_regressor.predict(X_validation_set)"
   ]
  },
  {
   "cell_type": "code",
   "execution_count": 95,
   "metadata": {
    "colab": {
     "base_uri": "https://localhost:8080/"
    },
    "id": "5Lr2-7m8Oeqk",
    "outputId": "2c4b8231-62ea-42ca-d5f1-c72118f5f913"
   },
   "outputs": [
    {
     "data": {
      "text/plain": [
       "1    95810\n",
       "0    90763\n",
       "Name: target, dtype: int64"
      ]
     },
     "execution_count": 95,
     "metadata": {},
     "output_type": "execute_result"
    }
   ],
   "source": [
    "pd.DataFrame({'target':log_regression_pred})['target'].value_counts()"
   ]
  },
  {
   "cell_type": "code",
   "execution_count": 96,
   "metadata": {
    "colab": {
     "base_uri": "https://localhost:8080/"
    },
    "id": "SQTzRGciOeqm",
    "outputId": "452a4a3c-e5d2-4343-d715-6b1a6d7c95e8"
   },
   "outputs": [
    {
     "name": "stdout",
     "output_type": "stream",
     "text": [
      "The accuracy in general is :  0.708473358953332\n",
      "\n",
      "\n",
      "The classification report is as follows:\n",
      "               precision    recall  f1-score   support\n",
      "\n",
      "           0       0.71      0.69      0.70     93370\n",
      "           1       0.70      0.72      0.71     93203\n",
      "\n",
      "    accuracy                           0.71    186573\n",
      "   macro avg       0.71      0.71      0.71    186573\n",
      "weighted avg       0.71      0.71      0.71    186573\n",
      "\n",
      "ROC AUC score is:  0.7084856325897861\n"
     ]
    }
   ],
   "source": [
    "from sklearn.metrics import accuracy_score,classification_report, roc_auc_score\n",
    "print(\"The accuracy in general is : \", accuracy_score(y_validation_set,log_regression_pred))\n",
    "print(\"\\n\")\n",
    "print(\"The classification report is as follows:\\n\", classification_report(y_validation_set,log_regression_pred))\n",
    "print(\"ROC AUC score is: \",roc_auc_score(y_validation_set,log_regression_pred))"
   ]
  },
  {
   "cell_type": "markdown",
   "metadata": {
    "id": "RGd88dY5Oeqo"
   },
   "source": [
    "### 2. Random Forest - Bagging ensemble of Decision trees"
   ]
  },
  {
   "cell_type": "code",
   "execution_count": 97,
   "metadata": {
    "id": "uRNWsrWQOeqp"
   },
   "outputs": [],
   "source": [
    "from sklearn.ensemble import RandomForestClassifier\n",
    "\n",
    "random_forest = RandomForestClassifier(n_estimators = 500, random_state = 50, verbose = 1, n_jobs = -1)"
   ]
  },
  {
   "cell_type": "code",
   "execution_count": 98,
   "metadata": {
    "colab": {
     "base_uri": "https://localhost:8080/"
    },
    "id": "30F7C7L2Oeqq",
    "outputId": "7e041c9c-7b74-4010-8671-be555d28b297",
    "scrolled": true
   },
   "outputs": [
    {
     "name": "stderr",
     "output_type": "stream",
     "text": [
      "[Parallel(n_jobs=-1)]: Using backend ThreadingBackend with 2 concurrent workers.\n",
      "[Parallel(n_jobs=-1)]: Done  46 tasks      | elapsed:  2.2min\n",
      "[Parallel(n_jobs=-1)]: Done 196 tasks      | elapsed:  9.4min\n",
      "[Parallel(n_jobs=-1)]: Done 446 tasks      | elapsed: 21.4min\n",
      "[Parallel(n_jobs=-1)]: Done 500 out of 500 | elapsed: 24.0min finished\n"
     ]
    },
    {
     "data": {
      "text/plain": [
       "RandomForestClassifier(n_estimators=500, n_jobs=-1, random_state=50, verbose=1)"
      ]
     },
     "execution_count": 98,
     "metadata": {},
     "output_type": "execute_result"
    }
   ],
   "source": [
    "random_forest.fit(X_training_set,y_training_set)"
   ]
  },
  {
   "cell_type": "code",
   "execution_count": 99,
   "metadata": {
    "colab": {
     "base_uri": "https://localhost:8080/"
    },
    "id": "LxJf-ooGOeqs",
    "outputId": "c3a071d5-6b03-4f67-eb8d-d3648c24c831"
   },
   "outputs": [
    {
     "name": "stderr",
     "output_type": "stream",
     "text": [
      "[Parallel(n_jobs=2)]: Using backend ThreadingBackend with 2 concurrent workers.\n",
      "[Parallel(n_jobs=2)]: Done  46 tasks      | elapsed:    2.7s\n",
      "[Parallel(n_jobs=2)]: Done 196 tasks      | elapsed:   10.6s\n",
      "[Parallel(n_jobs=2)]: Done 446 tasks      | elapsed:   23.7s\n",
      "[Parallel(n_jobs=2)]: Done 500 out of 500 | elapsed:   26.7s finished\n"
     ]
    }
   ],
   "source": [
    "random_forest_pred = random_forest.predict(X_validation_set)"
   ]
  },
  {
   "cell_type": "code",
   "execution_count": 100,
   "metadata": {
    "colab": {
     "base_uri": "https://localhost:8080/"
    },
    "id": "Cpl0rwD_Oequ",
    "outputId": "dcb1874b-ca98-48ed-845b-ba8fabc41d5a"
   },
   "outputs": [
    {
     "name": "stdout",
     "output_type": "stream",
     "text": [
      "The accuracy in general is :  0.9502768353405906\n",
      "\n",
      "\n",
      "The classification report is as follows:\n",
      "               precision    recall  f1-score   support\n",
      "\n",
      "           0       0.92      0.99      0.95     93370\n",
      "           1       0.99      0.91      0.95     93203\n",
      "\n",
      "    accuracy                           0.95    186573\n",
      "   macro avg       0.95      0.95      0.95    186573\n",
      "weighted avg       0.95      0.95      0.95    186573\n",
      "\n",
      "ROC AUC score is:  0.9502447239018134\n"
     ]
    }
   ],
   "source": [
    "from sklearn.metrics import accuracy_score,classification_report,roc_auc_score\n",
    "print(\"The accuracy in general is : \", accuracy_score(y_validation_set,random_forest_pred))\n",
    "print(\"\\n\")\n",
    "print(\"The classification report is as follows:\\n\", classification_report(y_validation_set,random_forest_pred))\n",
    "print(\"ROC AUC score is: \",roc_auc_score(y_validation_set,random_forest_pred))"
   ]
  },
  {
   "cell_type": "markdown",
   "metadata": {
    "id": "JQYQSeWWOeqv"
   },
   "source": [
    "### Feature importance of random forest classifier"
   ]
  },
  {
   "cell_type": "code",
   "execution_count": 101,
   "metadata": {
    "id": "aATs6KQDOeqw"
   },
   "outputs": [],
   "source": [
    "feature_importance_df = pd.DataFrame({'Feature':features,'Importance':random_forest.feature_importances_})"
   ]
  },
  {
   "cell_type": "code",
   "execution_count": 102,
   "metadata": {
    "id": "IpbCzAjIOeqx"
   },
   "outputs": [],
   "source": [
    "def plot_importance(df):\n",
    "    \"\"\"\n",
    "    Builds the dataset to plot the feature importance.\n",
    "    \n",
    "    \"\"\"\n",
    "    # Sort features according to importance\n",
    "    df = df.sort_values(['Importance'],ascending=False).reset_index()\n",
    "    \n",
    "    # drop the old index to avoid confusion\n",
    "    df = df.drop(['index'],axis=1)\n",
    "    \n",
    "    # Make a horizontal bar chart of feature importances\n",
    "    plt.figure(figsize = (10, 9))\n",
    "    ax = plt.subplot()\n",
    "    \n",
    "    # Need to reverse the index to plot most important on top\n",
    "    ax.barh(list(reversed(list(df.index[:30]))), \n",
    "            df['Importance'].head(30), \n",
    "            align = 'center', edgecolor = 'k')\n",
    "    \n",
    "    # Set the yticks and labels\n",
    "    ax.set_yticks(list(reversed(list(df.index[:30]))))\n",
    "    ax.set_yticklabels(df['Feature'].head(30))\n",
    "    \n",
    "    plt.xlabel(\"Normalized feature importance\")\n",
    "    plt.ylabel(\"Features\")\n",
    "    \n",
    "    plt.show()\n",
    "    return df"
   ]
  },
  {
   "cell_type": "markdown",
   "metadata": {
    "collapsed": true,
    "id": "zlq-KpW7Oeqz"
   },
   "source": [
    "##  The top 10 of the feature importance plot."
   ]
  },
  {
   "cell_type": "code",
   "execution_count": 103,
   "metadata": {
    "colab": {
     "base_uri": "https://localhost:8080/",
     "height": 551
    },
    "id": "9TuNC06MOeq1",
    "outputId": "22aed88d-90c0-48cf-9bea-9cfd02f3685c",
    "scrolled": true
   },
   "outputs": [
    {
     "data": {
      "image/png": "[encoded data removed]",
      "text/plain": [
       "<Figure size 720x648 with 1 Axes>"
      ]
     },
     "metadata": {
      "needs_background": "light"
     },
     "output_type": "display_data"
    }
   ],
   "source": [
    "sorted_importance = plot_importance(feature_importance_df)"
   ]
  },
  {
   "cell_type": "code",
   "execution_count": 104,
   "metadata": {
    "colab": {
     "base_uri": "https://localhost:8080/",
     "height": 676
    },
    "id": "yOr6seR2Oeq2",
    "outputId": "a12e7c9f-2478-4d55-a59a-ddb721019009"
   },
   "outputs": [
    {
     "data": {
      "text/html": [
       "\n",
       "  <div id=\"df-4d246766-5fcd-4b43-8c78-64709e91e0e3\">\n",
       "    <div class=\"colab-df-container\">\n",
       "      <div>\n",
       "<style scoped>\n",
       "    .dataframe tbody tr th:only-of-type {\n",
       "        vertical-align: middle;\n",
       "    }\n",
       "\n",
       "    .dataframe tbody tr th {\n",
       "        vertical-align: top;\n",
       "    }\n",
       "\n",
       "    .dataframe thead th {\n",
       "        text-align: right;\n",
       "    }\n",
       "</style>\n",
       "<table border=\"1\" class=\"dataframe\">\n",
       "  <thead>\n",
       "    <tr style=\"text-align: right;\">\n",
       "      <th></th>\n",
       "      <th>Feature</th>\n",
       "      <th>Importance</th>\n",
       "    </tr>\n",
       "  </thead>\n",
       "  <tbody>\n",
       "    <tr>\n",
       "      <th>0</th>\n",
       "      <td>ORGANIZATION_TYPE_Industry: type 4</td>\n",
       "      <td>0.046538</td>\n",
       "    </tr>\n",
       "    <tr>\n",
       "      <th>1</th>\n",
       "      <td>ORGANIZATION_TYPE_Trade: type 6</td>\n",
       "      <td>0.045070</td>\n",
       "    </tr>\n",
       "    <tr>\n",
       "      <th>2</th>\n",
       "      <td>OCCUPATION_TYPE_Low-skill Laborers</td>\n",
       "      <td>0.044744</td>\n",
       "    </tr>\n",
       "    <tr>\n",
       "      <th>3</th>\n",
       "      <td>NONLIVINGAPARTMENTS_MEDI</td>\n",
       "      <td>0.027919</td>\n",
       "    </tr>\n",
       "    <tr>\n",
       "      <th>4</th>\n",
       "      <td>ORGANIZATION_TYPE_Business Entity Type 1</td>\n",
       "      <td>0.021473</td>\n",
       "    </tr>\n",
       "    <tr>\n",
       "      <th>5</th>\n",
       "      <td>ORGANIZATION_TYPE_Electricity</td>\n",
       "      <td>0.020194</td>\n",
       "    </tr>\n",
       "    <tr>\n",
       "      <th>6</th>\n",
       "      <td>ORGANIZATION_TYPE_Services</td>\n",
       "      <td>0.019372</td>\n",
       "    </tr>\n",
       "    <tr>\n",
       "      <th>7</th>\n",
       "      <td>DAYS_LAST_PHONE_CHANGE</td>\n",
       "      <td>0.017889</td>\n",
       "    </tr>\n",
       "    <tr>\n",
       "      <th>8</th>\n",
       "      <td>AMT_ANNUITY</td>\n",
       "      <td>0.017164</td>\n",
       "    </tr>\n",
       "    <tr>\n",
       "      <th>9</th>\n",
       "      <td>AMT_REQ_CREDIT_BUREAU_DAY</td>\n",
       "      <td>0.016388</td>\n",
       "    </tr>\n",
       "    <tr>\n",
       "      <th>10</th>\n",
       "      <td>AMT_REQ_CREDIT_BUREAU_QRT</td>\n",
       "      <td>0.015620</td>\n",
       "    </tr>\n",
       "    <tr>\n",
       "      <th>11</th>\n",
       "      <td>APARTMENTS_AVG</td>\n",
       "      <td>0.015392</td>\n",
       "    </tr>\n",
       "    <tr>\n",
       "      <th>12</th>\n",
       "      <td>AMT_REQ_CREDIT_BUREAU_YEAR</td>\n",
       "      <td>0.015199</td>\n",
       "    </tr>\n",
       "    <tr>\n",
       "      <th>13</th>\n",
       "      <td>ORGANIZATION_TYPE_Business Entity Type 2</td>\n",
       "      <td>0.015018</td>\n",
       "    </tr>\n",
       "    <tr>\n",
       "      <th>14</th>\n",
       "      <td>OCCUPATION_TYPE_Managers</td>\n",
       "      <td>0.014929</td>\n",
       "    </tr>\n",
       "    <tr>\n",
       "      <th>15</th>\n",
       "      <td>EXT_SOURCE_2 EXT_SOURCE_1 DAYS_BIRTH</td>\n",
       "      <td>0.014492</td>\n",
       "    </tr>\n",
       "    <tr>\n",
       "      <th>16</th>\n",
       "      <td>APARTMENTS_MEDI</td>\n",
       "      <td>0.014380</td>\n",
       "    </tr>\n",
       "    <tr>\n",
       "      <th>17</th>\n",
       "      <td>FLAG_DOCUMENT_15</td>\n",
       "      <td>0.014236</td>\n",
       "    </tr>\n",
       "    <tr>\n",
       "      <th>18</th>\n",
       "      <td>AMT_INCOME_TOTAL</td>\n",
       "      <td>0.014160</td>\n",
       "    </tr>\n",
       "    <tr>\n",
       "      <th>19</th>\n",
       "      <td>LANDAREA_MEDI</td>\n",
       "      <td>0.013505</td>\n",
       "    </tr>\n",
       "  </tbody>\n",
       "</table>\n",
       "</div>\n",
       "      <button class=\"colab-df-convert\" onclick=\"convertToInteractive('df-4d246766-5fcd-4b43-8c78-64709e91e0e3')\"\n",
       "              title=\"Convert this dataframe to an interactive table.\"\n",
       "              style=\"display:none;\">\n",
       "        \n",
       "  <svg xmlns=\"http://www.w3.org/2000/svg\" height=\"24px\"viewBox=\"0 0 24 24\"\n",
       "       width=\"24px\">\n",
       "    <path d=\"M0 0h24v24H0V0z\" fill=\"none\"/>\n",
       "    <path d=\"M18.56 5.44l.94 2.06.94-2.06 2.06-.94-2.06-.94-.94-2.06-.94 2.06-2.06.94zm-11 1L8.5 8.5l.94-2.06 2.06-.94-2.06-.94L8.5 2.5l-.94 2.06-2.06.94zm10 10l.94 2.06.94-2.06 2.06-.94-2.06-.94-.94-2.06-.94 2.06-2.06.94z\"/><path d=\"M17.41 7.96l-1.37-1.37c-.4-.4-.92-.59-1.43-.59-.52 0-1.04.2-1.43.59L10.3 9.45l-7.72 7.72c-.78.78-.78 2.05 0 2.83L4 21.41c.39.39.9.59 1.41.59.51 0 1.02-.2 1.41-.59l7.78-7.78 2.81-2.81c.8-.78.8-2.07 0-2.86zM5.41 20L4 18.59l7.72-7.72 1.47 1.35L5.41 20z\"/>\n",
       "  </svg>\n",
       "      </button>\n",
       "      \n",
       "  <style>\n",
       "    .colab-df-container {\n",
       "      display:flex;\n",
       "      flex-wrap:wrap;\n",
       "      gap: 12px;\n",
       "    }\n",
       "\n",
       "    .colab-df-convert {\n",
       "      background-color: #E8F0FE;\n",
       "      border: none;\n",
       "      border-radius: 50%;\n",
       "      cursor: pointer;\n",
       "      display: none;\n",
       "      fill: #1967D2;\n",
       "      height: 32px;\n",
       "      padding: 0 0 0 0;\n",
       "      width: 32px;\n",
       "    }\n",
       "\n",
       "    .colab-df-convert:hover {\n",
       "      background-color: #E2EBFA;\n",
       "      box-shadow: 0px 1px 2px rgba(60, 64, 67, 0.3), 0px 1px 3px 1px rgba(60, 64, 67, 0.15);\n",
       "      fill: #174EA6;\n",
       "    }\n",
       "\n",
       "    [theme=dark] .colab-df-convert {\n",
       "      background-color: #3B4455;\n",
       "      fill: #D2E3FC;\n",
       "    }\n",
       "\n",
       "    [theme=dark] .colab-df-convert:hover {\n",
       "      background-color: #434B5C;\n",
       "      box-shadow: 0px 1px 3px 1px rgba(0, 0, 0, 0.15);\n",
       "      filter: drop-shadow(0px 1px 2px rgba(0, 0, 0, 0.3));\n",
       "      fill: #FFFFFF;\n",
       "    }\n",
       "  </style>\n",
       "\n",
       "      <script>\n",
       "        const buttonEl =\n",
       "          document.querySelector('#df-4d246766-5fcd-4b43-8c78-64709e91e0e3 button.colab-df-convert');\n",
       "        buttonEl.style.display =\n",
       "          google.colab.kernel.accessAllowed ? 'block' : 'none';\n",
       "\n",
       "        async function convertToInteractive(key) {\n",
       "          const element = document.querySelector('#df-4d246766-5fcd-4b43-8c78-64709e91e0e3');\n",
       "          const dataTable =\n",
       "            await google.colab.kernel.invokeFunction('convertToInteractive',\n",
       "                                                     [key], {});\n",
       "          if (!dataTable) return;\n",
       "\n",
       "          const docLinkHtml = 'Like what you see? Visit the ' +\n",
       "            '<a target=\"_blank\" href=https://colab.research.google.com/notebooks/data_table.ipynb>data table notebook</a>'\n",
       "            + ' to learn more about interactive tables.';\n",
       "          element.innerHTML = '';\n",
       "          dataTable['output_type'] = 'display_data';\n",
       "          await google.colab.output.renderOutput(dataTable, element);\n",
       "          const docLink = document.createElement('div');\n",
       "          docLink.innerHTML = docLinkHtml;\n",
       "          element.appendChild(docLink);\n",
       "        }\n",
       "      </script>\n",
       "    </div>\n",
       "  </div>\n",
       "  "
      ],
      "text/plain": [
       "                                     Feature  Importance\n",
       "0         ORGANIZATION_TYPE_Industry: type 4    0.046538\n",
       "1            ORGANIZATION_TYPE_Trade: type 6    0.045070\n",
       "2         OCCUPATION_TYPE_Low-skill Laborers    0.044744\n",
       "3                   NONLIVINGAPARTMENTS_MEDI    0.027919\n",
       "4   ORGANIZATION_TYPE_Business Entity Type 1    0.021473\n",
       "5              ORGANIZATION_TYPE_Electricity    0.020194\n",
       "6                 ORGANIZATION_TYPE_Services    0.019372\n",
       "7                     DAYS_LAST_PHONE_CHANGE    0.017889\n",
       "8                                AMT_ANNUITY    0.017164\n",
       "9                  AMT_REQ_CREDIT_BUREAU_DAY    0.016388\n",
       "10                 AMT_REQ_CREDIT_BUREAU_QRT    0.015620\n",
       "11                            APARTMENTS_AVG    0.015392\n",
       "12                AMT_REQ_CREDIT_BUREAU_YEAR    0.015199\n",
       "13  ORGANIZATION_TYPE_Business Entity Type 2    0.015018\n",
       "14                  OCCUPATION_TYPE_Managers    0.014929\n",
       "15      EXT_SOURCE_2 EXT_SOURCE_1 DAYS_BIRTH    0.014492\n",
       "16                           APARTMENTS_MEDI    0.014380\n",
       "17                          FLAG_DOCUMENT_15    0.014236\n",
       "18                          AMT_INCOME_TOTAL    0.014160\n",
       "19                             LANDAREA_MEDI    0.013505"
      ]
     },
     "execution_count": 104,
     "metadata": {},
     "output_type": "execute_result"
    }
   ],
   "source": [
    "sorted_importance.head(20)"
   ]
  },
  {
   "cell_type": "markdown",
   "metadata": {
    "id": "U1keSnrSOeq3"
   },
   "source": [
    "## 3. Extreme Gradient Boost Model"
   ]
  },
  {
   "cell_type": "code",
   "execution_count": 105,
   "metadata": {
    "id": "iGFGJSFPOeq5"
   },
   "outputs": [],
   "source": [
    "from xgboost import XGBClassifier"
   ]
  },
  {
   "cell_type": "code",
   "execution_count": 106,
   "metadata": {
    "id": "LN27FT8iOeq6"
   },
   "outputs": [],
   "source": [
    "xgb_classifier = XGBClassifier(n_estimators=250,max_depth=5)"
   ]
  },
  {
   "cell_type": "code",
   "execution_count": 107,
   "metadata": {
    "colab": {
     "base_uri": "https://localhost:8080/"
    },
    "id": "rdiLUXEuOeq7",
    "outputId": "e605d2c5-6d7c-4684-97ce-c72eec8aff74"
   },
   "outputs": [
    {
     "data": {
      "text/plain": [
       "XGBClassifier(max_depth=5, n_estimators=250)"
      ]
     },
     "execution_count": 107,
     "metadata": {},
     "output_type": "execute_result"
    }
   ],
   "source": [
    "xgb_classifier.fit(X_training_set,y_training_set)"
   ]
  },
  {
   "cell_type": "code",
   "execution_count": 108,
   "metadata": {
    "id": "HoNrAGeBOeq8"
   },
   "outputs": [],
   "source": [
    "xgb_pred = xgb_classifier.predict(X_validation_set)"
   ]
  },
  {
   "cell_type": "code",
   "execution_count": 109,
   "metadata": {
    "colab": {
     "base_uri": "https://localhost:8080/"
    },
    "id": "Tc49KIqDOeq-",
    "outputId": "f7f4ff2a-676f-4a40-9522-964a62b40011"
   },
   "outputs": [
    {
     "data": {
      "text/plain": [
       "0    101416\n",
       "1     85157\n",
       "Name: target, dtype: int64"
      ]
     },
     "execution_count": 109,
     "metadata": {},
     "output_type": "execute_result"
    }
   ],
   "source": [
    "pd.DataFrame({'target':xgb_pred})['target'].value_counts()"
   ]
  },
  {
   "cell_type": "code",
   "execution_count": 110,
   "metadata": {
    "colab": {
     "base_uri": "https://localhost:8080/"
    },
    "id": "uc1gMGxgOeq_",
    "outputId": "e39833a5-fad4-4549-e1fc-c4088750952f"
   },
   "outputs": [
    {
     "name": "stdout",
     "output_type": "stream",
     "text": [
      "The accuracy in general is :  0.9550738852888682\n",
      "\n",
      "\n",
      "The classification report is as follows:\n",
      "               precision    recall  f1-score   support\n",
      "\n",
      "           0       0.92      1.00      0.96     93370\n",
      "           1       1.00      0.91      0.95     93203\n",
      "\n",
      "    accuracy                           0.96    186573\n",
      "   macro avg       0.96      0.96      0.95    186573\n",
      "weighted avg       0.96      0.96      0.95    186573\n",
      "\n",
      "ROC AUC score is:  0.9550352482321037\n"
     ]
    }
   ],
   "source": [
    "from sklearn.metrics import accuracy_score,classification_report,roc_auc_score\n",
    "print(\"The accuracy in general is : \", accuracy_score(y_validation_set,xgb_pred))\n",
    "print(\"\\n\")\n",
    "print(\"The classification report is as follows:\\n\", classification_report(y_validation_set,xgb_pred))\n",
    "print(\"ROC AUC score is: \",roc_auc_score(y_validation_set,xgb_pred))"
   ]
  },
  {
   "cell_type": "markdown",
   "metadata": {
    "id": "GHnRV2DZOerA"
   },
   "source": [
    "## XGBoost Feature Importance"
   ]
  },
  {
   "cell_type": "code",
   "execution_count": 111,
   "metadata": {
    "id": "K5Ami9UaOerC"
   },
   "outputs": [],
   "source": [
    "xgb_feature_importance_df = pd.DataFrame({'Feature':features,'Importance':xgb_classifier.feature_importances_})"
   ]
  },
  {
   "cell_type": "code",
   "execution_count": 112,
   "metadata": {
    "colab": {
     "base_uri": "https://localhost:8080/",
     "height": 551
    },
    "id": "cEnbfml_OerD",
    "outputId": "acda399a-b690-4e72-9364-0f1cb7fb8a33"
   },
   "outputs": [
    {
     "data": {
      "image/png": "[encoded data removed]",
      "text/plain": [
       "<Figure size 720x648 with 1 Axes>"
      ]
     },
     "metadata": {
      "needs_background": "light"
     },
     "output_type": "display_data"
    }
   ],
   "source": [
    "sorted_importance = plot_importance(xgb_feature_importance_df)"
   ]
  },
  {
   "cell_type": "code",
   "execution_count": 113,
   "metadata": {
    "colab": {
     "base_uri": "https://localhost:8080/",
     "height": 676
    },
    "id": "3keZhNXVOerF",
    "outputId": "184508de-b500-4a87-c759-bc0873dd48f9"
   },
   "outputs": [
    {
     "data": {
      "text/html": [
       "\n",
       "  <div id=\"df-d3493409-aa03-4a9d-8524-20f94d9c53e8\">\n",
       "    <div class=\"colab-df-container\">\n",
       "      <div>\n",
       "<style scoped>\n",
       "    .dataframe tbody tr th:only-of-type {\n",
       "        vertical-align: middle;\n",
       "    }\n",
       "\n",
       "    .dataframe tbody tr th {\n",
       "        vertical-align: top;\n",
       "    }\n",
       "\n",
       "    .dataframe thead th {\n",
       "        text-align: right;\n",
       "    }\n",
       "</style>\n",
       "<table border=\"1\" class=\"dataframe\">\n",
       "  <thead>\n",
       "    <tr style=\"text-align: right;\">\n",
       "      <th></th>\n",
       "      <th>Feature</th>\n",
       "      <th>Importance</th>\n",
       "    </tr>\n",
       "  </thead>\n",
       "  <tbody>\n",
       "    <tr>\n",
       "      <th>0</th>\n",
       "      <td>DAYS_LAST_PHONE_CHANGE</td>\n",
       "      <td>0.058357</td>\n",
       "    </tr>\n",
       "    <tr>\n",
       "      <th>1</th>\n",
       "      <td>ORGANIZATION_TYPE_Restaurant</td>\n",
       "      <td>0.049235</td>\n",
       "    </tr>\n",
       "    <tr>\n",
       "      <th>2</th>\n",
       "      <td>HOUSETYPE_MODE_terraced house</td>\n",
       "      <td>0.046674</td>\n",
       "    </tr>\n",
       "    <tr>\n",
       "      <th>3</th>\n",
       "      <td>NONLIVINGAPARTMENTS_MEDI</td>\n",
       "      <td>0.041546</td>\n",
       "    </tr>\n",
       "    <tr>\n",
       "      <th>4</th>\n",
       "      <td>EXT_SOURCE_3 EXT_SOURCE_2^2</td>\n",
       "      <td>0.034545</td>\n",
       "    </tr>\n",
       "    <tr>\n",
       "      <th>5</th>\n",
       "      <td>ORGANIZATION_TYPE_Trade: type 6</td>\n",
       "      <td>0.031827</td>\n",
       "    </tr>\n",
       "    <tr>\n",
       "      <th>6</th>\n",
       "      <td>ORGANIZATION_TYPE_Industry: type 4</td>\n",
       "      <td>0.030328</td>\n",
       "    </tr>\n",
       "    <tr>\n",
       "      <th>7</th>\n",
       "      <td>ORGANIZATION_TYPE_Religion</td>\n",
       "      <td>0.030262</td>\n",
       "    </tr>\n",
       "    <tr>\n",
       "      <th>8</th>\n",
       "      <td>ENTRANCES_MODE</td>\n",
       "      <td>0.026909</td>\n",
       "    </tr>\n",
       "    <tr>\n",
       "      <th>9</th>\n",
       "      <td>FLOORSMIN_MODE</td>\n",
       "      <td>0.025629</td>\n",
       "    </tr>\n",
       "    <tr>\n",
       "      <th>10</th>\n",
       "      <td>YEARS_BUILD_AVG</td>\n",
       "      <td>0.024527</td>\n",
       "    </tr>\n",
       "    <tr>\n",
       "      <th>11</th>\n",
       "      <td>OCCUPATION_TYPE_Laborers</td>\n",
       "      <td>0.024153</td>\n",
       "    </tr>\n",
       "    <tr>\n",
       "      <th>12</th>\n",
       "      <td>ORGANIZATION_TYPE_Services</td>\n",
       "      <td>0.022949</td>\n",
       "    </tr>\n",
       "    <tr>\n",
       "      <th>13</th>\n",
       "      <td>LANDAREA_MEDI</td>\n",
       "      <td>0.022283</td>\n",
       "    </tr>\n",
       "    <tr>\n",
       "      <th>14</th>\n",
       "      <td>NAME_INCOME_TYPE_Student</td>\n",
       "      <td>0.021847</td>\n",
       "    </tr>\n",
       "    <tr>\n",
       "      <th>15</th>\n",
       "      <td>DAYS_EMPLOYED</td>\n",
       "      <td>0.018146</td>\n",
       "    </tr>\n",
       "    <tr>\n",
       "      <th>16</th>\n",
       "      <td>LIVINGAPARTMENTS_MEDI</td>\n",
       "      <td>0.017816</td>\n",
       "    </tr>\n",
       "    <tr>\n",
       "      <th>17</th>\n",
       "      <td>OBS_30_CNT_SOCIAL_CIRCLE</td>\n",
       "      <td>0.017795</td>\n",
       "    </tr>\n",
       "    <tr>\n",
       "      <th>18</th>\n",
       "      <td>AMT_REQ_CREDIT_BUREAU_MON</td>\n",
       "      <td>0.016498</td>\n",
       "    </tr>\n",
       "    <tr>\n",
       "      <th>19</th>\n",
       "      <td>FONDKAPREMONT_MODE_org spec account</td>\n",
       "      <td>0.015232</td>\n",
       "    </tr>\n",
       "  </tbody>\n",
       "</table>\n",
       "</div>\n",
       "      <button class=\"colab-df-convert\" onclick=\"convertToInteractive('df-d3493409-aa03-4a9d-8524-20f94d9c53e8')\"\n",
       "              title=\"Convert this dataframe to an interactive table.\"\n",
       "              style=\"display:none;\">\n",
       "        \n",
       "  <svg xmlns=\"http://www.w3.org/2000/svg\" height=\"24px\"viewBox=\"0 0 24 24\"\n",
       "       width=\"24px\">\n",
       "    <path d=\"M0 0h24v24H0V0z\" fill=\"none\"/>\n",
       "    <path d=\"M18.56 5.44l.94 2.06.94-2.06 2.06-.94-2.06-.94-.94-2.06-.94 2.06-2.06.94zm-11 1L8.5 8.5l.94-2.06 2.06-.94-2.06-.94L8.5 2.5l-.94 2.06-2.06.94zm10 10l.94 2.06.94-2.06 2.06-.94-2.06-.94-.94-2.06-.94 2.06-2.06.94z\"/><path d=\"M17.41 7.96l-1.37-1.37c-.4-.4-.92-.59-1.43-.59-.52 0-1.04.2-1.43.59L10.3 9.45l-7.72 7.72c-.78.78-.78 2.05 0 2.83L4 21.41c.39.39.9.59 1.41.59.51 0 1.02-.2 1.41-.59l7.78-7.78 2.81-2.81c.8-.78.8-2.07 0-2.86zM5.41 20L4 18.59l7.72-7.72 1.47 1.35L5.41 20z\"/>\n",
       "  </svg>\n",
       "      </button>\n",
       "      \n",
       "  <style>\n",
       "    .colab-df-container {\n",
       "      display:flex;\n",
       "      flex-wrap:wrap;\n",
       "      gap: 12px;\n",
       "    }\n",
       "\n",
       "    .colab-df-convert {\n",
       "      background-color: #E8F0FE;\n",
       "      border: none;\n",
       "      border-radius: 50%;\n",
       "      cursor: pointer;\n",
       "      display: none;\n",
       "      fill: #1967D2;\n",
       "      height: 32px;\n",
       "      padding: 0 0 0 0;\n",
       "      width: 32px;\n",
       "    }\n",
       "\n",
       "    .colab-df-convert:hover {\n",
       "      background-color: #E2EBFA;\n",
       "      box-shadow: 0px 1px 2px rgba(60, 64, 67, 0.3), 0px 1px 3px 1px rgba(60, 64, 67, 0.15);\n",
       "      fill: #174EA6;\n",
       "    }\n",
       "\n",
       "    [theme=dark] .colab-df-convert {\n",
       "      background-color: #3B4455;\n",
       "      fill: #D2E3FC;\n",
       "    }\n",
       "\n",
       "    [theme=dark] .colab-df-convert:hover {\n",
       "      background-color: #434B5C;\n",
       "      box-shadow: 0px 1px 3px 1px rgba(0, 0, 0, 0.15);\n",
       "      filter: drop-shadow(0px 1px 2px rgba(0, 0, 0, 0.3));\n",
       "      fill: #FFFFFF;\n",
       "    }\n",
       "  </style>\n",
       "\n",
       "      <script>\n",
       "        const buttonEl =\n",
       "          document.querySelector('#df-d3493409-aa03-4a9d-8524-20f94d9c53e8 button.colab-df-convert');\n",
       "        buttonEl.style.display =\n",
       "          google.colab.kernel.accessAllowed ? 'block' : 'none';\n",
       "\n",
       "        async function convertToInteractive(key) {\n",
       "          const element = document.querySelector('#df-d3493409-aa03-4a9d-8524-20f94d9c53e8');\n",
       "          const dataTable =\n",
       "            await google.colab.kernel.invokeFunction('convertToInteractive',\n",
       "                                                     [key], {});\n",
       "          if (!dataTable) return;\n",
       "\n",
       "          const docLinkHtml = 'Like what you see? Visit the ' +\n",
       "            '<a target=\"_blank\" href=https://colab.research.google.com/notebooks/data_table.ipynb>data table notebook</a>'\n",
       "            + ' to learn more about interactive tables.';\n",
       "          element.innerHTML = '';\n",
       "          dataTable['output_type'] = 'display_data';\n",
       "          await google.colab.output.renderOutput(dataTable, element);\n",
       "          const docLink = document.createElement('div');\n",
       "          docLink.innerHTML = docLinkHtml;\n",
       "          element.appendChild(docLink);\n",
       "        }\n",
       "      </script>\n",
       "    </div>\n",
       "  </div>\n",
       "  "
      ],
      "text/plain": [
       "                                Feature  Importance\n",
       "0                DAYS_LAST_PHONE_CHANGE    0.058357\n",
       "1          ORGANIZATION_TYPE_Restaurant    0.049235\n",
       "2         HOUSETYPE_MODE_terraced house    0.046674\n",
       "3              NONLIVINGAPARTMENTS_MEDI    0.041546\n",
       "4           EXT_SOURCE_3 EXT_SOURCE_2^2    0.034545\n",
       "5       ORGANIZATION_TYPE_Trade: type 6    0.031827\n",
       "6    ORGANIZATION_TYPE_Industry: type 4    0.030328\n",
       "7            ORGANIZATION_TYPE_Religion    0.030262\n",
       "8                        ENTRANCES_MODE    0.026909\n",
       "9                        FLOORSMIN_MODE    0.025629\n",
       "10                      YEARS_BUILD_AVG    0.024527\n",
       "11             OCCUPATION_TYPE_Laborers    0.024153\n",
       "12           ORGANIZATION_TYPE_Services    0.022949\n",
       "13                        LANDAREA_MEDI    0.022283\n",
       "14             NAME_INCOME_TYPE_Student    0.021847\n",
       "15                        DAYS_EMPLOYED    0.018146\n",
       "16                LIVINGAPARTMENTS_MEDI    0.017816\n",
       "17             OBS_30_CNT_SOCIAL_CIRCLE    0.017795\n",
       "18            AMT_REQ_CREDIT_BUREAU_MON    0.016498\n",
       "19  FONDKAPREMONT_MODE_org spec account    0.015232"
      ]
     },
     "execution_count": 113,
     "metadata": {},
     "output_type": "execute_result"
    }
   ],
   "source": [
    "sorted_importance.head(20)"
   ]
  },
  {
   "cell_type": "markdown",
   "metadata": {
    "collapsed": true,
    "id": "FhSpsTFKOerH"
   },
   "source": [
    "## 4. LightGBM"
   ]
  },
  {
   "cell_type": "code",
   "execution_count": 114,
   "metadata": {
    "id": "SJGRThByOerI"
   },
   "outputs": [],
   "source": [
    "import lightgbm as lgb"
   ]
  },
  {
   "cell_type": "code",
   "execution_count": 115,
   "metadata": {
    "id": "uPwM_dyTOerJ"
   },
   "outputs": [],
   "source": [
    "lgb_classifier = lgb.LGBMClassifier(boosting_type='gbdt', class_weight=None, colsample_bytree=1.0,\n",
    "        learning_rate=0.1, max_depth=-1, min_child_samples=20,\n",
    "        min_child_weight=0.001, min_split_gain=0.0, n_estimators=100,\n",
    "        n_jobs=-1, num_leaves=40, objective=None, random_state=None,\n",
    "        reg_alpha=0.0, reg_lambda=0.0, silent=True, subsample=1.0,\n",
    "        subsample_for_bin=200000, subsample_freq=0)"
   ]
  },
  {
   "cell_type": "code",
   "execution_count": 116,
   "metadata": {
    "colab": {
     "base_uri": "https://localhost:8080/"
    },
    "id": "EXN5OKy-OerL",
    "outputId": "67c36ef9-e3f0-4c5b-8fc1-a0ec153367ee"
   },
   "outputs": [
    {
     "data": {
      "text/plain": [
       "LGBMClassifier(num_leaves=40)"
      ]
     },
     "execution_count": 116,
     "metadata": {},
     "output_type": "execute_result"
    }
   ],
   "source": [
    "lgb_classifier.fit(X_training_set,y_training_set)"
   ]
  },
  {
   "cell_type": "code",
   "execution_count": 117,
   "metadata": {
    "id": "lzRcahPVOerM"
   },
   "outputs": [],
   "source": [
    "lgb_pred = lgb_classifier.predict(X_validation_set)"
   ]
  },
  {
   "cell_type": "code",
   "execution_count": 118,
   "metadata": {
    "colab": {
     "base_uri": "https://localhost:8080/"
    },
    "id": "YhclwGPaOerN",
    "outputId": "994843db-2d23-4777-c9ca-01ab92960bb9"
   },
   "outputs": [
    {
     "data": {
      "text/plain": [
       "0    101526\n",
       "1     85047\n",
       "Name: target, dtype: int64"
      ]
     },
     "execution_count": 118,
     "metadata": {},
     "output_type": "execute_result"
    }
   ],
   "source": [
    "pd.DataFrame({'target':lgb_pred})['target'].value_counts()"
   ]
  },
  {
   "cell_type": "code",
   "execution_count": 119,
   "metadata": {
    "colab": {
     "base_uri": "https://localhost:8080/"
    },
    "id": "re-j5q73OerP",
    "outputId": "8a7518ee-13f0-412a-be4e-54d70abbc126"
   },
   "outputs": [
    {
     "name": "stdout",
     "output_type": "stream",
     "text": [
      "The accuracy in general is :  0.9549238099832237\n",
      "\n",
      "\n",
      "The classification report is as follows:\n",
      "               precision    recall  f1-score   support\n",
      "\n",
      "           0       0.92      1.00      0.96     93370\n",
      "           1       1.00      0.91      0.95     93203\n",
      "\n",
      "    accuracy                           0.95    186573\n",
      "   macro avg       0.96      0.95      0.95    186573\n",
      "weighted avg       0.96      0.95      0.95    186573\n",
      "\n",
      "ROC AUC score is:  0.9548846450760609\n"
     ]
    }
   ],
   "source": [
    "from sklearn.metrics import accuracy_score,classification_report,roc_auc_score\n",
    "print(\"The accuracy in general is : \", accuracy_score(y_validation_set,lgb_pred))\n",
    "print(\"\\n\")\n",
    "print(\"The classification report is as follows:\\n\", classification_report(y_validation_set,lgb_pred))\n",
    "print(\"ROC AUC score is: \",roc_auc_score(y_validation_set,lgb_pred))"
   ]
  },
  {
   "cell_type": "code",
   "execution_count": 120,
   "metadata": {
    "id": "i-cTBfAsOerQ"
   },
   "outputs": [],
   "source": [
    "lgb_feature_importance_df = pd.DataFrame({'Feature':features,'Importance':lgb_classifier.feature_importances_/np.sum(lgb_classifier.feature_importances_)})"
   ]
  },
  {
   "cell_type": "code",
   "execution_count": 121,
   "metadata": {
    "colab": {
     "base_uri": "https://localhost:8080/",
     "height": 551
    },
    "id": "g0LrRwwfOerS",
    "outputId": "811baab6-6791-4cab-c7a9-61dd1edb412f"
   },
   "outputs": [
    {
     "data": {
      "image/png": "[encoded data removed]",
      "text/plain": [
       "<Figure size 720x648 with 1 Axes>"
      ]
     },
     "metadata": {
      "needs_background": "light"
     },
     "output_type": "display_data"
    }
   ],
   "source": [
    "sorted_importance = plot_importance(lgb_feature_importance_df)"
   ]
  },
  {
   "cell_type": "markdown",
   "metadata": {
    "id": "4CKqeY8hOerU"
   },
   "source": [
    "# What are the top 20 features?"
   ]
  },
  {
   "cell_type": "code",
   "execution_count": 122,
   "metadata": {
    "colab": {
     "base_uri": "https://localhost:8080/",
     "height": 676
    },
    "id": "Jg4lXDEOOerV",
    "outputId": "4f433c5b-fa3e-4766-d623-91423163cc1d"
   },
   "outputs": [
    {
     "data": {
      "text/html": [
       "\n",
       "  <div id=\"df-921b21ca-f707-4110-bccd-e3db9301ea2c\">\n",
       "    <div class=\"colab-df-container\">\n",
       "      <div>\n",
       "<style scoped>\n",
       "    .dataframe tbody tr th:only-of-type {\n",
       "        vertical-align: middle;\n",
       "    }\n",
       "\n",
       "    .dataframe tbody tr th {\n",
       "        vertical-align: top;\n",
       "    }\n",
       "\n",
       "    .dataframe thead th {\n",
       "        text-align: right;\n",
       "    }\n",
       "</style>\n",
       "<table border=\"1\" class=\"dataframe\">\n",
       "  <thead>\n",
       "    <tr style=\"text-align: right;\">\n",
       "      <th></th>\n",
       "      <th>Feature</th>\n",
       "      <th>Importance</th>\n",
       "    </tr>\n",
       "  </thead>\n",
       "  <tbody>\n",
       "    <tr>\n",
       "      <th>0</th>\n",
       "      <td>FLAG_DOCUMENT_21</td>\n",
       "      <td>0.080769</td>\n",
       "    </tr>\n",
       "    <tr>\n",
       "      <th>1</th>\n",
       "      <td>ORGANIZATION_TYPE_Trade: type 6</td>\n",
       "      <td>0.068974</td>\n",
       "    </tr>\n",
       "    <tr>\n",
       "      <th>2</th>\n",
       "      <td>ORGANIZATION_TYPE_Industry: type 4</td>\n",
       "      <td>0.055897</td>\n",
       "    </tr>\n",
       "    <tr>\n",
       "      <th>3</th>\n",
       "      <td>ORGANIZATION_TYPE_Electricity</td>\n",
       "      <td>0.049487</td>\n",
       "    </tr>\n",
       "    <tr>\n",
       "      <th>4</th>\n",
       "      <td>DEF_60_CNT_SOCIAL_CIRCLE</td>\n",
       "      <td>0.042564</td>\n",
       "    </tr>\n",
       "    <tr>\n",
       "      <th>5</th>\n",
       "      <td>NONLIVINGAPARTMENTS_MEDI</td>\n",
       "      <td>0.038205</td>\n",
       "    </tr>\n",
       "    <tr>\n",
       "      <th>6</th>\n",
       "      <td>OCCUPATION_TYPE_Low-skill Laborers</td>\n",
       "      <td>0.028718</td>\n",
       "    </tr>\n",
       "    <tr>\n",
       "      <th>7</th>\n",
       "      <td>EXT_SOURCE_2 EXT_SOURCE_1 DAYS_BIRTH</td>\n",
       "      <td>0.025128</td>\n",
       "    </tr>\n",
       "    <tr>\n",
       "      <th>8</th>\n",
       "      <td>ORGANIZATION_TYPE_Services</td>\n",
       "      <td>0.023590</td>\n",
       "    </tr>\n",
       "    <tr>\n",
       "      <th>9</th>\n",
       "      <td>REGION_RATING_CLIENT_W_CITY</td>\n",
       "      <td>0.020513</td>\n",
       "    </tr>\n",
       "    <tr>\n",
       "      <th>10</th>\n",
       "      <td>ORGANIZATION_TYPE_Trade: type 3</td>\n",
       "      <td>0.020000</td>\n",
       "    </tr>\n",
       "    <tr>\n",
       "      <th>11</th>\n",
       "      <td>ENTRANCES_MODE</td>\n",
       "      <td>0.018718</td>\n",
       "    </tr>\n",
       "    <tr>\n",
       "      <th>12</th>\n",
       "      <td>FLOORSMIN_MODE</td>\n",
       "      <td>0.017692</td>\n",
       "    </tr>\n",
       "    <tr>\n",
       "      <th>13</th>\n",
       "      <td>FLAG_EMP_PHONE</td>\n",
       "      <td>0.017436</td>\n",
       "    </tr>\n",
       "    <tr>\n",
       "      <th>14</th>\n",
       "      <td>LANDAREA_MEDI</td>\n",
       "      <td>0.015641</td>\n",
       "    </tr>\n",
       "    <tr>\n",
       "      <th>15</th>\n",
       "      <td>AMT_REQ_CREDIT_BUREAU_WEEK</td>\n",
       "      <td>0.014872</td>\n",
       "    </tr>\n",
       "    <tr>\n",
       "      <th>16</th>\n",
       "      <td>AMT_ANNUITY</td>\n",
       "      <td>0.014615</td>\n",
       "    </tr>\n",
       "    <tr>\n",
       "      <th>17</th>\n",
       "      <td>ORGANIZATION_TYPE_Self-employed</td>\n",
       "      <td>0.014103</td>\n",
       "    </tr>\n",
       "    <tr>\n",
       "      <th>18</th>\n",
       "      <td>NAME_EDUCATION_TYPE_Lower secondary</td>\n",
       "      <td>0.013846</td>\n",
       "    </tr>\n",
       "    <tr>\n",
       "      <th>19</th>\n",
       "      <td>YEARS_BUILD_AVG</td>\n",
       "      <td>0.013590</td>\n",
       "    </tr>\n",
       "  </tbody>\n",
       "</table>\n",
       "</div>\n",
       "      <button class=\"colab-df-convert\" onclick=\"convertToInteractive('df-921b21ca-f707-4110-bccd-e3db9301ea2c')\"\n",
       "              title=\"Convert this dataframe to an interactive table.\"\n",
       "              style=\"display:none;\">\n",
       "        \n",
       "  <svg xmlns=\"http://www.w3.org/2000/svg\" height=\"24px\"viewBox=\"0 0 24 24\"\n",
       "       width=\"24px\">\n",
       "    <path d=\"M0 0h24v24H0V0z\" fill=\"none\"/>\n",
       "    <path d=\"M18.56 5.44l.94 2.06.94-2.06 2.06-.94-2.06-.94-.94-2.06-.94 2.06-2.06.94zm-11 1L8.5 8.5l.94-2.06 2.06-.94-2.06-.94L8.5 2.5l-.94 2.06-2.06.94zm10 10l.94 2.06.94-2.06 2.06-.94-2.06-.94-.94-2.06-.94 2.06-2.06.94z\"/><path d=\"M17.41 7.96l-1.37-1.37c-.4-.4-.92-.59-1.43-.59-.52 0-1.04.2-1.43.59L10.3 9.45l-7.72 7.72c-.78.78-.78 2.05 0 2.83L4 21.41c.39.39.9.59 1.41.59.51 0 1.02-.2 1.41-.59l7.78-7.78 2.81-2.81c.8-.78.8-2.07 0-2.86zM5.41 20L4 18.59l7.72-7.72 1.47 1.35L5.41 20z\"/>\n",
       "  </svg>\n",
       "      </button>\n",
       "      \n",
       "  <style>\n",
       "    .colab-df-container {\n",
       "      display:flex;\n",
       "      flex-wrap:wrap;\n",
       "      gap: 12px;\n",
       "    }\n",
       "\n",
       "    .colab-df-convert {\n",
       "      background-color: #E8F0FE;\n",
       "      border: none;\n",
       "      border-radius: 50%;\n",
       "      cursor: pointer;\n",
       "      display: none;\n",
       "      fill: #1967D2;\n",
       "      height: 32px;\n",
       "      padding: 0 0 0 0;\n",
       "      width: 32px;\n",
       "    }\n",
       "\n",
       "    .colab-df-convert:hover {\n",
       "      background-color: #E2EBFA;\n",
       "      box-shadow: 0px 1px 2px rgba(60, 64, 67, 0.3), 0px 1px 3px 1px rgba(60, 64, 67, 0.15);\n",
       "      fill: #174EA6;\n",
       "    }\n",
       "\n",
       "    [theme=dark] .colab-df-convert {\n",
       "      background-color: #3B4455;\n",
       "      fill: #D2E3FC;\n",
       "    }\n",
       "\n",
       "    [theme=dark] .colab-df-convert:hover {\n",
       "      background-color: #434B5C;\n",
       "      box-shadow: 0px 1px 3px 1px rgba(0, 0, 0, 0.15);\n",
       "      filter: drop-shadow(0px 1px 2px rgba(0, 0, 0, 0.3));\n",
       "      fill: #FFFFFF;\n",
       "    }\n",
       "  </style>\n",
       "\n",
       "      <script>\n",
       "        const buttonEl =\n",
       "          document.querySelector('#df-921b21ca-f707-4110-bccd-e3db9301ea2c button.colab-df-convert');\n",
       "        buttonEl.style.display =\n",
       "          google.colab.kernel.accessAllowed ? 'block' : 'none';\n",
       "\n",
       "        async function convertToInteractive(key) {\n",
       "          const element = document.querySelector('#df-921b21ca-f707-4110-bccd-e3db9301ea2c');\n",
       "          const dataTable =\n",
       "            await google.colab.kernel.invokeFunction('convertToInteractive',\n",
       "                                                     [key], {});\n",
       "          if (!dataTable) return;\n",
       "\n",
       "          const docLinkHtml = 'Like what you see? Visit the ' +\n",
       "            '<a target=\"_blank\" href=https://colab.research.google.com/notebooks/data_table.ipynb>data table notebook</a>'\n",
       "            + ' to learn more about interactive tables.';\n",
       "          element.innerHTML = '';\n",
       "          dataTable['output_type'] = 'display_data';\n",
       "          await google.colab.output.renderOutput(dataTable, element);\n",
       "          const docLink = document.createElement('div');\n",
       "          docLink.innerHTML = docLinkHtml;\n",
       "          element.appendChild(docLink);\n",
       "        }\n",
       "      </script>\n",
       "    </div>\n",
       "  </div>\n",
       "  "
      ],
      "text/plain": [
       "                                 Feature  Importance\n",
       "0                       FLAG_DOCUMENT_21    0.080769\n",
       "1        ORGANIZATION_TYPE_Trade: type 6    0.068974\n",
       "2     ORGANIZATION_TYPE_Industry: type 4    0.055897\n",
       "3          ORGANIZATION_TYPE_Electricity    0.049487\n",
       "4               DEF_60_CNT_SOCIAL_CIRCLE    0.042564\n",
       "5               NONLIVINGAPARTMENTS_MEDI    0.038205\n",
       "6     OCCUPATION_TYPE_Low-skill Laborers    0.028718\n",
       "7   EXT_SOURCE_2 EXT_SOURCE_1 DAYS_BIRTH    0.025128\n",
       "8             ORGANIZATION_TYPE_Services    0.023590\n",
       "9            REGION_RATING_CLIENT_W_CITY    0.020513\n",
       "10       ORGANIZATION_TYPE_Trade: type 3    0.020000\n",
       "11                        ENTRANCES_MODE    0.018718\n",
       "12                        FLOORSMIN_MODE    0.017692\n",
       "13                        FLAG_EMP_PHONE    0.017436\n",
       "14                         LANDAREA_MEDI    0.015641\n",
       "15            AMT_REQ_CREDIT_BUREAU_WEEK    0.014872\n",
       "16                           AMT_ANNUITY    0.014615\n",
       "17       ORGANIZATION_TYPE_Self-employed    0.014103\n",
       "18   NAME_EDUCATION_TYPE_Lower secondary    0.013846\n",
       "19                       YEARS_BUILD_AVG    0.013590"
      ]
     },
     "execution_count": 122,
     "metadata": {},
     "output_type": "execute_result"
    }
   ],
   "source": [
    "sorted_importance.head(20)"
   ]
  },
  {
   "cell_type": "markdown",
   "metadata": {
    "id": "Zi80xl5YiruI"
   },
   "source": [
    "# My Submissions in Kaggle "
   ]
  },
  {
   "cell_type": "code",
   "execution_count": 127,
   "metadata": {
    "id": "sQ5YlvgROerW"
   },
   "outputs": [],
   "source": [
    "xgb_classifier_pred_test = xgb_classifier.predict_proba(test_transformed)"
   ]
  },
  {
   "cell_type": "code",
   "execution_count": 128,
   "metadata": {
    "id": "28282TNlgRLa"
   },
   "outputs": [],
   "source": [
    "submission_xgb_classifier = test[['SK_ID_CURR']]\n",
    "submission_xgb_classifier['TARGET'] = xgb_classifier_pred_test[:,1]"
   ]
  },
  {
   "cell_type": "code",
   "execution_count": 129,
   "metadata": {
    "id": "DcqjPCD_glHt"
   },
   "outputs": [],
   "source": [
    "submission_xgb_classifier.to_csv(\"submission_xgb_classifier.csv\",index=False)"
   ]
  },
  {
   "cell_type": "code",
   "execution_count": 9,
   "metadata": {
    "id": "jCUum8p-gnKe"
   },
   "outputs": [
    {
     "data": {
      "image/png": "[encoded data removed]",
      "text/plain": [
       "<IPython.core.display.Image object>"
      ]
     },
     "execution_count": 9,
     "metadata": {},
     "output_type": "execute_result"
    }
   ],
   "source": [
    "from IPython.display import Image\n",
    "Image(\"../img_result/nqd.PNG\")\n"
   ]
  },
  {
   "cell_type": "code",
   "execution_count": null,
   "metadata": {},
   "outputs": [],
   "source": []
  }
 ],
 "metadata": {
  "colab": {
   "name": "EDA_and_Model.ipynb",
   "provenance": []
  },
  "kernelspec": {
   "display_name": "Python 3 (ipykernel)",
   "language": "python",
   "name": "python3"
  },
  "language_info": {
   "codemirror_mode": {
    "name": "ipython",
    "version": 3
   },
   "file_extension": ".py",
   "mimetype": "text/x-python",
   "name": "python",
   "nbconvert_exporter": "python",
   "pygments_lexer": "ipython3",
   "version": "3.7.11"
  }
 },
 "nbformat": 4,
 "nbformat_minor": 1
}
